{
 "metadata": {
  "name": "SegmentingSpotsAndThinning"
 },
 "nbformat": 3,
 "nbformat_minor": 0,
 "worksheets": [
  {
   "cells": [
    {
     "cell_type": "code",
     "collapsed": false,
     "input": [
      "import numpy as np\n",
      "import nipype as ni\n",
      "import nibabel as nib\n",
      "import os \n",
      "\n",
      "image = nib.load('Data/PySBR/S063_grade_0.nii.gz')\n",
      "data = image.get_data()\n",
      "hdr = image.get_header()\n",
      "\n"
     ],
     "language": "python",
     "metadata": {},
     "outputs": [
      {
       "output_type": "stream",
       "stream": "stdout",
       "text": [
        "(array([148825,   4567,   4202,   8327,  14029,    350,    165,    122,\n",
        "           56,     25]), array([   0.        ,   15.49416046,   30.98832092,   46.48248138,\n",
        "         61.97664185,   77.47080231,   92.96496277,  108.45912323,\n",
        "        123.95328369,  139.44744415,  154.94160461]))\n"
       ]
      }
     ],
     "prompt_number": 5
    },
    {
     "cell_type": "code",
     "collapsed": false,
     "input": [
      "(counts,centers) = np.histogram(data, 256)\n",
      "c = 0\n",
      "decile = data.size / 800\n",
      "threshbin = 255; \n",
      "while c < decile:\n",
      "    c = c + counts[threshbin]\n",
      "    threshbin = threshbin - 1\n",
      "    \n",
      "print(\"{} pixels above {}\".format(c, centers[threshbin]))\n",
      "\n",
      "high_intensities = np.ma.masked_greater(data, centers[threshbin])\n",
      "mask = high_intensities.mask\n",
      "\n",
      "nib.save( nib.Nifti1Image(mask, image.get_affine(), hdr ), 'Data/PySBR/tmp/mask.nii.gz' )\n",
      "\n"
     ],
     "language": "python",
     "metadata": {},
     "outputs": [
      {
       "output_type": "stream",
       "stream": "stdout",
       "text": [
        "226 pixels above 105.311871886\n"
       ]
      }
     ],
     "prompt_number": 36
    },
    {
     "cell_type": "code",
     "collapsed": false,
     "input": [
      "import sys\n",
      "sys.path.insert(0, 'Documents/PySBR/pysbr/thinning3d/build/lib.linux-x86_64-2.7/')\n",
      "import sbr"
     ],
     "language": "python",
     "metadata": {},
     "outputs": [],
     "prompt_number": 1
    },
    {
     "cell_type": "code",
     "collapsed": false,
     "input": [
      "help( sbr.findspots3d )"
     ],
     "language": "python",
     "metadata": {},
     "outputs": [
      {
       "output_type": "stream",
       "stream": "stdout",
       "text": [
        "Help on built-in function findspots3d in module sbr:\n",
        "\n",
        "findspots3d(...)\n",
        "    find two hostspots in the  given image and return the label masks of the areas. Parameters: \n",
        "       image: the image to search the two spots in\n",
        "       rseedlimit: relative intensity (from mean image intensity) for possible hotspot seed pixel.\n",
        "       rspotmeanlimit: relative intensity for region growing (from mean masked area image intensity)\n",
        "       rspotbridgelimit: relative intensity for region growing (from minimum intensity of the pixels   that form the bridge between the hotspots)\n",
        "       maxvolume: Maxium volume of a hotspot area in pixels\n",
        "       boundinbox: tuple ((x1,y1,z1),(x2,y2,z2)) that defines a bounding box to restrict the search for spots\n",
        "       uphill: factor that describes in region growing by which factor the intensity may increase to still add to the region, should be >= 1.0\n",
        "    Returns a tuple (mask, nlabels, (seeds), (volumes)) with mask: the label mask image containing the hot areas; lower label number corresponds to the hot spot with higher intensity, nlabels: the number of labeled areas, seeds: the hotspot area seeds points as tuples, and volumes: the volumes of the segmentate regions.\n",
        "\n"
       ]
      }
     ],
     "prompt_number": 2
    },
    {
     "cell_type": "code",
     "collapsed": false,
     "input": [
      "import sys\n",
      "sys.path.insert(0, 'Documents/PySBR/pysbr/thinning3d/build/lib.linux-x86_64-2.7/')\n",
      "import sbr\n",
      "\n",
      "sbr.thinning3d(mask)\n",
      "nib.save( nib.Nifti1Image(mask, image.get_affine(), hdr ), 'Data/PySBR/tmp/thinned.nii.gz' )\n"
     ],
     "language": "python",
     "metadata": {},
     "outputs": [],
     "prompt_number": 40
    }
   ],
   "metadata": {}
  }
 ]
}
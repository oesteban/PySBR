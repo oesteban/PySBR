{
 "metadata": {
  "name": "RealTemplate"
 },
 "nbformat": 3,
 "nbformat_minor": 0,
 "worksheets": [
  {
   "cells": [
    {
     "cell_type": "code",
     "collapsed": false,
     "input": [
      "import nibabel as nib\n",
      "import numpy as np\n",
      "import scipy.ndimage as im\n",
      "import os.path as op\n",
      "import os\n",
      "\n",
      "import sys\n",
      "sys.path.append( op.abspath( '../pysbr/') )\n",
      "\n",
      "from interfaces import TemplateSource\n",
      "\n",
      "import matplotlib.pyplot as plt\n",
      "import mpl_toolkits.mplot3d.axes3d as axes3d\n",
      "from math import asin"
     ],
     "language": "python",
     "metadata": {},
     "outputs": [],
     "prompt_number": 3
    },
    {
     "cell_type": "code",
     "collapsed": false,
     "input": [
      "data_dir = op.abspath( '/media/mnemea/MINDt-Quantidopa/Templates/' )\n",
      "work_dir = op.join( data_dir, 'NormalTemplate' )\n",
      "\n",
      "if not op.exists( work_dir ):\n",
      "    os.makedirs( work_dir )"
     ],
     "language": "python",
     "metadata": {},
     "outputs": [],
     "prompt_number": 2
    },
    {
     "cell_type": "code",
     "collapsed": false,
     "input": [
      "tfilename = op.join( data_dir, 'NormalTemplate.nii.gz' )\n",
      "spm_t1 = op.join( data_dir, 'T1_template.nii.gz' )\n",
      "spm_brainmask = op.join( data_dir, 'brainmask_template.nii.gz' )\n",
      "\n",
      "roifile =  op.join( work_dir, 'roi.nii.gz' )\n",
      "tmplmsk =  op.join( work_dir, 'mask.nii.gz' )\n",
      "maskfile = op.join( work_dir, 'findspots3d_mask.nii.gz' )\n",
      "spotfile = op.join( work_dir, 'spots.txt' )\n",
      "comsfile = op.join( work_dir, 'spots_coms.txt' )\n",
      "farfile =  op.join( work_dir, 'spots_furthest.txt' )\n",
      "thinfile = op.join( work_dir, 'findspots3d_thin.nii.gz' )\n",
      "fixspots = op.join( work_dir, 'spots_pial.txt' )\n",
      "\n",
      "\n",
      "fixedskullspotsfile = op.join( work_dir, 'tskullspots.nii.gz' )\n"
     ],
     "language": "python",
     "metadata": {},
     "outputs": [],
     "prompt_number": 3
    },
    {
     "cell_type": "markdown",
     "metadata": {},
     "source": [
      "<h1>Template additional data</h1>\n",
      "Necessary code for obtaining:\n",
      "<ul>\n",
      "    <li>ROI: Manual definition of the template mask</li>\n",
      "    <li>Fixed points in the pial surface</li>\n",
      "</ul>"
     ]
    },
    {
     "cell_type": "code",
     "collapsed": false,
     "input": [
      "template_im = nib.load( tfilename )\n",
      "data = template_im.get_data()\n",
      "\n",
      "template_mask = np.zeros( shape=data.shape )\n",
      "\n",
      "              # X       Y       Z\n",
      "template_mask[ 30:81, 45:75, 32:57 ] = 1\n",
      "\n",
      "nib.save( nib.Nifti1Image( template_mask, template_im.get_affine(), template_im.get_header() ), tmplmsk )\n",
      "\n",
      "template_roi = data * template_mask\n",
      "nib.save( nib.Nifti1Image( template_roi, template_im.get_affine(), template_im.get_header() ), roifile )"
     ],
     "language": "python",
     "metadata": {},
     "outputs": []
    },
    {
     "cell_type": "code",
     "collapsed": false,
     "input": [
      "bmaskimg = nib.load( spm_brainmask )\n",
      "imshape = bmaskimg.get_shape()\n",
      "bmask = bmaskimg.get_data()\n",
      "\n",
      "bmask[bmask>0] = 1.0\n",
      "\n",
      "bmask_eroded = im.binary_erosion( bmask ).astype( uint8 )\n",
      "\n",
      "boundary = bmask - bmask_eroded\n",
      "cmass = np.array( center_of_mass( boundary ), dtype=int )\n",
      "\n",
      "idxs = np.swapaxes( np.where( boundary==1 ), 0, 1 )\n",
      "\n",
      "pointcloud = np.zeros( shape=imshape )\n",
      "\n",
      "ntheta = 6\n",
      "nphi = 6\n",
      "\n",
      "coords_list = []\n",
      "\n",
      "for theta in np.linspace( 0, np.pi-(np.pi/ntheta), ntheta ):\n",
      "    for phi in np.linspace( 0, 2* np.pi-(np.pi/nphi), 2* nphi ):\n",
      "        coords = np.array( [ sin( theta ) * cos( phi ), sin( theta ) * sin( phi ), cos( theta ) ] )\n",
      "        coords_list.append( coords )\n",
      "        for r in np.linspace( 0, 400, 500):\n",
      "            idx = tuple( (r * coords + cmass).astype(int) )\n",
      "            try:\n",
      "                if boundary[ idx ] == 1:\n",
      "                    pointcloud[ idx ] = 1\n",
      "                    break\n",
      "            except IndexError:\n",
      "                break\n",
      "\n",
      "pointcloud = pointcloud * boundary\n",
      "\n",
      "skullpoints = np.swapaxes( np.array( np.where( pointcloud==1 ) ), 0, 1 )\n",
      "\n",
      "raysfile = op.join( work_dir, 'rays.nii.gz' )\n",
      "nib.save( nib.Nifti1Image( pointcloud.astype(uint8), bmaskimg.get_affine() ), raysfile )\n",
      "\n",
      "bfile = op.join( work_dir, 'boundary.nii.gz' )\n",
      "nib.save( nib.Nifti1Image( boundary.astype(uint8), bmaskimg.get_affine() ), bfile )\n",
      "\n",
      "npoints = int(np.sum( pointcloud ))\n",
      "\n",
      "np.savetxt( fixspots, skullpoints, fmt='%d' )\n"
     ],
     "language": "python",
     "metadata": {},
     "outputs": []
    },
    {
     "cell_type": "markdown",
     "metadata": {},
     "source": [
      "<h1>Landmark definition</h1>\n",
      "Using the nipype interfaces"
     ]
    },
    {
     "cell_type": "code",
     "collapsed": false,
     "input": [
      "fspots = pysbr.FindPrincipalSpots()\n",
      "fspots.inputs.in_file = tfilename\n",
      "fspots.inputs.in_roi = tmplmsk\n",
      "fspots.inputs.out_labels = maskfile\n",
      "fspots.inputs.out_spotfile = spotfile\n",
      "res1 = fspots.run()\n",
      "\n",
      "fthin = pysbr.Thinning()\n",
      "fthin.inputs.in_file = maskfile\n",
      "fthin.inputs.out_file = thinfile\n",
      "res2 = fthin.run()\n",
      "\n",
      "\n",
      "fsecond = pysbr.FindSecondarySpots()\n",
      "fsecond.inputs.in_file = maskfile\n",
      "fsecond.inputs.in_spotsfile = spotfile\n",
      "fsecond.inputs.out_extreme = farfile\n",
      "fsecond.inputs.out_middle = comsfile\n",
      "res3 = fsecond.run()"
     ],
     "language": "python",
     "metadata": {},
     "outputs": []
    },
    {
     "cell_type": "markdown",
     "metadata": {},
     "source": [
      "The following code is just to output the resulting hotspots, with dilation to make them more visible"
     ]
    },
    {
     "cell_type": "code",
     "collapsed": false,
     "input": [
      "hotspots = np.loadtxt( res1.outputs.out_spotfile )\n",
      "furthest = np.loadtxt( res3.outputs.out_extreme )\n",
      "second_furthest = np.loadtxt( res3.outputs.out_middle )\n",
      "\n",
      "template_im = nib.load(tmplmsk)\n",
      "datashape = template_im.get_shape()\n",
      "\n",
      "for i,points in enumerate([ hotspots, furthest, second_furthest ]):\n",
      "    testpoints = np.zeros( shape=datashape )\n",
      "    for p in points:\n",
      "        testpoints[ int(p[0]), int(p[1]), int(p[2]) ] = 1\n",
      "    testpoints = im.binary_dilation( testpoints ).astype( uint8 )\n",
      "    nib.save( nib.Nifti1Image( testpoints, template_im.get_affine(), template_im.get_header() ), op.join(work_dir,'spots_%d.nii.gz' % i ) )\n"
     ],
     "language": "python",
     "metadata": {},
     "outputs": []
    },
    {
     "cell_type": "code",
     "collapsed": false,
     "input": [
      "import pysbr_nipype as pysbr\n",
      "\n",
      "interp = pysbr.EBSTransform()\n",
      "interp.inputs.in_source = '../data/template/normal.nii.gz'\n",
      "interp.inputs.in_target = '../data/template/normal.nii.gz'\n",
      "interp.inputs.in_target_points = '../data/template/spots_furthest.txt'\n",
      "interp.inputs.in_fixed_points = '../data/template/spots_pial.txt'\n",
      "interp.inputs.in_source_points = '../data/template/spots.txt'\n",
      "interp.inputs.out_moving = '../data/template/test_interp.nii.gz'\n",
      "interp.run()"
     ],
     "language": "python",
     "metadata": {},
     "outputs": [
      {
       "output_type": "stream",
       "stream": "stderr",
       "text": [
        "Warning: Unknown parameter 'itk::DefaultStaticMeshTraits< float,2,2,float,float >' in template 'itk::PointSet'\n",
        "Warning: Unknown parameter 'itk::DefaultDynamicMeshTraits< float,2,2,float,float >' in template 'itk::PointSet'\n",
        "Warning: Unknown parameter 'itk::DefaultStaticMeshTraits< float,3,3,float,float >' in template 'itk::PointSet'\n",
        "Warning: Unknown parameter 'itk::DefaultDynamicMeshTraits< float,3,3,float,float >' in template 'itk::PointSet'\n",
        "Warning: Unknown parameter 'itk::DefaultStaticMeshTraits< double,2,2,double,double,double >' in template 'itk::PointSet'\n",
        "Warning: Unknown parameter 'itk::DefaultStaticMeshTraits< double,3,3,double,double,double >' in template 'itk::PointSet'\n",
        "Warning: Unknown parameter 'itk::DefaultStaticMeshTraits< itk::Matrix <double,2,2>,2,2,float,float,itk::Matrix <double,2,2> >' in template 'itk::PointSet'\n",
        "Warning: Unknown parameter 'itk::DefaultStaticMeshTraits< itk::Matrix <double,3,3>,3,3,float,float,itk::Matrix <double,3,3> >' in template 'itk::PointSet'\n",
        "Warning: Unknown parameter 'itk::DefaultStaticMeshTraits< float,2,2,float,float >' in template 'itk::Mesh'"
       ]
      },
      {
       "output_type": "stream",
       "stream": "stderr",
       "text": [
        "\n",
        "Warning: Unknown parameter 'itk::DefaultDynamicMeshTraits< float,2,2,float,float >' in template 'itk::Mesh'\n",
        "Warning: Unknown parameter 'itk::DefaultStaticMeshTraits< float,3,3,float,float >' in template 'itk::Mesh'\n",
        "Warning: Unknown parameter 'itk::DefaultDynamicMeshTraits< float,3,3,float,float >' in template 'itk::Mesh'\n",
        "Warning: Unknown parameter 'itk::CellInterface< float, itk::CellTraitsInfo< 2,float,float,unsigned long,unsigned long,unsigned long,itk::Point< float,2 >,itk::MapContainer< unsigned long,itk::Point< float,2 > >, std::set< unsigned long, std::less< unsigned long > > > > *' in template 'itk::MapContainer'\n",
        "Warning: Unknown parameter 'itk::CellInterface< double, itk::CellTraitsInfo< 2,double,double,unsigned long,unsigned long,unsigned long,itk::Point< double,2 >,itk::MapContainer< unsigned long,itk::Point< double,2 > >, std::set< unsigned long, std::less< unsigned long > > > > *' in template 'itk::MapContainer'\n",
        "Warning: Unknown parameter 'itk::CellInterface< float, itk::CellTraitsInfo< 3,float,float,unsigned long,unsigned long,unsigned long,itk::Point< float,3 >,itk::MapContainer< unsigned long,itk::Point< float,3 > >, std::set< unsigned long, std::less< unsigned long > > > > *' in template 'itk::MapContainer'\n",
        "Warning: Unknown parameter 'itk::CellInterface< double, itk::CellTraitsInfo< 3,double,double,unsigned long,unsigned long,unsigned long,itk::Point< double,3 >,itk::MapContainer< unsigned long,itk::Point< double,3 > >, std::set< unsigned long, std::less< unsigned long > > > > *' in template 'itk::MapContainer'\n",
        "Warning: Unknown parameter 'itk::CellInterface< float, itk::CellTraitsInfo< 2,float,float,unsigned long,unsigned long,unsigned long,itk::Point< float,2 >,itk::MapContainer< unsigned long,itk::Point< float,2 > >, std::set< unsigned long, std::less< unsigned long > > > > *' in template 'itk::VectorContainer'\n",
        "Warning: Unknown parameter 'itk::CellInterface< double, itk::CellTraitsInfo< 2,double,double,unsigned long,unsigned long,unsigned long,itk::Point< double,2 >,itk::MapContainer< unsigned long,itk::Point< double,2 > >, std::set< unsigned long, std::less< unsigned long > > > > *' in template 'itk::VectorContainer'\n",
        "Warning: Unknown parameter 'itk::CellInterface< float, itk::CellTraitsInfo< 3,float,float,unsigned long,unsigned long,unsigned long,itk::Point< float,3 >,itk::MapContainer< unsigned long,itk::Point< float,3 > >, std::set< unsigned long, std::less< unsigned long > > > > *' in template 'itk::VectorContainer'\n",
        "Warning: Unknown parameter 'itk::CellInterface< double, itk::CellTraitsInfo< 3,double,double,unsigned long,unsigned long,unsigned long,itk::Point< double,3 >,itk::MapContainer< unsigned long,itk::Point< double,3 > >, std::set< unsigned long, std::less< unsigned long > > > > *' in template 'itk::VectorContainer'\n",
        "Warning: Unknown parameter 'itk::CellTraitsInfo< 2,float,float,unsigned long,unsigned long,unsigned long,itk::Point< float,2 >,itk::MapContainer< unsigned long,itk::Point< float,2 > >, std::set< unsigned long, std::less< unsigned long > > >' in template 'itk::CellInterfaceVisitor'\n",
        "Warning: Unknown parameter 'itk::CellTraitsInfo< 2,double,double,unsigned long,unsigned long,unsigned long,itk::Point< double,2 >,itk::MapContainer< unsigned long,itk::Point< double,2 > >, std::set< unsigned long, std::less< unsigned long > > >' in template 'itk::CellInterfaceVisitor'\n",
        "Warning: Unknown parameter 'itk::CellTraitsInfo< 3,float,float,unsigned long,unsigned long,unsigned long,itk::Point< float,3 >,itk::MapContainer< unsigned long,itk::Point< float,3 > >, std::set< unsigned long, std::less< unsigned long > > >' in template 'itk::CellInterfaceVisitor'\n",
        "Warning: Unknown parameter 'itk::CellTraitsInfo< 3,double,double,unsigned long,unsigned long,unsigned long,itk::Point< double,3 >,itk::MapContainer< unsigned long,itk::Point< double,3 > >, std::set< unsigned long, std::less< unsigned long > > >' in template 'itk::CellInterfaceVisitor'\n",
        "Warning: Unknown parameter 'itk::CellTraitsInfo< 2,float,float,unsigned long,unsigned long,unsigned long,itk::Point< float,2 >,itk::MapContainer< unsigned long,itk::Point< float,2 > >, std::set< unsigned long, std::less< unsigned long > > >' in template 'itk::CellInterface'\n",
        "Warning: Unknown parameter 'itk::CellTraitsInfo< 2,double,double,unsigned long,unsigned long,unsigned long,itk::Point< double,2 >,itk::MapContainer< unsigned long,itk::Point< double,2 > >, std::set< unsigned long, std::less< unsigned long > > >' in template 'itk::CellInterface'\n",
        "Warning: Unknown parameter 'itk::CellTraitsInfo< 3,float,float,unsigned long,unsigned long,unsigned long,itk::Point< float,3 >,itk::MapContainer< unsigned long,itk::Point< float,3 > >, std::set< unsigned long, std::less< unsigned long > > >' in template 'itk::CellInterface'\n",
        "Warning: Unknown parameter 'itk::CellTraitsInfo< 3,double,double,unsigned long,unsigned long,unsigned long,itk::Point< double,3 >,itk::MapContainer< unsigned long,itk::Point< double,3 > >, std::set< unsigned long, std::less< unsigned long > > >' in template 'itk::CellInterface'\n",
        "Warning: Unknown parameter 'itk::Mesh< float,2,itk::DefaultStaticMeshTraits< float,2,2,float > >' in template 'itk::MeshToMeshFilter'\n",
        "Warning: Unknown parameter 'itk::Mesh< float,2,itk::DefaultDynamicMeshTraits< float,2,2,float > >' in template 'itk::MeshToMeshFilter'\n",
        "Warning: Unknown parameter 'itk::Mesh< double,2,itk::DefaultStaticMeshTraits< double,2,2,double > >' in template 'itk::MeshToMeshFilter'\n",
        "Warning: Unknown parameter 'itk::Mesh< double,2,itk::DefaultDynamicMeshTraits< double,2,2,double > >' in template 'itk::MeshToMeshFilter'\n",
        "Warning: Unknown parameter 'itk::Mesh< float,3,itk::DefaultStaticMeshTraits< float,3,3,float > >' in template 'itk::MeshToMeshFilter'\n",
        "Warning: Unknown parameter 'itk::Mesh< float,3,itk::DefaultDynamicMeshTraits< float,3,3,float > >' in template 'itk::MeshToMeshFilter'\n",
        "Warning: Unknown parameter 'itk::Mesh< double,3,itk::DefaultStaticMeshTraits< double,3,3,double > >' in template 'itk::MeshToMeshFilter'\n",
        "Warning: Unknown parameter 'itk::Mesh< double,3,itk::DefaultDynamicMeshTraits< double,3,3,double > >' in template 'itk::MeshToMeshFilter'\n"
       ]
      },
      {
       "output_type": "pyout",
       "prompt_number": 5,
       "text": [
        "<nipype.interfaces.base.InterfaceResult at 0x109891d0>"
       ]
      }
     ],
     "prompt_number": 5
    }
   ],
   "metadata": {}
  }
 ]
}
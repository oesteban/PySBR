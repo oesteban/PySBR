{
 "metadata": {
  "name": "AffinePipeline"
 },
 "nbformat": 3,
 "nbformat_minor": 0,
 "worksheets": [
  {
   "cells": [
    {
     "cell_type": "code",
     "collapsed": false,
     "input": [
      "import glob\n",
      "import nibabel as nib\n",
      "import numpy as np\n",
      "import scipy.ndimage as im\n",
      "import os\n",
      "import os.path as op\n",
      "\n",
      "import nipype.interfaces.io as nio\n",
      "import nipype.pipeline.engine as pe\n",
      "import nipype.interfaces.freesurfer as fs\n",
      "import nipype.interfaces.fsl.preprocess as fsl\n",
      "import nipype.interfaces.fsl.utils as fslutil\n",
      "\n",
      "sim_dir = '/media/mnemea/MINDt-Quantidopa/PySBR-PhantomImages/Simulated'\n",
      "out_dir = op.join( sim_dir, 'flirt' )\n",
      "msk_dir = op.join( sim_dir, 'masks' )\n",
      "\n",
      "template_msk = op.join( sim_dir, 'template_msk.nii.gz' )\n",
      "\n",
      "if not op.exists( msk_dir ):\n",
      "    os.mkdir( msk_dir )\n",
      "\n",
      "if not op.exists( out_dir ):\n",
      "    os.mkdir( out_dir )\n",
      "\n",
      "    \n",
      "subjects_list = [ op.basename( sub ) for sub in glob.glob( op.join( sim_dir, 'S*_grade_0.nii.gz' ) ) ]\n",
      "\n",
      "ref_subj = subjects_list[-1]\n",
      "subjects_list = subjects_list[0:-1]"
     ],
     "language": "python",
     "metadata": {},
     "outputs": [],
     "prompt_number": 2
    },
    {
     "cell_type": "code",
     "collapsed": false,
     "input": [
      "\n",
      "\n",
      "for subj in subjects_list:\n",
      "    fname = op.join( sim_dir, subj )\n",
      "    inv_mat = op.join( out_dir, \"%s_inv.mat\" % subj[0:4] )\n",
      "    out_roi = op.join( out_dir, \"%s_roi.nii.gz\" % subj[0:4] )\n",
      "        \n",
      "    if not op.exists( inv_mat ):\n",
      "        flt = fsl.FLIRT( bins=64, cost_func='mutualinfo', dof=12)\n",
      "        flt.inputs.in_file = fname\n",
      "        flt.inputs.reference = op.join( sim_dir, ref_subj)\n",
      "        flt.inputs.out_file = op.join( out_dir, \"%s.nii.gz\" % subj[0:4] )\n",
      "        flt.inputs.out_matrix_file = op.join( out_dir, \"%s.mat\" % subj[0:4] )\n",
      "        flt.run()\n",
      "        \n",
      "        invt = fslutil.ConvertXFM(invert_xfm=True)\n",
      "        invt.inputs.in_file = op.join( out_dir, \"%s.mat\" % subj[0:4] )\n",
      "        invt.inputs.out_file = inv_mat\n",
      "        invt.run()\n",
      "    \n",
      "    applyxfm = fsl.ApplyXfm(in_file = template_msk, apply_xfm=True )\n",
      "    applyxfm.inputs.in_matrix_file = inv_mat\n",
      "    applyxfm.inputs.out_file = out_roi\n",
      "    applyxfm.inputs.reference = fname\n",
      "    applyxfm.run()\n",
      "    \n",
      "    for i in range(0,4):\n",
      "        applymask = fs.ApplyMask( )\n",
      "        applymask.inputs.in_file =  op.join( sim_dir, '%s_grade_%d.nii.gz' % (subj[0:4],i) )\n",
      "        applymask.inputs.mask_file = out_roi\n",
      "        applymask.inputs.out_file = op.join( msk_dir, '%s_grade_%d_masked.nii.gz' % (subj[0:4],i) )\n",
      "        applymask.run()\n",
      "    \n",
      "    "
     ],
     "language": "python",
     "metadata": {},
     "outputs": [
      {
       "output_type": "stream",
       "stream": "stdout",
       "text": [
        "130624-18:10:34,396 interface INFO:\n",
        "\t stdout 2013-06-24T18:10:34.396178:DoAbs = 0\n"
       ]
      },
      {
       "output_type": "stream",
       "stream": "stdout",
       "text": [
        "130624-18:10:34,397 interface INFO:\n",
        "\t stdout 2013-06-24T18:10:34.396178:Writing masked volume to /media/mnemea/MINDt-Quantidopa/PySBR-PhantomImages/Simulated/masks/S519_grade_0_masked.nii.gz...done.\n"
       ]
      },
      {
       "output_type": "stream",
       "stream": "stdout",
       "text": [
        "130624-18:10:34,530 interface INFO:\n",
        "\t stdout 2013-06-24T18:10:34.530587:DoAbs = 0\n"
       ]
      },
      {
       "output_type": "stream",
       "stream": "stdout",
       "text": [
        "130624-18:10:34,531 interface INFO:\n",
        "\t stdout 2013-06-24T18:10:34.530587:Writing masked volume to /media/mnemea/MINDt-Quantidopa/PySBR-PhantomImages/Simulated/masks/S519_grade_1_masked.nii.gz...done.\n"
       ]
      },
      {
       "output_type": "stream",
       "stream": "stdout",
       "text": [
        "130624-18:10:34,647 interface INFO:\n",
        "\t stdout 2013-06-24T18:10:34.647026:DoAbs = 0\n"
       ]
      },
      {
       "output_type": "stream",
       "stream": "stdout",
       "text": [
        "130624-18:10:34,648 interface INFO:\n",
        "\t stdout 2013-06-24T18:10:34.647026:Writing masked volume to /media/mnemea/MINDt-Quantidopa/PySBR-PhantomImages/Simulated/masks/S519_grade_2_masked.nii.gz...done.\n"
       ]
      },
      {
       "output_type": "stream",
       "stream": "stdout",
       "text": [
        "130624-18:10:34,757 interface INFO:\n",
        "\t stdout 2013-06-24T18:10:34.757058:DoAbs = 0\n"
       ]
      },
      {
       "output_type": "stream",
       "stream": "stdout",
       "text": [
        "130624-18:10:34,757 interface INFO:\n",
        "\t stdout 2013-06-24T18:10:34.757058:Writing masked volume to /media/mnemea/MINDt-Quantidopa/PySBR-PhantomImages/Simulated/masks/S519_grade_3_masked.nii.gz...done.\n"
       ]
      },
      {
       "output_type": "stream",
       "stream": "stdout",
       "text": [
        "130624-18:10:34,920 interface INFO:\n",
        "\t stdout 2013-06-24T18:10:34.919975:DoAbs = 0\n"
       ]
      },
      {
       "output_type": "stream",
       "stream": "stdout",
       "text": [
        "130624-18:10:34,921 interface INFO:\n",
        "\t stdout 2013-06-24T18:10:34.919975:Writing masked volume to /media/mnemea/MINDt-Quantidopa/PySBR-PhantomImages/Simulated/masks/S487_grade_0_masked.nii.gz...done.\n"
       ]
      },
      {
       "output_type": "stream",
       "stream": "stdout",
       "text": [
        "130624-18:10:35,33 interface INFO:\n",
        "\t stdout 2013-06-24T18:10:35.033343:DoAbs = 0\n"
       ]
      },
      {
       "output_type": "stream",
       "stream": "stdout",
       "text": [
        "130624-18:10:35,34 interface INFO:\n",
        "\t stdout 2013-06-24T18:10:35.033343:Writing masked volume to /media/mnemea/MINDt-Quantidopa/PySBR-PhantomImages/Simulated/masks/S487_grade_1_masked.nii.gz...done.\n"
       ]
      },
      {
       "output_type": "stream",
       "stream": "stdout",
       "text": [
        "130624-18:10:35,138 interface INFO:\n",
        "\t stdout 2013-06-24T18:10:35.138415:DoAbs = 0\n"
       ]
      },
      {
       "output_type": "stream",
       "stream": "stdout",
       "text": [
        "130624-18:10:35,139 interface INFO:\n",
        "\t stdout 2013-06-24T18:10:35.138415:Writing masked volume to /media/mnemea/MINDt-Quantidopa/PySBR-PhantomImages/Simulated/masks/S487_grade_2_masked.nii.gz...done.\n"
       ]
      },
      {
       "output_type": "stream",
       "stream": "stdout",
       "text": [
        "130624-18:10:35,259 interface INFO:\n",
        "\t stdout 2013-06-24T18:10:35.259386:DoAbs = 0\n"
       ]
      },
      {
       "output_type": "stream",
       "stream": "stdout",
       "text": [
        "130624-18:10:35,260 interface INFO:\n",
        "\t stdout 2013-06-24T18:10:35.259386:Writing masked volume to /media/mnemea/MINDt-Quantidopa/PySBR-PhantomImages/Simulated/masks/S487_grade_3_masked.nii.gz...done.\n"
       ]
      },
      {
       "output_type": "stream",
       "stream": "stdout",
       "text": [
        "130624-18:10:35,423 interface INFO:\n",
        "\t stdout 2013-06-24T18:10:35.423250:DoAbs = 0\n"
       ]
      },
      {
       "output_type": "stream",
       "stream": "stdout",
       "text": [
        "130624-18:10:35,424 interface INFO:\n",
        "\t stdout 2013-06-24T18:10:35.423250:Writing masked volume to /media/mnemea/MINDt-Quantidopa/PySBR-PhantomImages/Simulated/masks/S231_grade_0_masked.nii.gz...done.\n"
       ]
      },
      {
       "output_type": "stream",
       "stream": "stdout",
       "text": [
        "130624-18:10:35,534 interface INFO:\n",
        "\t stdout 2013-06-24T18:10:35.534377:DoAbs = 0\n"
       ]
      },
      {
       "output_type": "stream",
       "stream": "stdout",
       "text": [
        "130624-18:10:35,535 interface INFO:\n",
        "\t stdout 2013-06-24T18:10:35.534377:Writing masked volume to /media/mnemea/MINDt-Quantidopa/PySBR-PhantomImages/Simulated/masks/S231_grade_1_masked.nii.gz...done.\n"
       ]
      },
      {
       "output_type": "stream",
       "stream": "stdout",
       "text": [
        "130624-18:10:35,630 interface INFO:\n",
        "\t stdout 2013-06-24T18:10:35.630788:DoAbs = 0\n"
       ]
      },
      {
       "output_type": "stream",
       "stream": "stdout",
       "text": [
        "130624-18:10:35,631 interface INFO:\n",
        "\t stdout 2013-06-24T18:10:35.630788:Writing masked volume to /media/mnemea/MINDt-Quantidopa/PySBR-PhantomImages/Simulated/masks/S231_grade_2_masked.nii.gz...done.\n"
       ]
      },
      {
       "output_type": "stream",
       "stream": "stdout",
       "text": [
        "130624-18:10:35,770 interface INFO:\n",
        "\t stdout 2013-06-24T18:10:35.769904:DoAbs = 0\n"
       ]
      },
      {
       "output_type": "stream",
       "stream": "stdout",
       "text": [
        "130624-18:10:35,770 interface INFO:\n",
        "\t stdout 2013-06-24T18:10:35.769904:Writing masked volume to /media/mnemea/MINDt-Quantidopa/PySBR-PhantomImages/Simulated/masks/S231_grade_3_masked.nii.gz...done.\n"
       ]
      },
      {
       "output_type": "stream",
       "stream": "stdout",
       "text": [
        "130624-18:10:35,931 interface INFO:\n",
        "\t stdout 2013-06-24T18:10:35.931080:DoAbs = 0\n"
       ]
      },
      {
       "output_type": "stream",
       "stream": "stdout",
       "text": [
        "130624-18:10:35,932 interface INFO:\n",
        "\t stdout 2013-06-24T18:10:35.931080:Writing masked volume to /media/mnemea/MINDt-Quantidopa/PySBR-PhantomImages/Simulated/masks/S109_grade_0_masked.nii.gz...done.\n"
       ]
      },
      {
       "output_type": "stream",
       "stream": "stdout",
       "text": [
        "130624-18:10:36,63 interface INFO:\n",
        "\t stdout 2013-06-24T18:10:36.063252:DoAbs = 0\n"
       ]
      },
      {
       "output_type": "stream",
       "stream": "stdout",
       "text": [
        "130624-18:10:36,64 interface INFO:\n",
        "\t stdout 2013-06-24T18:10:36.063252:Writing masked volume to /media/mnemea/MINDt-Quantidopa/PySBR-PhantomImages/Simulated/masks/S109_grade_1_masked.nii.gz...done.\n"
       ]
      },
      {
       "output_type": "stream",
       "stream": "stdout",
       "text": [
        "130624-18:10:36,172 interface INFO:\n",
        "\t stdout 2013-06-24T18:10:36.172187:DoAbs = 0\n"
       ]
      },
      {
       "output_type": "stream",
       "stream": "stdout",
       "text": [
        "130624-18:10:36,173 interface INFO:\n",
        "\t stdout 2013-06-24T18:10:36.172187:Writing masked volume to /media/mnemea/MINDt-Quantidopa/PySBR-PhantomImages/Simulated/masks/S109_grade_2_masked.nii.gz...done.\n"
       ]
      },
      {
       "output_type": "stream",
       "stream": "stdout",
       "text": [
        "130624-18:10:36,297 interface INFO:\n",
        "\t stdout 2013-06-24T18:10:36.297338:DoAbs = 0\n"
       ]
      },
      {
       "output_type": "stream",
       "stream": "stdout",
       "text": [
        "130624-18:10:36,298 interface INFO:\n",
        "\t stdout 2013-06-24T18:10:36.297338:Writing masked volume to /media/mnemea/MINDt-Quantidopa/PySBR-PhantomImages/Simulated/masks/S109_grade_3_masked.nii.gz...done.\n"
       ]
      },
      {
       "output_type": "stream",
       "stream": "stdout",
       "text": [
        "130624-18:10:36,445 interface INFO:\n",
        "\t stdout 2013-06-24T18:10:36.445474:DoAbs = 0\n"
       ]
      },
      {
       "output_type": "stream",
       "stream": "stdout",
       "text": [
        "130624-18:10:36,446 interface INFO:\n",
        "\t stdout 2013-06-24T18:10:36.445474:Writing masked volume to /media/mnemea/MINDt-Quantidopa/PySBR-PhantomImages/Simulated/masks/S480_grade_0_masked.nii.gz...done.\n"
       ]
      },
      {
       "output_type": "stream",
       "stream": "stdout",
       "text": [
        "130624-18:10:36,562 interface INFO:\n",
        "\t stdout 2013-06-24T18:10:36.562831:DoAbs = 0\n"
       ]
      },
      {
       "output_type": "stream",
       "stream": "stdout",
       "text": [
        "130624-18:10:36,564 interface INFO:\n",
        "\t stdout 2013-06-24T18:10:36.562831:Writing masked volume to /media/mnemea/MINDt-Quantidopa/PySBR-PhantomImages/Simulated/masks/S480_grade_1_masked.nii.gz...done.\n"
       ]
      },
      {
       "output_type": "stream",
       "stream": "stdout",
       "text": [
        "130624-18:10:36,701 interface INFO:\n",
        "\t stdout 2013-06-24T18:10:36.701327:DoAbs = 0\n"
       ]
      },
      {
       "output_type": "stream",
       "stream": "stdout",
       "text": [
        "130624-18:10:36,701 interface INFO:\n",
        "\t stdout 2013-06-24T18:10:36.701327:Writing masked volume to /media/mnemea/MINDt-Quantidopa/PySBR-PhantomImages/Simulated/masks/S480_grade_2_masked.nii.gz...done.\n"
       ]
      },
      {
       "output_type": "stream",
       "stream": "stdout",
       "text": [
        "130624-18:10:36,818 interface INFO:\n",
        "\t stdout 2013-06-24T18:10:36.818590:DoAbs = 0\n"
       ]
      },
      {
       "output_type": "stream",
       "stream": "stdout",
       "text": [
        "130624-18:10:36,819 interface INFO:\n",
        "\t stdout 2013-06-24T18:10:36.818590:Writing masked volume to /media/mnemea/MINDt-Quantidopa/PySBR-PhantomImages/Simulated/masks/S480_grade_3_masked.nii.gz...done.\n"
       ]
      },
      {
       "output_type": "stream",
       "stream": "stdout",
       "text": [
        "130624-18:10:36,971 interface INFO:\n",
        "\t stdout 2013-06-24T18:10:36.971008:DoAbs = 0\n"
       ]
      },
      {
       "output_type": "stream",
       "stream": "stdout",
       "text": [
        "130624-18:10:36,972 interface INFO:\n",
        "\t stdout 2013-06-24T18:10:36.971008:Writing masked volume to /media/mnemea/MINDt-Quantidopa/PySBR-PhantomImages/Simulated/masks/S200_grade_0_masked.nii.gz...done.\n"
       ]
      },
      {
       "output_type": "stream",
       "stream": "stdout",
       "text": [
        "130624-18:10:37,72 interface INFO:\n",
        "\t stdout 2013-06-24T18:10:37.072825:DoAbs = 0\n"
       ]
      },
      {
       "output_type": "stream",
       "stream": "stdout",
       "text": [
        "130624-18:10:37,73 interface INFO:\n",
        "\t stdout 2013-06-24T18:10:37.072825:Writing masked volume to /media/mnemea/MINDt-Quantidopa/PySBR-PhantomImages/Simulated/masks/S200_grade_1_masked.nii.gz...done.\n"
       ]
      },
      {
       "output_type": "stream",
       "stream": "stdout",
       "text": [
        "130624-18:10:37,169 interface INFO:\n",
        "\t stdout 2013-06-24T18:10:37.169583:DoAbs = 0\n"
       ]
      },
      {
       "output_type": "stream",
       "stream": "stdout",
       "text": [
        "130624-18:10:37,170 interface INFO:\n",
        "\t stdout 2013-06-24T18:10:37.169583:Writing masked volume to /media/mnemea/MINDt-Quantidopa/PySBR-PhantomImages/Simulated/masks/S200_grade_2_masked.nii.gz...done.\n"
       ]
      },
      {
       "output_type": "stream",
       "stream": "stdout",
       "text": [
        "130624-18:10:37,265 interface INFO:\n",
        "\t stdout 2013-06-24T18:10:37.265030:DoAbs = 0\n"
       ]
      },
      {
       "output_type": "stream",
       "stream": "stdout",
       "text": [
        "130624-18:10:37,266 interface INFO:\n",
        "\t stdout 2013-06-24T18:10:37.265030:Writing masked volume to /media/mnemea/MINDt-Quantidopa/PySBR-PhantomImages/Simulated/masks/S200_grade_3_masked.nii.gz...done.\n"
       ]
      },
      {
       "output_type": "stream",
       "stream": "stdout",
       "text": [
        "130624-18:10:37,403 interface INFO:\n",
        "\t stdout 2013-06-24T18:10:37.403761:DoAbs = 0\n"
       ]
      },
      {
       "output_type": "stream",
       "stream": "stdout",
       "text": [
        "130624-18:10:37,404 interface INFO:\n",
        "\t stdout 2013-06-24T18:10:37.403761:Writing masked volume to /media/mnemea/MINDt-Quantidopa/PySBR-PhantomImages/Simulated/masks/S616_grade_0_masked.nii.gz...done.\n"
       ]
      },
      {
       "output_type": "stream",
       "stream": "stdout",
       "text": [
        "130624-18:10:37,501 interface INFO:\n",
        "\t stdout 2013-06-24T18:10:37.501636:DoAbs = 0\n"
       ]
      },
      {
       "output_type": "stream",
       "stream": "stdout",
       "text": [
        "130624-18:10:37,502 interface INFO:\n",
        "\t stdout 2013-06-24T18:10:37.501636:Writing masked volume to /media/mnemea/MINDt-Quantidopa/PySBR-PhantomImages/Simulated/masks/S616_grade_1_masked.nii.gz...done.\n"
       ]
      },
      {
       "output_type": "stream",
       "stream": "stdout",
       "text": [
        "130624-18:10:37,596 interface INFO:\n",
        "\t stdout 2013-06-24T18:10:37.596233:DoAbs = 0\n"
       ]
      },
      {
       "output_type": "stream",
       "stream": "stdout",
       "text": [
        "130624-18:10:37,597 interface INFO:\n",
        "\t stdout 2013-06-24T18:10:37.596233:Writing masked volume to /media/mnemea/MINDt-Quantidopa/PySBR-PhantomImages/Simulated/masks/S616_grade_2_masked.nii.gz...done.\n"
       ]
      },
      {
       "output_type": "stream",
       "stream": "stdout",
       "text": [
        "130624-18:10:37,704 interface INFO:\n",
        "\t stdout 2013-06-24T18:10:37.704521:DoAbs = 0\n"
       ]
      },
      {
       "output_type": "stream",
       "stream": "stdout",
       "text": [
        "130624-18:10:37,705 interface INFO:\n",
        "\t stdout 2013-06-24T18:10:37.704521:Writing masked volume to /media/mnemea/MINDt-Quantidopa/PySBR-PhantomImages/Simulated/masks/S616_grade_3_masked.nii.gz...done.\n"
       ]
      },
      {
       "output_type": "stream",
       "stream": "stdout",
       "text": [
        "130624-18:10:37,891 interface INFO:\n",
        "\t stdout 2013-06-24T18:10:37.891555:DoAbs = 0\n"
       ]
      },
      {
       "output_type": "stream",
       "stream": "stdout",
       "text": [
        "130624-18:10:37,892 interface INFO:\n",
        "\t stdout 2013-06-24T18:10:37.891555:Writing masked volume to /media/mnemea/MINDt-Quantidopa/PySBR-PhantomImages/Simulated/masks/S214_grade_0_masked.nii.gz...done.\n"
       ]
      },
      {
       "output_type": "stream",
       "stream": "stdout",
       "text": [
        "130624-18:10:37,998 interface INFO:\n",
        "\t stdout 2013-06-24T18:10:37.998757:DoAbs = 0\n"
       ]
      },
      {
       "output_type": "stream",
       "stream": "stdout",
       "text": [
        "130624-18:10:37,999 interface INFO:\n",
        "\t stdout 2013-06-24T18:10:37.998757:Writing masked volume to /media/mnemea/MINDt-Quantidopa/PySBR-PhantomImages/Simulated/masks/S214_grade_1_masked.nii.gz...done.\n"
       ]
      },
      {
       "output_type": "stream",
       "stream": "stdout",
       "text": [
        "130624-18:10:38,102 interface INFO:\n",
        "\t stdout 2013-06-24T18:10:38.102125:DoAbs = 0\n"
       ]
      },
      {
       "output_type": "stream",
       "stream": "stdout",
       "text": [
        "130624-18:10:38,103 interface INFO:\n",
        "\t stdout 2013-06-24T18:10:38.102125:Writing masked volume to /media/mnemea/MINDt-Quantidopa/PySBR-PhantomImages/Simulated/masks/S214_grade_2_masked.nii.gz...done.\n"
       ]
      },
      {
       "output_type": "stream",
       "stream": "stdout",
       "text": [
        "130624-18:10:38,214 interface INFO:\n",
        "\t stdout 2013-06-24T18:10:38.214440:DoAbs = 0\n"
       ]
      },
      {
       "output_type": "stream",
       "stream": "stdout",
       "text": [
        "130624-18:10:38,215 interface INFO:\n",
        "\t stdout 2013-06-24T18:10:38.214440:Writing masked volume to /media/mnemea/MINDt-Quantidopa/PySBR-PhantomImages/Simulated/masks/S214_grade_3_masked.nii.gz...done.\n"
       ]
      },
      {
       "output_type": "stream",
       "stream": "stdout",
       "text": [
        "130624-18:10:38,356 interface INFO:\n",
        "\t stdout 2013-06-24T18:10:38.356738:DoAbs = 0\n"
       ]
      },
      {
       "output_type": "stream",
       "stream": "stdout",
       "text": [
        "130624-18:10:38,357 interface INFO:\n",
        "\t stdout 2013-06-24T18:10:38.356738:Writing masked volume to /media/mnemea/MINDt-Quantidopa/PySBR-PhantomImages/Simulated/masks/S555_grade_0_masked.nii.gz...done.\n"
       ]
      },
      {
       "output_type": "stream",
       "stream": "stdout",
       "text": [
        "130624-18:10:38,461 interface INFO:\n",
        "\t stdout 2013-06-24T18:10:38.461644:DoAbs = 0\n"
       ]
      },
      {
       "output_type": "stream",
       "stream": "stdout",
       "text": [
        "130624-18:10:38,462 interface INFO:\n",
        "\t stdout 2013-06-24T18:10:38.461644:Writing masked volume to /media/mnemea/MINDt-Quantidopa/PySBR-PhantomImages/Simulated/masks/S555_grade_1_masked.nii.gz...done.\n"
       ]
      },
      {
       "output_type": "stream",
       "stream": "stdout",
       "text": [
        "130624-18:10:38,558 interface INFO:\n",
        "\t stdout 2013-06-24T18:10:38.558712:DoAbs = 0\n"
       ]
      },
      {
       "output_type": "stream",
       "stream": "stdout",
       "text": [
        "130624-18:10:38,559 interface INFO:\n",
        "\t stdout 2013-06-24T18:10:38.558712:Writing masked volume to /media/mnemea/MINDt-Quantidopa/PySBR-PhantomImages/Simulated/masks/S555_grade_2_masked.nii.gz...done.\n"
       ]
      },
      {
       "output_type": "stream",
       "stream": "stdout",
       "text": [
        "130624-18:10:38,656 interface INFO:\n",
        "\t stdout 2013-06-24T18:10:38.656493:DoAbs = 0\n"
       ]
      },
      {
       "output_type": "stream",
       "stream": "stdout",
       "text": [
        "130624-18:10:38,657 interface INFO:\n",
        "\t stdout 2013-06-24T18:10:38.656493:Writing masked volume to /media/mnemea/MINDt-Quantidopa/PySBR-PhantomImages/Simulated/masks/S555_grade_3_masked.nii.gz...done.\n"
       ]
      },
      {
       "output_type": "stream",
       "stream": "stdout",
       "text": [
        "130624-18:10:38,813 interface INFO:\n",
        "\t stdout 2013-06-24T18:10:38.812929:DoAbs = 0\n"
       ]
      },
      {
       "output_type": "stream",
       "stream": "stdout",
       "text": [
        "130624-18:10:38,813 interface INFO:\n",
        "\t stdout 2013-06-24T18:10:38.812929:Writing masked volume to /media/mnemea/MINDt-Quantidopa/PySBR-PhantomImages/Simulated/masks/S165_grade_0_masked.nii.gz...done.\n"
       ]
      },
      {
       "output_type": "stream",
       "stream": "stdout",
       "text": [
        "130624-18:10:38,922 interface INFO:\n",
        "\t stdout 2013-06-24T18:10:38.922226:DoAbs = 0\n"
       ]
      },
      {
       "output_type": "stream",
       "stream": "stdout",
       "text": [
        "130624-18:10:38,923 interface INFO:\n",
        "\t stdout 2013-06-24T18:10:38.922226:Writing masked volume to /media/mnemea/MINDt-Quantidopa/PySBR-PhantomImages/Simulated/masks/S165_grade_1_masked.nii.gz...done.\n"
       ]
      },
      {
       "output_type": "stream",
       "stream": "stdout",
       "text": [
        "130624-18:10:39,26 interface INFO:\n",
        "\t stdout 2013-06-24T18:10:39.026525:DoAbs = 0\n"
       ]
      },
      {
       "output_type": "stream",
       "stream": "stdout",
       "text": [
        "130624-18:10:39,27 interface INFO:\n",
        "\t stdout 2013-06-24T18:10:39.026525:Writing masked volume to /media/mnemea/MINDt-Quantidopa/PySBR-PhantomImages/Simulated/masks/S165_grade_2_masked.nii.gz...done.\n"
       ]
      },
      {
       "output_type": "stream",
       "stream": "stdout",
       "text": [
        "130624-18:10:39,122 interface INFO:\n",
        "\t stdout 2013-06-24T18:10:39.122321:DoAbs = 0\n"
       ]
      },
      {
       "output_type": "stream",
       "stream": "stdout",
       "text": [
        "130624-18:10:39,123 interface INFO:\n",
        "\t stdout 2013-06-24T18:10:39.122321:Writing masked volume to /media/mnemea/MINDt-Quantidopa/PySBR-PhantomImages/Simulated/masks/S165_grade_3_masked.nii.gz...done.\n"
       ]
      },
      {
       "output_type": "stream",
       "stream": "stdout",
       "text": [
        "130624-18:10:39,261 interface INFO:\n",
        "\t stdout 2013-06-24T18:10:39.261386:DoAbs = 0\n"
       ]
      },
      {
       "output_type": "stream",
       "stream": "stdout",
       "text": [
        "130624-18:10:39,262 interface INFO:\n",
        "\t stdout 2013-06-24T18:10:39.261386:Writing masked volume to /media/mnemea/MINDt-Quantidopa/PySBR-PhantomImages/Simulated/masks/S594_grade_0_masked.nii.gz...done.\n"
       ]
      },
      {
       "output_type": "stream",
       "stream": "stdout",
       "text": [
        "130624-18:10:39,364 interface INFO:\n",
        "\t stdout 2013-06-24T18:10:39.364568:DoAbs = 0\n"
       ]
      },
      {
       "output_type": "stream",
       "stream": "stdout",
       "text": [
        "130624-18:10:39,365 interface INFO:\n",
        "\t stdout 2013-06-24T18:10:39.364568:Writing masked volume to /media/mnemea/MINDt-Quantidopa/PySBR-PhantomImages/Simulated/masks/S594_grade_1_masked.nii.gz...done.\n"
       ]
      },
      {
       "output_type": "stream",
       "stream": "stdout",
       "text": [
        "130624-18:10:39,460 interface INFO:\n",
        "\t stdout 2013-06-24T18:10:39.460689:DoAbs = 0\n"
       ]
      },
      {
       "output_type": "stream",
       "stream": "stdout",
       "text": [
        "130624-18:10:39,461 interface INFO:\n",
        "\t stdout 2013-06-24T18:10:39.460689:Writing masked volume to /media/mnemea/MINDt-Quantidopa/PySBR-PhantomImages/Simulated/masks/S594_grade_2_masked.nii.gz...done.\n"
       ]
      },
      {
       "output_type": "stream",
       "stream": "stdout",
       "text": [
        "130624-18:10:39,564 interface INFO:\n",
        "\t stdout 2013-06-24T18:10:39.564790:DoAbs = 0\n"
       ]
      },
      {
       "output_type": "stream",
       "stream": "stdout",
       "text": [
        "130624-18:10:39,565 interface INFO:\n",
        "\t stdout 2013-06-24T18:10:39.564790:Writing masked volume to /media/mnemea/MINDt-Quantidopa/PySBR-PhantomImages/Simulated/masks/S594_grade_3_masked.nii.gz...done.\n"
       ]
      },
      {
       "output_type": "stream",
       "stream": "stdout",
       "text": [
        "130624-18:10:39,694 interface INFO:\n",
        "\t stdout 2013-06-24T18:10:39.694809:DoAbs = 0\n"
       ]
      },
      {
       "output_type": "stream",
       "stream": "stdout",
       "text": [
        "130624-18:10:39,695 interface INFO:\n",
        "\t stdout 2013-06-24T18:10:39.694809:Writing masked volume to /media/mnemea/MINDt-Quantidopa/PySBR-PhantomImages/Simulated/masks/S549_grade_0_masked.nii.gz...done.\n"
       ]
      },
      {
       "output_type": "stream",
       "stream": "stdout",
       "text": [
        "130624-18:10:39,796 interface INFO:\n",
        "\t stdout 2013-06-24T18:10:39.796000:DoAbs = 0\n"
       ]
      },
      {
       "output_type": "stream",
       "stream": "stdout",
       "text": [
        "130624-18:10:39,796 interface INFO:\n",
        "\t stdout 2013-06-24T18:10:39.796000:Writing masked volume to /media/mnemea/MINDt-Quantidopa/PySBR-PhantomImages/Simulated/masks/S549_grade_1_masked.nii.gz...done.\n"
       ]
      },
      {
       "output_type": "stream",
       "stream": "stdout",
       "text": [
        "130624-18:10:39,901 interface INFO:\n",
        "\t stdout 2013-06-24T18:10:39.901227:DoAbs = 0\n"
       ]
      },
      {
       "output_type": "stream",
       "stream": "stdout",
       "text": [
        "130624-18:10:39,902 interface INFO:\n",
        "\t stdout 2013-06-24T18:10:39.901227:Writing masked volume to /media/mnemea/MINDt-Quantidopa/PySBR-PhantomImages/Simulated/masks/S549_grade_2_masked.nii.gz...done.\n"
       ]
      },
      {
       "output_type": "stream",
       "stream": "stdout",
       "text": [
        "130624-18:10:40,0 interface INFO:\n",
        "\t stdout 2013-06-24T18:10:40.000186:DoAbs = 0\n"
       ]
      },
      {
       "output_type": "stream",
       "stream": "stdout",
       "text": [
        "130624-18:10:40,1 interface INFO:\n",
        "\t stdout 2013-06-24T18:10:40.000186:Writing masked volume to /media/mnemea/MINDt-Quantidopa/PySBR-PhantomImages/Simulated/masks/S549_grade_3_masked.nii.gz...done.\n"
       ]
      },
      {
       "output_type": "stream",
       "stream": "stdout",
       "text": [
        "130624-18:10:40,137 interface INFO:\n",
        "\t stdout 2013-06-24T18:10:40.137478:DoAbs = 0\n"
       ]
      },
      {
       "output_type": "stream",
       "stream": "stdout",
       "text": [
        "130624-18:10:40,138 interface INFO:\n",
        "\t stdout 2013-06-24T18:10:40.137478:Writing masked volume to /media/mnemea/MINDt-Quantidopa/PySBR-PhantomImages/Simulated/masks/S268_grade_0_masked.nii.gz...done.\n"
       ]
      },
      {
       "output_type": "stream",
       "stream": "stdout",
       "text": [
        "130624-18:10:40,240 interface INFO:\n",
        "\t stdout 2013-06-24T18:10:40.240700:DoAbs = 0\n"
       ]
      },
      {
       "output_type": "stream",
       "stream": "stdout",
       "text": [
        "130624-18:10:40,241 interface INFO:\n",
        "\t stdout 2013-06-24T18:10:40.240700:Writing masked volume to /media/mnemea/MINDt-Quantidopa/PySBR-PhantomImages/Simulated/masks/S268_grade_1_masked.nii.gz...done.\n"
       ]
      },
      {
       "output_type": "stream",
       "stream": "stdout",
       "text": [
        "130624-18:10:40,335 interface INFO:\n",
        "\t stdout 2013-06-24T18:10:40.335174:DoAbs = 0\n"
       ]
      },
      {
       "output_type": "stream",
       "stream": "stdout",
       "text": [
        "130624-18:10:40,335 interface INFO:\n",
        "\t stdout 2013-06-24T18:10:40.335174:Writing masked volume to /media/mnemea/MINDt-Quantidopa/PySBR-PhantomImages/Simulated/masks/S268_grade_2_masked.nii.gz...done.\n"
       ]
      },
      {
       "output_type": "stream",
       "stream": "stdout",
       "text": [
        "130624-18:10:40,440 interface INFO:\n",
        "\t stdout 2013-06-24T18:10:40.440606:DoAbs = 0\n"
       ]
      },
      {
       "output_type": "stream",
       "stream": "stdout",
       "text": [
        "130624-18:10:40,441 interface INFO:\n",
        "\t stdout 2013-06-24T18:10:40.440606:Writing masked volume to /media/mnemea/MINDt-Quantidopa/PySBR-PhantomImages/Simulated/masks/S268_grade_3_masked.nii.gz...done.\n"
       ]
      },
      {
       "output_type": "stream",
       "stream": "stdout",
       "text": [
        "130624-18:10:40,593 interface INFO:\n",
        "\t stdout 2013-06-24T18:10:40.593173:DoAbs = 0\n"
       ]
      },
      {
       "output_type": "stream",
       "stream": "stdout",
       "text": [
        "130624-18:10:40,594 interface INFO:\n",
        "\t stdout 2013-06-24T18:10:40.593173:Writing masked volume to /media/mnemea/MINDt-Quantidopa/PySBR-PhantomImages/Simulated/masks/S205_grade_0_masked.nii.gz...done.\n"
       ]
      },
      {
       "output_type": "stream",
       "stream": "stdout",
       "text": [
        "130624-18:10:40,699 interface INFO:\n",
        "\t stdout 2013-06-24T18:10:40.699822:DoAbs = 0\n"
       ]
      },
      {
       "output_type": "stream",
       "stream": "stdout",
       "text": [
        "130624-18:10:40,700 interface INFO:\n",
        "\t stdout 2013-06-24T18:10:40.699822:Writing masked volume to /media/mnemea/MINDt-Quantidopa/PySBR-PhantomImages/Simulated/masks/S205_grade_1_masked.nii.gz...done.\n"
       ]
      },
      {
       "output_type": "stream",
       "stream": "stdout",
       "text": [
        "130624-18:10:40,802 interface INFO:\n",
        "\t stdout 2013-06-24T18:10:40.802187:DoAbs = 0\n"
       ]
      },
      {
       "output_type": "stream",
       "stream": "stdout",
       "text": [
        "130624-18:10:40,803 interface INFO:\n",
        "\t stdout 2013-06-24T18:10:40.802187:Writing masked volume to /media/mnemea/MINDt-Quantidopa/PySBR-PhantomImages/Simulated/masks/S205_grade_2_masked.nii.gz...done.\n"
       ]
      },
      {
       "output_type": "stream",
       "stream": "stdout",
       "text": [
        "130624-18:10:40,900 interface INFO:\n",
        "\t stdout 2013-06-24T18:10:40.899919:DoAbs = 0\n"
       ]
      },
      {
       "output_type": "stream",
       "stream": "stdout",
       "text": [
        "130624-18:10:40,900 interface INFO:\n",
        "\t stdout 2013-06-24T18:10:40.899919:Writing masked volume to /media/mnemea/MINDt-Quantidopa/PySBR-PhantomImages/Simulated/masks/S205_grade_3_masked.nii.gz...done.\n"
       ]
      },
      {
       "output_type": "stream",
       "stream": "stdout",
       "text": [
        "130624-18:10:41,60 interface INFO:\n",
        "\t stdout 2013-06-24T18:10:41.059904:DoAbs = 0\n"
       ]
      },
      {
       "output_type": "stream",
       "stream": "stdout",
       "text": [
        "130624-18:10:41,60 interface INFO:\n",
        "\t stdout 2013-06-24T18:10:41.059904:Writing masked volume to /media/mnemea/MINDt-Quantidopa/PySBR-PhantomImages/Simulated/masks/S153_grade_0_masked.nii.gz...done.\n"
       ]
      },
      {
       "output_type": "stream",
       "stream": "stdout",
       "text": [
        "130624-18:10:41,166 interface INFO:\n",
        "\t stdout 2013-06-24T18:10:41.165872:DoAbs = 0\n"
       ]
      },
      {
       "output_type": "stream",
       "stream": "stdout",
       "text": [
        "130624-18:10:41,167 interface INFO:\n",
        "\t stdout 2013-06-24T18:10:41.165872:Writing masked volume to /media/mnemea/MINDt-Quantidopa/PySBR-PhantomImages/Simulated/masks/S153_grade_1_masked.nii.gz...done.\n"
       ]
      },
      {
       "output_type": "stream",
       "stream": "stdout",
       "text": [
        "130624-18:10:41,271 interface INFO:\n",
        "\t stdout 2013-06-24T18:10:41.271024:DoAbs = 0\n"
       ]
      },
      {
       "output_type": "stream",
       "stream": "stdout",
       "text": [
        "130624-18:10:41,271 interface INFO:\n",
        "\t stdout 2013-06-24T18:10:41.271024:Writing masked volume to /media/mnemea/MINDt-Quantidopa/PySBR-PhantomImages/Simulated/masks/S153_grade_2_masked.nii.gz...done.\n"
       ]
      },
      {
       "output_type": "stream",
       "stream": "stdout",
       "text": [
        "130624-18:10:41,373 interface INFO:\n",
        "\t stdout 2013-06-24T18:10:41.372959:DoAbs = 0\n"
       ]
      },
      {
       "output_type": "stream",
       "stream": "stdout",
       "text": [
        "130624-18:10:41,374 interface INFO:\n",
        "\t stdout 2013-06-24T18:10:41.372959:Writing masked volume to /media/mnemea/MINDt-Quantidopa/PySBR-PhantomImages/Simulated/masks/S153_grade_3_masked.nii.gz...done.\n"
       ]
      },
      {
       "output_type": "stream",
       "stream": "stdout",
       "text": [
        "130624-18:10:41,517 interface INFO:\n",
        "\t stdout 2013-06-24T18:10:41.517015:DoAbs = 0\n"
       ]
      },
      {
       "output_type": "stream",
       "stream": "stdout",
       "text": [
        "130624-18:10:41,518 interface INFO:\n",
        "\t stdout 2013-06-24T18:10:41.517015:Writing masked volume to /media/mnemea/MINDt-Quantidopa/PySBR-PhantomImages/Simulated/masks/S505_grade_0_masked.nii.gz...done.\n"
       ]
      },
      {
       "output_type": "stream",
       "stream": "stdout",
       "text": [
        "130624-18:10:41,619 interface INFO:\n",
        "\t stdout 2013-06-24T18:10:41.619825:DoAbs = 0\n"
       ]
      },
      {
       "output_type": "stream",
       "stream": "stdout",
       "text": [
        "130624-18:10:41,620 interface INFO:\n",
        "\t stdout 2013-06-24T18:10:41.619825:Writing masked volume to /media/mnemea/MINDt-Quantidopa/PySBR-PhantomImages/Simulated/masks/S505_grade_1_masked.nii.gz...done.\n"
       ]
      },
      {
       "output_type": "stream",
       "stream": "stdout",
       "text": [
        "130624-18:10:41,714 interface INFO:\n",
        "\t stdout 2013-06-24T18:10:41.713876:DoAbs = 0\n"
       ]
      },
      {
       "output_type": "stream",
       "stream": "stdout",
       "text": [
        "130624-18:10:41,714 interface INFO:\n",
        "\t stdout 2013-06-24T18:10:41.713876:Writing masked volume to /media/mnemea/MINDt-Quantidopa/PySBR-PhantomImages/Simulated/masks/S505_grade_2_masked.nii.gz...done.\n"
       ]
      },
      {
       "output_type": "stream",
       "stream": "stdout",
       "text": [
        "130624-18:10:41,810 interface INFO:\n",
        "\t stdout 2013-06-24T18:10:41.810582:DoAbs = 0\n"
       ]
      },
      {
       "output_type": "stream",
       "stream": "stdout",
       "text": [
        "130624-18:10:41,811 interface INFO:\n",
        "\t stdout 2013-06-24T18:10:41.810582:Writing masked volume to /media/mnemea/MINDt-Quantidopa/PySBR-PhantomImages/Simulated/masks/S505_grade_3_masked.nii.gz...done.\n"
       ]
      },
      {
       "output_type": "stream",
       "stream": "stdout",
       "text": [
        "130624-18:10:41,952 interface INFO:\n",
        "\t stdout 2013-06-24T18:10:41.952493:DoAbs = 0\n"
       ]
      },
      {
       "output_type": "stream",
       "stream": "stdout",
       "text": [
        "130624-18:10:41,953 interface INFO:\n",
        "\t stdout 2013-06-24T18:10:41.952493:Writing masked volume to /media/mnemea/MINDt-Quantidopa/PySBR-PhantomImages/Simulated/masks/S116_grade_0_masked.nii.gz...done.\n"
       ]
      },
      {
       "output_type": "stream",
       "stream": "stdout",
       "text": [
        "130624-18:10:42,49 interface INFO:\n",
        "\t stdout 2013-06-24T18:10:42.049538:DoAbs = 0\n"
       ]
      },
      {
       "output_type": "stream",
       "stream": "stdout",
       "text": [
        "130624-18:10:42,50 interface INFO:\n",
        "\t stdout 2013-06-24T18:10:42.049538:Writing masked volume to /media/mnemea/MINDt-Quantidopa/PySBR-PhantomImages/Simulated/masks/S116_grade_1_masked.nii.gz...done.\n"
       ]
      },
      {
       "output_type": "stream",
       "stream": "stdout",
       "text": [
        "130624-18:10:42,148 interface INFO:\n",
        "\t stdout 2013-06-24T18:10:42.147875:DoAbs = 0\n"
       ]
      },
      {
       "output_type": "stream",
       "stream": "stdout",
       "text": [
        "130624-18:10:42,149 interface INFO:\n",
        "\t stdout 2013-06-24T18:10:42.147875:Writing masked volume to /media/mnemea/MINDt-Quantidopa/PySBR-PhantomImages/Simulated/masks/S116_grade_2_masked.nii.gz...done.\n"
       ]
      },
      {
       "output_type": "stream",
       "stream": "stdout",
       "text": [
        "130624-18:10:42,242 interface INFO:\n",
        "\t stdout 2013-06-24T18:10:42.242116:DoAbs = 0\n"
       ]
      },
      {
       "output_type": "stream",
       "stream": "stdout",
       "text": [
        "130624-18:10:42,243 interface INFO:\n",
        "\t stdout 2013-06-24T18:10:42.242116:Writing masked volume to /media/mnemea/MINDt-Quantidopa/PySBR-PhantomImages/Simulated/masks/S116_grade_3_masked.nii.gz...done.\n"
       ]
      },
      {
       "output_type": "stream",
       "stream": "stdout",
       "text": [
        "130624-18:10:42,387 interface INFO:\n",
        "\t stdout 2013-06-24T18:10:42.387234:DoAbs = 0\n"
       ]
      },
      {
       "output_type": "stream",
       "stream": "stdout",
       "text": [
        "130624-18:10:42,388 interface INFO:\n",
        "\t stdout 2013-06-24T18:10:42.387234:Writing masked volume to /media/mnemea/MINDt-Quantidopa/PySBR-PhantomImages/Simulated/masks/S238_grade_0_masked.nii.gz...done.\n"
       ]
      },
      {
       "output_type": "stream",
       "stream": "stdout",
       "text": [
        "130624-18:10:42,490 interface INFO:\n",
        "\t stdout 2013-06-24T18:10:42.490611:DoAbs = 0\n"
       ]
      },
      {
       "output_type": "stream",
       "stream": "stdout",
       "text": [
        "130624-18:10:42,491 interface INFO:\n",
        "\t stdout 2013-06-24T18:10:42.490611:Writing masked volume to /media/mnemea/MINDt-Quantidopa/PySBR-PhantomImages/Simulated/masks/S238_grade_1_masked.nii.gz...done.\n"
       ]
      },
      {
       "output_type": "stream",
       "stream": "stdout",
       "text": [
        "130624-18:10:42,588 interface INFO:\n",
        "\t stdout 2013-06-24T18:10:42.588222:DoAbs = 0\n"
       ]
      },
      {
       "output_type": "stream",
       "stream": "stdout",
       "text": [
        "130624-18:10:42,589 interface INFO:\n",
        "\t stdout 2013-06-24T18:10:42.588222:Writing masked volume to /media/mnemea/MINDt-Quantidopa/PySBR-PhantomImages/Simulated/masks/S238_grade_2_masked.nii.gz...done.\n"
       ]
      },
      {
       "output_type": "stream",
       "stream": "stdout",
       "text": [
        "130624-18:10:42,686 interface INFO:\n",
        "\t stdout 2013-06-24T18:10:42.686037:DoAbs = 0\n"
       ]
      },
      {
       "output_type": "stream",
       "stream": "stdout",
       "text": [
        "130624-18:10:42,686 interface INFO:\n",
        "\t stdout 2013-06-24T18:10:42.686037:Writing masked volume to /media/mnemea/MINDt-Quantidopa/PySBR-PhantomImages/Simulated/masks/S238_grade_3_masked.nii.gz...done.\n"
       ]
      },
      {
       "output_type": "stream",
       "stream": "stdout",
       "text": [
        "130624-18:10:42,814 interface INFO:\n",
        "\t stdout 2013-06-24T18:10:42.814660:DoAbs = 0\n"
       ]
      },
      {
       "output_type": "stream",
       "stream": "stdout",
       "text": [
        "130624-18:10:42,815 interface INFO:\n",
        "\t stdout 2013-06-24T18:10:42.814660:Writing masked volume to /media/mnemea/MINDt-Quantidopa/PySBR-PhantomImages/Simulated/masks/S494_grade_0_masked.nii.gz...done.\n"
       ]
      },
      {
       "output_type": "stream",
       "stream": "stdout",
       "text": [
        "130624-18:10:42,917 interface INFO:\n",
        "\t stdout 2013-06-24T18:10:42.917469:DoAbs = 0\n"
       ]
      },
      {
       "output_type": "stream",
       "stream": "stdout",
       "text": [
        "130624-18:10:42,918 interface INFO:\n",
        "\t stdout 2013-06-24T18:10:42.917469:Writing masked volume to /media/mnemea/MINDt-Quantidopa/PySBR-PhantomImages/Simulated/masks/S494_grade_1_masked.nii.gz...done.\n"
       ]
      },
      {
       "output_type": "stream",
       "stream": "stdout",
       "text": [
        "130624-18:10:43,17 interface INFO:\n",
        "\t stdout 2013-06-24T18:10:43.017252:DoAbs = 0\n"
       ]
      },
      {
       "output_type": "stream",
       "stream": "stdout",
       "text": [
        "130624-18:10:43,18 interface INFO:\n",
        "\t stdout 2013-06-24T18:10:43.017252:Writing masked volume to /media/mnemea/MINDt-Quantidopa/PySBR-PhantomImages/Simulated/masks/S494_grade_2_masked.nii.gz...done.\n"
       ]
      },
      {
       "output_type": "stream",
       "stream": "stdout",
       "text": [
        "130624-18:10:43,129 interface INFO:\n",
        "\t stdout 2013-06-24T18:10:43.129074:DoAbs = 0\n"
       ]
      },
      {
       "output_type": "stream",
       "stream": "stdout",
       "text": [
        "130624-18:10:43,130 interface INFO:\n",
        "\t stdout 2013-06-24T18:10:43.129074:Writing masked volume to /media/mnemea/MINDt-Quantidopa/PySBR-PhantomImages/Simulated/masks/S494_grade_3_masked.nii.gz...done.\n"
       ]
      },
      {
       "output_type": "stream",
       "stream": "stdout",
       "text": [
        "130624-18:10:43,271 interface INFO:\n",
        "\t stdout 2013-06-24T18:10:43.271147:DoAbs = 0\n"
       ]
      },
      {
       "output_type": "stream",
       "stream": "stdout",
       "text": [
        "130624-18:10:43,272 interface INFO:\n",
        "\t stdout 2013-06-24T18:10:43.271147:Writing masked volume to /media/mnemea/MINDt-Quantidopa/PySBR-PhantomImages/Simulated/masks/S618_grade_0_masked.nii.gz...done.\n"
       ]
      },
      {
       "output_type": "stream",
       "stream": "stdout",
       "text": [
        "130624-18:10:43,370 interface INFO:\n",
        "\t stdout 2013-06-24T18:10:43.370387:DoAbs = 0\n"
       ]
      },
      {
       "output_type": "stream",
       "stream": "stdout",
       "text": [
        "130624-18:10:43,371 interface INFO:\n",
        "\t stdout 2013-06-24T18:10:43.370387:Writing masked volume to /media/mnemea/MINDt-Quantidopa/PySBR-PhantomImages/Simulated/masks/S618_grade_1_masked.nii.gz...done.\n"
       ]
      },
      {
       "output_type": "stream",
       "stream": "stdout",
       "text": [
        "130624-18:10:43,467 interface INFO:\n",
        "\t stdout 2013-06-24T18:10:43.467262:DoAbs = 0\n"
       ]
      },
      {
       "output_type": "stream",
       "stream": "stdout",
       "text": [
        "130624-18:10:43,468 interface INFO:\n",
        "\t stdout 2013-06-24T18:10:43.467262:Writing masked volume to /media/mnemea/MINDt-Quantidopa/PySBR-PhantomImages/Simulated/masks/S618_grade_2_masked.nii.gz...done.\n"
       ]
      },
      {
       "output_type": "stream",
       "stream": "stdout",
       "text": [
        "130624-18:10:43,563 interface INFO:\n",
        "\t stdout 2013-06-24T18:10:43.563230:DoAbs = 0\n"
       ]
      },
      {
       "output_type": "stream",
       "stream": "stdout",
       "text": [
        "130624-18:10:43,564 interface INFO:\n",
        "\t stdout 2013-06-24T18:10:43.563230:Writing masked volume to /media/mnemea/MINDt-Quantidopa/PySBR-PhantomImages/Simulated/masks/S618_grade_3_masked.nii.gz...done.\n"
       ]
      },
      {
       "output_type": "stream",
       "stream": "stdout",
       "text": [
        "130624-18:10:43,691 interface INFO:\n",
        "\t stdout 2013-06-24T18:10:43.691677:DoAbs = 0\n"
       ]
      },
      {
       "output_type": "stream",
       "stream": "stdout",
       "text": [
        "130624-18:10:43,692 interface INFO:\n",
        "\t stdout 2013-06-24T18:10:43.691677:Writing masked volume to /media/mnemea/MINDt-Quantidopa/PySBR-PhantomImages/Simulated/masks/S428_grade_0_masked.nii.gz...done.\n"
       ]
      },
      {
       "output_type": "stream",
       "stream": "stdout",
       "text": [
        "130624-18:10:43,804 interface INFO:\n",
        "\t stdout 2013-06-24T18:10:43.804541:DoAbs = 0\n"
       ]
      },
      {
       "output_type": "stream",
       "stream": "stdout",
       "text": [
        "130624-18:10:43,805 interface INFO:\n",
        "\t stdout 2013-06-24T18:10:43.804541:Writing masked volume to /media/mnemea/MINDt-Quantidopa/PySBR-PhantomImages/Simulated/masks/S428_grade_1_masked.nii.gz...done.\n"
       ]
      },
      {
       "output_type": "stream",
       "stream": "stdout",
       "text": [
        "130624-18:10:43,913 interface INFO:\n",
        "\t stdout 2013-06-24T18:10:43.913034:DoAbs = 0\n"
       ]
      },
      {
       "output_type": "stream",
       "stream": "stdout",
       "text": [
        "130624-18:10:43,913 interface INFO:\n",
        "\t stdout 2013-06-24T18:10:43.913034:Writing masked volume to /media/mnemea/MINDt-Quantidopa/PySBR-PhantomImages/Simulated/masks/S428_grade_2_masked.nii.gz...done.\n"
       ]
      },
      {
       "output_type": "stream",
       "stream": "stdout",
       "text": [
        "130624-18:10:44,20 interface INFO:\n",
        "\t stdout 2013-06-24T18:10:44.020202:DoAbs = 0\n"
       ]
      },
      {
       "output_type": "stream",
       "stream": "stdout",
       "text": [
        "130624-18:10:44,21 interface INFO:\n",
        "\t stdout 2013-06-24T18:10:44.020202:Writing masked volume to /media/mnemea/MINDt-Quantidopa/PySBR-PhantomImages/Simulated/masks/S428_grade_3_masked.nii.gz...done.\n"
       ]
      },
      {
       "output_type": "stream",
       "stream": "stdout",
       "text": [
        "130624-18:10:44,169 interface INFO:\n",
        "\t stdout 2013-06-24T18:10:44.169600:DoAbs = 0\n"
       ]
      },
      {
       "output_type": "stream",
       "stream": "stdout",
       "text": [
        "130624-18:10:44,170 interface INFO:\n",
        "\t stdout 2013-06-24T18:10:44.169600:Writing masked volume to /media/mnemea/MINDt-Quantidopa/PySBR-PhantomImages/Simulated/masks/S356_grade_0_masked.nii.gz...done.\n"
       ]
      },
      {
       "output_type": "stream",
       "stream": "stdout",
       "text": [
        "130624-18:10:44,293 interface INFO:\n",
        "\t stdout 2013-06-24T18:10:44.293606:DoAbs = 0\n"
       ]
      },
      {
       "output_type": "stream",
       "stream": "stdout",
       "text": [
        "130624-18:10:44,294 interface INFO:\n",
        "\t stdout 2013-06-24T18:10:44.293606:Writing masked volume to /media/mnemea/MINDt-Quantidopa/PySBR-PhantomImages/Simulated/masks/S356_grade_1_masked.nii.gz...done.\n"
       ]
      },
      {
       "output_type": "stream",
       "stream": "stdout",
       "text": [
        "130624-18:10:44,402 interface INFO:\n",
        "\t stdout 2013-06-24T18:10:44.402326:DoAbs = 0\n"
       ]
      },
      {
       "output_type": "stream",
       "stream": "stdout",
       "text": [
        "130624-18:10:44,403 interface INFO:\n",
        "\t stdout 2013-06-24T18:10:44.402326:Writing masked volume to /media/mnemea/MINDt-Quantidopa/PySBR-PhantomImages/Simulated/masks/S356_grade_2_masked.nii.gz...done.\n"
       ]
      },
      {
       "output_type": "stream",
       "stream": "stdout",
       "text": [
        "130624-18:10:44,527 interface INFO:\n",
        "\t stdout 2013-06-24T18:10:44.527068:DoAbs = 0\n"
       ]
      },
      {
       "output_type": "stream",
       "stream": "stdout",
       "text": [
        "130624-18:10:44,528 interface INFO:\n",
        "\t stdout 2013-06-24T18:10:44.527068:Writing masked volume to /media/mnemea/MINDt-Quantidopa/PySBR-PhantomImages/Simulated/masks/S356_grade_3_masked.nii.gz...done.\n"
       ]
      },
      {
       "output_type": "stream",
       "stream": "stdout",
       "text": [
        "130624-18:10:44,660 interface INFO:\n",
        "\t stdout 2013-06-24T18:10:44.660159:DoAbs = 0\n"
       ]
      },
      {
       "output_type": "stream",
       "stream": "stdout",
       "text": [
        "130624-18:10:44,661 interface INFO:\n",
        "\t stdout 2013-06-24T18:10:44.660159:Writing masked volume to /media/mnemea/MINDt-Quantidopa/PySBR-PhantomImages/Simulated/masks/S063_grade_0_masked.nii.gz...done.\n"
       ]
      },
      {
       "output_type": "stream",
       "stream": "stdout",
       "text": [
        "130624-18:10:44,770 interface INFO:\n",
        "\t stdout 2013-06-24T18:10:44.770607:DoAbs = 0\n"
       ]
      },
      {
       "output_type": "stream",
       "stream": "stdout",
       "text": [
        "130624-18:10:44,771 interface INFO:\n",
        "\t stdout 2013-06-24T18:10:44.770607:Writing masked volume to /media/mnemea/MINDt-Quantidopa/PySBR-PhantomImages/Simulated/masks/S063_grade_1_masked.nii.gz...done.\n"
       ]
      },
      {
       "output_type": "stream",
       "stream": "stdout",
       "text": [
        "130624-18:10:44,875 interface INFO:\n",
        "\t stdout 2013-06-24T18:10:44.875349:DoAbs = 0\n"
       ]
      },
      {
       "output_type": "stream",
       "stream": "stdout",
       "text": [
        "130624-18:10:44,876 interface INFO:\n",
        "\t stdout 2013-06-24T18:10:44.875349:Writing masked volume to /media/mnemea/MINDt-Quantidopa/PySBR-PhantomImages/Simulated/masks/S063_grade_2_masked.nii.gz...done.\n"
       ]
      },
      {
       "output_type": "stream",
       "stream": "stdout",
       "text": [
        "130624-18:10:44,989 interface INFO:\n",
        "\t stdout 2013-06-24T18:10:44.989127:DoAbs = 0\n"
       ]
      },
      {
       "output_type": "stream",
       "stream": "stdout",
       "text": [
        "130624-18:10:44,990 interface INFO:\n",
        "\t stdout 2013-06-24T18:10:44.989127:Writing masked volume to /media/mnemea/MINDt-Quantidopa/PySBR-PhantomImages/Simulated/masks/S063_grade_3_masked.nii.gz...done.\n"
       ]
      },
      {
       "output_type": "stream",
       "stream": "stdout",
       "text": [
        "130624-18:10:45,132 interface INFO:\n",
        "\t stdout 2013-06-24T18:10:45.132235:DoAbs = 0\n"
       ]
      },
      {
       "output_type": "stream",
       "stream": "stdout",
       "text": [
        "130624-18:10:45,133 interface INFO:\n",
        "\t stdout 2013-06-24T18:10:45.132235:Writing masked volume to /media/mnemea/MINDt-Quantidopa/PySBR-PhantomImages/Simulated/masks/S528_grade_0_masked.nii.gz...done.\n"
       ]
      },
      {
       "output_type": "stream",
       "stream": "stdout",
       "text": [
        "130624-18:10:45,231 interface INFO:\n",
        "\t stdout 2013-06-24T18:10:45.231171:DoAbs = 0\n"
       ]
      },
      {
       "output_type": "stream",
       "stream": "stdout",
       "text": [
        "130624-18:10:45,232 interface INFO:\n",
        "\t stdout 2013-06-24T18:10:45.231171:Writing masked volume to /media/mnemea/MINDt-Quantidopa/PySBR-PhantomImages/Simulated/masks/S528_grade_1_masked.nii.gz...done.\n"
       ]
      },
      {
       "output_type": "stream",
       "stream": "stdout",
       "text": [
        "130624-18:10:45,336 interface INFO:\n",
        "\t stdout 2013-06-24T18:10:45.336901:DoAbs = 0\n"
       ]
      },
      {
       "output_type": "stream",
       "stream": "stdout",
       "text": [
        "130624-18:10:45,337 interface INFO:\n",
        "\t stdout 2013-06-24T18:10:45.336901:Writing masked volume to /media/mnemea/MINDt-Quantidopa/PySBR-PhantomImages/Simulated/masks/S528_grade_2_masked.nii.gz...done.\n"
       ]
      },
      {
       "output_type": "stream",
       "stream": "stdout",
       "text": [
        "130624-18:10:45,435 interface INFO:\n",
        "\t stdout 2013-06-24T18:10:45.435492:DoAbs = 0\n"
       ]
      },
      {
       "output_type": "stream",
       "stream": "stdout",
       "text": [
        "130624-18:10:45,436 interface INFO:\n",
        "\t stdout 2013-06-24T18:10:45.435492:Writing masked volume to /media/mnemea/MINDt-Quantidopa/PySBR-PhantomImages/Simulated/masks/S528_grade_3_masked.nii.gz...done.\n"
       ]
      },
      {
       "output_type": "stream",
       "stream": "stdout",
       "text": [
        "130624-18:10:45,573 interface INFO:\n",
        "\t stdout 2013-06-24T18:10:45.573206:DoAbs = 0\n"
       ]
      },
      {
       "output_type": "stream",
       "stream": "stdout",
       "text": [
        "130624-18:10:45,574 interface INFO:\n",
        "\t stdout 2013-06-24T18:10:45.573206:Writing masked volume to /media/mnemea/MINDt-Quantidopa/PySBR-PhantomImages/Simulated/masks/S401_grade_0_masked.nii.gz...done.\n"
       ]
      },
      {
       "output_type": "stream",
       "stream": "stdout",
       "text": [
        "130624-18:10:45,664 interface INFO:\n",
        "\t stdout 2013-06-24T18:10:45.664690:DoAbs = 0\n"
       ]
      },
      {
       "output_type": "stream",
       "stream": "stdout",
       "text": [
        "130624-18:10:45,665 interface INFO:\n",
        "\t stdout 2013-06-24T18:10:45.664690:Writing masked volume to /media/mnemea/MINDt-Quantidopa/PySBR-PhantomImages/Simulated/masks/S401_grade_1_masked.nii.gz...done.\n"
       ]
      },
      {
       "output_type": "stream",
       "stream": "stdout",
       "text": [
        "130624-18:10:45,770 interface INFO:\n",
        "\t stdout 2013-06-24T18:10:45.770275:DoAbs = 0\n"
       ]
      },
      {
       "output_type": "stream",
       "stream": "stdout",
       "text": [
        "130624-18:10:45,771 interface INFO:\n",
        "\t stdout 2013-06-24T18:10:45.770275:Writing masked volume to /media/mnemea/MINDt-Quantidopa/PySBR-PhantomImages/Simulated/masks/S401_grade_2_masked.nii.gz...done.\n"
       ]
      },
      {
       "output_type": "stream",
       "stream": "stdout",
       "text": [
        "130624-18:10:45,866 interface INFO:\n",
        "\t stdout 2013-06-24T18:10:45.866028:DoAbs = 0\n"
       ]
      },
      {
       "output_type": "stream",
       "stream": "stdout",
       "text": [
        "130624-18:10:45,867 interface INFO:\n",
        "\t stdout 2013-06-24T18:10:45.866028:Writing masked volume to /media/mnemea/MINDt-Quantidopa/PySBR-PhantomImages/Simulated/masks/S401_grade_3_masked.nii.gz...done.\n"
       ]
      },
      {
       "output_type": "stream",
       "stream": "stdout",
       "text": [
        "130624-18:10:45,995 interface INFO:\n",
        "\t stdout 2013-06-24T18:10:45.995021:DoAbs = 0\n"
       ]
      },
      {
       "output_type": "stream",
       "stream": "stdout",
       "text": [
        "130624-18:10:45,996 interface INFO:\n",
        "\t stdout 2013-06-24T18:10:45.995021:Writing masked volume to /media/mnemea/MINDt-Quantidopa/PySBR-PhantomImages/Simulated/masks/S228_grade_0_masked.nii.gz...done.\n"
       ]
      },
      {
       "output_type": "stream",
       "stream": "stdout",
       "text": [
        "130624-18:10:46,95 interface INFO:\n",
        "\t stdout 2013-06-24T18:10:46.095517:DoAbs = 0\n"
       ]
      },
      {
       "output_type": "stream",
       "stream": "stdout",
       "text": [
        "130624-18:10:46,96 interface INFO:\n",
        "\t stdout 2013-06-24T18:10:46.095517:Writing masked volume to /media/mnemea/MINDt-Quantidopa/PySBR-PhantomImages/Simulated/masks/S228_grade_1_masked.nii.gz...done.\n"
       ]
      },
      {
       "output_type": "stream",
       "stream": "stdout",
       "text": [
        "130624-18:10:46,191 interface INFO:\n",
        "\t stdout 2013-06-24T18:10:46.190913:DoAbs = 0\n"
       ]
      },
      {
       "output_type": "stream",
       "stream": "stdout",
       "text": [
        "130624-18:10:46,191 interface INFO:\n",
        "\t stdout 2013-06-24T18:10:46.190913:Writing masked volume to /media/mnemea/MINDt-Quantidopa/PySBR-PhantomImages/Simulated/masks/S228_grade_2_masked.nii.gz...done.\n"
       ]
      },
      {
       "output_type": "stream",
       "stream": "stdout",
       "text": [
        "130624-18:10:46,300 interface INFO:\n",
        "\t stdout 2013-06-24T18:10:46.299945:DoAbs = 0\n"
       ]
      },
      {
       "output_type": "stream",
       "stream": "stdout",
       "text": [
        "130624-18:10:46,300 interface INFO:\n",
        "\t stdout 2013-06-24T18:10:46.299945:Writing masked volume to /media/mnemea/MINDt-Quantidopa/PySBR-PhantomImages/Simulated/masks/S228_grade_3_masked.nii.gz...done.\n"
       ]
      },
      {
       "output_type": "stream",
       "stream": "stdout",
       "text": [
        "130624-18:10:46,456 interface INFO:\n",
        "\t stdout 2013-06-24T18:10:46.456407:DoAbs = 0\n"
       ]
      },
      {
       "output_type": "stream",
       "stream": "stdout",
       "text": [
        "130624-18:10:46,457 interface INFO:\n",
        "\t stdout 2013-06-24T18:10:46.456407:Writing masked volume to /media/mnemea/MINDt-Quantidopa/PySBR-PhantomImages/Simulated/masks/S376_grade_0_masked.nii.gz...done.\n"
       ]
      },
      {
       "output_type": "stream",
       "stream": "stdout",
       "text": [
        "130624-18:10:46,549 interface INFO:\n",
        "\t stdout 2013-06-24T18:10:46.549786:DoAbs = 0\n"
       ]
      },
      {
       "output_type": "stream",
       "stream": "stdout",
       "text": [
        "130624-18:10:46,550 interface INFO:\n",
        "\t stdout 2013-06-24T18:10:46.549786:Writing masked volume to /media/mnemea/MINDt-Quantidopa/PySBR-PhantomImages/Simulated/masks/S376_grade_1_masked.nii.gz...done.\n"
       ]
      },
      {
       "output_type": "stream",
       "stream": "stdout",
       "text": [
        "130624-18:10:46,645 interface INFO:\n",
        "\t stdout 2013-06-24T18:10:46.645311:DoAbs = 0\n"
       ]
      },
      {
       "output_type": "stream",
       "stream": "stdout",
       "text": [
        "130624-18:10:46,646 interface INFO:\n",
        "\t stdout 2013-06-24T18:10:46.645311:Writing masked volume to /media/mnemea/MINDt-Quantidopa/PySBR-PhantomImages/Simulated/masks/S376_grade_2_masked.nii.gz...done.\n"
       ]
      },
      {
       "output_type": "stream",
       "stream": "stdout",
       "text": [
        "130624-18:10:46,743 interface INFO:\n",
        "\t stdout 2013-06-24T18:10:46.742919:DoAbs = 0\n"
       ]
      },
      {
       "output_type": "stream",
       "stream": "stdout",
       "text": [
        "130624-18:10:46,744 interface INFO:\n",
        "\t stdout 2013-06-24T18:10:46.742919:Writing masked volume to /media/mnemea/MINDt-Quantidopa/PySBR-PhantomImages/Simulated/masks/S376_grade_3_masked.nii.gz...done.\n"
       ]
      },
      {
       "output_type": "stream",
       "stream": "stdout",
       "text": [
        "130624-18:10:46,881 interface INFO:\n",
        "\t stdout 2013-06-24T18:10:46.881443:DoAbs = 0\n"
       ]
      },
      {
       "output_type": "stream",
       "stream": "stdout",
       "text": [
        "130624-18:10:46,882 interface INFO:\n",
        "\t stdout 2013-06-24T18:10:46.881443:Writing masked volume to /media/mnemea/MINDt-Quantidopa/PySBR-PhantomImages/Simulated/masks/S397_grade_0_masked.nii.gz...done.\n"
       ]
      },
      {
       "output_type": "stream",
       "stream": "stdout",
       "text": [
        "130624-18:10:46,989 interface INFO:\n",
        "\t stdout 2013-06-24T18:10:46.989508:DoAbs = 0\n"
       ]
      },
      {
       "output_type": "stream",
       "stream": "stdout",
       "text": [
        "130624-18:10:46,990 interface INFO:\n",
        "\t stdout 2013-06-24T18:10:46.989508:Writing masked volume to /media/mnemea/MINDt-Quantidopa/PySBR-PhantomImages/Simulated/masks/S397_grade_1_masked.nii.gz...done.\n"
       ]
      },
      {
       "output_type": "stream",
       "stream": "stdout",
       "text": [
        "130624-18:10:47,90 interface INFO:\n",
        "\t stdout 2013-06-24T18:10:47.090475:DoAbs = 0\n"
       ]
      },
      {
       "output_type": "stream",
       "stream": "stdout",
       "text": [
        "130624-18:10:47,91 interface INFO:\n",
        "\t stdout 2013-06-24T18:10:47.090475:Writing masked volume to /media/mnemea/MINDt-Quantidopa/PySBR-PhantomImages/Simulated/masks/S397_grade_2_masked.nii.gz...done.\n"
       ]
      },
      {
       "output_type": "stream",
       "stream": "stdout",
       "text": [
        "130624-18:10:47,186 interface INFO:\n",
        "\t stdout 2013-06-24T18:10:47.186645:DoAbs = 0\n"
       ]
      },
      {
       "output_type": "stream",
       "stream": "stdout",
       "text": [
        "130624-18:10:47,187 interface INFO:\n",
        "\t stdout 2013-06-24T18:10:47.186645:Writing masked volume to /media/mnemea/MINDt-Quantidopa/PySBR-PhantomImages/Simulated/masks/S397_grade_3_masked.nii.gz...done.\n"
       ]
      },
      {
       "output_type": "stream",
       "stream": "stdout",
       "text": [
        "130624-18:10:47,325 interface INFO:\n",
        "\t stdout 2013-06-24T18:10:47.325429:DoAbs = 0\n"
       ]
      },
      {
       "output_type": "stream",
       "stream": "stdout",
       "text": [
        "130624-18:10:47,326 interface INFO:\n",
        "\t stdout 2013-06-24T18:10:47.325429:Writing masked volume to /media/mnemea/MINDt-Quantidopa/PySBR-PhantomImages/Simulated/masks/S289_grade_0_masked.nii.gz...done.\n"
       ]
      },
      {
       "output_type": "stream",
       "stream": "stdout",
       "text": [
        "130624-18:10:47,457 interface INFO:\n",
        "\t stdout 2013-06-24T18:10:47.457800:DoAbs = 0\n"
       ]
      },
      {
       "output_type": "stream",
       "stream": "stdout",
       "text": [
        "130624-18:10:47,458 interface INFO:\n",
        "\t stdout 2013-06-24T18:10:47.457800:Writing masked volume to /media/mnemea/MINDt-Quantidopa/PySBR-PhantomImages/Simulated/masks/S289_grade_1_masked.nii.gz...done.\n"
       ]
      },
      {
       "output_type": "stream",
       "stream": "stdout",
       "text": [
        "130624-18:10:47,558 interface INFO:\n",
        "\t stdout 2013-06-24T18:10:47.558306:DoAbs = 0\n"
       ]
      },
      {
       "output_type": "stream",
       "stream": "stdout",
       "text": [
        "130624-18:10:47,559 interface INFO:\n",
        "\t stdout 2013-06-24T18:10:47.558306:Writing masked volume to /media/mnemea/MINDt-Quantidopa/PySBR-PhantomImages/Simulated/masks/S289_grade_2_masked.nii.gz...done.\n"
       ]
      },
      {
       "output_type": "stream",
       "stream": "stdout",
       "text": [
        "130624-18:10:47,653 interface INFO:\n",
        "\t stdout 2013-06-24T18:10:47.653911:DoAbs = 0\n"
       ]
      },
      {
       "output_type": "stream",
       "stream": "stdout",
       "text": [
        "130624-18:10:47,654 interface INFO:\n",
        "\t stdout 2013-06-24T18:10:47.653911:Writing masked volume to /media/mnemea/MINDt-Quantidopa/PySBR-PhantomImages/Simulated/masks/S289_grade_3_masked.nii.gz...done.\n"
       ]
      }
     ],
     "prompt_number": 4
    },
    {
     "cell_type": "code",
     "collapsed": false,
     "input": [],
     "language": "python",
     "metadata": {},
     "outputs": []
    }
   ],
   "metadata": {}
  }
 ]
}
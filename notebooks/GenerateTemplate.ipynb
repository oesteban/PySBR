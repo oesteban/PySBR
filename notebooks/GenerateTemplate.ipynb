{
 "metadata": {
  "name": "GenerateTemplate"
 },
 "nbformat": 3,
 "nbformat_minor": 0,
 "worksheets": [
  {
   "cells": [
    {
     "cell_type": "code",
     "collapsed": false,
     "input": [
      "import os.path as op\n",
      "import pysbr.interfaces as sbrifs\n",
      "import copy"
     ],
     "language": "python",
     "metadata": {},
     "outputs": []
    },
    {
     "cell_type": "code",
     "collapsed": false,
     "input": [
      "tpl_dir = op.join( sbrifs.get_datapath(), 'template' )"
     ],
     "language": "python",
     "metadata": {},
     "outputs": []
    },
    {
     "cell_type": "code",
     "collapsed": false,
     "input": [
      "tpl_gen = sbrifs.TemplateSource(base_dir=tpl_dir, force_init=True )\n",
      "tpl_gen2 = copy.deepcopy( tpl_gen )\n",
      "tpl_gen3 = copy.deepcopy( tpl_gen )"
     ],
     "language": "python",
     "metadata": {},
     "outputs": []
    },
    {
     "cell_type": "code",
     "collapsed": false,
     "input": [
      "tpl_gen.inputs.name = 'normal'\n",
      "tpl_gen.run()"
     ],
     "language": "python",
     "metadata": {},
     "outputs": []
    },
    {
     "cell_type": "code",
     "collapsed": false,
     "input": [
      "tpl_gen2.inputs.name = 'simulated'\n",
      "tpl_gen2.run()"
     ],
     "language": "python",
     "metadata": {},
     "outputs": []
    },
    {
     "cell_type": "code",
     "collapsed": false,
     "input": [],
     "language": "python",
     "metadata": {},
     "outputs": []
    }
   ],
   "metadata": {}
  }
 ]
}
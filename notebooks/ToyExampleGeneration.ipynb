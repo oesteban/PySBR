{
 "metadata": {
  "name": "ToyExampleGeneration"
 },
 "nbformat": 3,
 "nbformat_minor": 0,
 "worksheets": [
  {
   "cells": [
    {
     "cell_type": "code",
     "collapsed": false,
     "input": [
      "import os, os.path as op\n",
      "import sys\n",
      "root_dir = op.abspath( '../' )\n",
      "sys.path.append( op.join( root_dir, 'pysbr') )\n",
      "\n",
      "import interfaces as pysbr\n",
      "import workflows as sbrwf"
     ],
     "language": "python",
     "metadata": {},
     "outputs": [
      {
       "output_type": "stream",
       "stream": "stderr",
       "text": [
        "/usr/local/lib/python2.7/dist-packages/nose/plugins/manager.py:418: UserWarning: Module PIL was already imported from /usr/local/lib/python2.7/dist-packages/PIL/__init__.pyc, but /usr/lib/python2.7/dist-packages is being added to sys.path\n",
        "  import pkg_resources\n"
       ]
      }
     ],
     "prompt_number": 1
    },
    {
     "cell_type": "code",
     "collapsed": false,
     "input": [
      "data_dir = op.abspath( '/media/mnemea/MINDt-Quantidopa/PySBR-PhantomImages/' )\n",
      "tmpl_dir = op.join( pysbr.get_datapath(), 'template' )\n",
      "work_dir = op.join( data_dir, 'temp')\n",
      "out_dir = op.join( data_dir, 'Simulations' )\n",
      "\n",
      "if not op.exists( work_dir ):\n",
      "    os.makedirs( work_dir )\n",
      "    \n",
      "if not op.exists( out_dir ):\n",
      "    os.makedirs( out_dir )"
     ],
     "language": "python",
     "metadata": {},
     "outputs": [],
     "prompt_number": 2
    },
    {
     "cell_type": "code",
     "collapsed": false,
     "input": [
      "import nipype.pipeline.engine as pe\n",
      "import nipype.interfaces.freesurfer as fs\n",
      "import nipype.interfaces.fsl.preprocess as fsl\n",
      "import nipype.interfaces.utility as niu\n",
      "\n",
      "def to_orig( name='to_orig' ):\n",
      "    to_orig = pe.Workflow( name=name )\n",
      "    inputnode = pe.Node( niu.IdentityInterface( fields=['in_file', 'in_orig' ] ), name='inputnode' )\n",
      "    outputnode = pe.Node( niu.IdentityInterface( fields=['out_file'] ), name='outputnode' )\n",
      "    applyreg = pe.Node( fs.ApplyVolTransform(reg_header=True, interp='nearest'), name='applyreg' )\n",
      "    convert = pe.Node( fs.MRIConvert( out_type='niigz' ), name='convert' )\n",
      "    to_orig.connect([\n",
      "                      ( inputnode, applyreg, [ ( 'in_file', 'source_file' ),('in_orig','target_file') ] )\n",
      "                     ,( applyreg,   convert, [ ( 'transformed_file','in_file' ) ] )\n",
      "                     ,( convert, outputnode, [ ( 'out_file', 'out_file' ) ])                     \n",
      "                     ])\n",
      "    \n",
      "    return to_orig    "
     ],
     "language": "python",
     "metadata": {},
     "outputs": [],
     "prompt_number": 3
    },
    {
     "cell_type": "code",
     "collapsed": false,
     "input": [
      "def gen_phantom_workflow( name=\"GeneratePhantom\" ):\n",
      "    gen = pe.Workflow( name=name )\n",
      "    inputnode = pe.Node( niu.IdentityInterface( fields=['in_file', 'in_mask', 'in_aseg' ] ), name='inputnode' )\n",
      "    outputnode = pe.Node( niu.IdentityInterface( fields=['out_files','out_rois','out_seg'] ), name='outputnode' )\n",
      "    seg_to_orig = to_orig(name='seg_to_orig')\n",
      "    gen_data = pe.Node( pysbr.PhantomGenerate(), name='Gen' )\n",
      "    resample = pe.MapNode( fs.MRIConvert(vox_size=(3.9,3.9,3.9), out_datatype='float'), name=\"resample\", iterfield=['in_file'] )\n",
      "    \n",
      "    gen.connect([\n",
      "                  (  inputnode, seg_to_orig, [ ('in_aseg', 'inputnode.in_file' ), ('in_file', 'inputnode.in_orig' )] )\n",
      "                 ,(seg_to_orig,    gen_data, [ ('outputnode.out_file', 'in_file' )])\n",
      "                 ,(   gen_data,    resample, [ ('out_files','in_file' )])\n",
      "                 ,(   resample,  outputnode, [ ('out_file', 'out_files' ) ])\n",
      "                 ,(   gen_data,  outputnode, [ ('out_rois','out_rois'), ('out_seg', 'out_seg' ) ])\n",
      "                ])\n",
      "    \n",
      "    \n",
      "    return gen"
     ],
     "language": "python",
     "metadata": {},
     "outputs": [],
     "prompt_number": 4
    },
    {
     "cell_type": "code",
     "collapsed": false,
     "input": [
      "import glob\n",
      "\n",
      "ixi_dir = '/media/mnemea/IXI_dataset/FREESURFER/'\n",
      "\n",
      "subjects_list = [ op.basename( sub ) for sub in glob.glob( op.join( ixi_dir, 'S*' ) ) ]\n",
      "\n",
      "import nipype.interfaces.io as nio\n",
      "\n",
      "\n",
      "processall = pe.Workflow( name=\"Process_All\" )\n",
      "processall.base_dir=work_dir\n",
      "\n",
      "def _basename( fnames ):\n",
      "    import numpy as np\n",
      "    import os.path as op\n",
      "    fnames = np.atleast_1d( fnames )\n",
      "    \n",
      "    res = [ op.basename( n ) for n in fnames ]\n",
      "    print res\n",
      "    return res\n",
      "\n",
      "\n",
      "#initiate the infosource node\n",
      "infosource = pe.Node(interface=niu.IdentityInterface(fields=['subject_id']),\n",
      "                     name=\"infosource\")\n",
      "\n",
      "#define the list of subjects your pipeline should be executed on\n",
      "infosource.iterables = ('subject_id', subjects_list[0:30] )\n",
      "\n",
      "datasource = pe.Node( nio.DataGrabber(sort_filelist=False,infields=['subject_id'], outfields=['t1', 'aseg', 'brainmask']), name=\"dsource\" )\n",
      "datasource.inputs.template = ixi_dir + '%s/mri/%s.mgz'\n",
      "\n",
      "datasink = pe.MapNode(interface=nio.DataSink(base_directory=out_dir,  infields=['phantom']), name=\"datasink\", iterfield=['phantom'] )\n",
      "datasink.inputs.parametrization=True\n",
      "\n",
      "datasink2 = pe.MapNode(interface=nio.DataSink(base_directory=out_dir,  infields=['rois']), name=\"datasink2\", iterfield=['rois'] )\n",
      "datasink2.inputs.parametrization=True\n",
      "\n",
      "info = dict(t1=[['subject_id', 'rawavg' ]],\n",
      "            aseg=[['subject_id','aseg'  ]],\n",
      "            brainmask=[['subject_id', 'brainmask' ]] )\n",
      "\n",
      "datasource.inputs.template_args = info\n",
      "\n",
      "wf = gen_phantom_workflow()\n",
      "\n",
      "processall.connect([\n",
      "                     ( infosource, datasource, [ ( 'subject_id', 'subject_id' ) ])\n",
      "                    ,( datasource, wf, [ ('t1', 'inputnode.in_file'),\n",
      "                                         ('aseg','inputnode.in_aseg') ])\n",
      "                    ,( infosource, datasink, [ ('subject_id', 'container' ) ] )\n",
      "                    ,( infosource, datasink2, [ ('subject_id', 'container' ) ] )\n",
      "                    ,( wf, datasink, [ ('outputnode.out_files', 'phantom' )])\n",
      "                    ,( wf, datasink2, [ ('outputnode.out_rois', 'rois' ) ])\n",
      "                    ])"
     ],
     "language": "python",
     "metadata": {},
     "outputs": [],
     "prompt_number": 5
    },
    {
     "cell_type": "code",
     "collapsed": false,
     "input": [
      "processall.run()"
     ],
     "language": "python",
     "metadata": {},
     "outputs": [
      {
       "output_type": "stream",
       "stream": "stdout",
       "text": [
        "131026-03:12:31,885 workflow INFO:\n",
        "\t ['check', 'execution', 'logging']\n"
       ]
      },
      {
       "output_type": "stream",
       "stream": "stdout",
       "text": [
        "131026-03:12:32,340 workflow INFO:\n",
        "\t Running serially.\n"
       ]
      },
      {
       "output_type": "stream",
       "stream": "stdout",
       "text": [
        "131026-03:12:32,342 workflow INFO:\n",
        "\t Executing node dsource.a13 in dir: /media/mnemea/MINDt-Quantidopa/PySBR-PhantomImages/temp/Process_All/_subject_id_S153/dsource\n"
       ]
      },
      {
       "output_type": "stream",
       "stream": "stdout",
       "text": [
        "131026-03:12:32,394 workflow INFO:\n",
        "\t Executing node dsource.a09 in dir: /media/mnemea/MINDt-Quantidopa/PySBR-PhantomImages/temp/Process_All/_subject_id_S519/dsource\n"
       ]
      },
      {
       "output_type": "stream",
       "stream": "stdout",
       "text": [
        "131026-03:12:32,449 workflow INFO:\n",
        "\t Executing node applyreg.a13 in dir: /media/mnemea/MINDt-Quantidopa/PySBR-PhantomImages/temp/Process_All/GeneratePhantom/seg_to_orig/_subject_id_S153/applyreg\n"
       ]
      },
      {
       "output_type": "stream",
       "stream": "stdout",
       "text": [
        "131026-03:12:32,452 workflow INFO:\n",
        "\t Collecting precomputed outputs\n"
       ]
      },
      {
       "output_type": "stream",
       "stream": "stdout",
       "text": [
        "131026-03:12:32,465 workflow INFO:\n",
        "\t Executing node applyreg.a09 in dir: /media/mnemea/MINDt-Quantidopa/PySBR-PhantomImages/temp/Process_All/GeneratePhantom/seg_to_orig/_subject_id_S519/applyreg\n"
       ]
      },
      {
       "output_type": "stream",
       "stream": "stdout",
       "text": [
        "131026-03:12:32,468 workflow INFO:\n",
        "\t Collecting precomputed outputs\n"
       ]
      },
      {
       "output_type": "stream",
       "stream": "stdout",
       "text": [
        "131026-03:12:32,475 workflow INFO:\n",
        "\t Executing node dsource.a24 in dir: /media/mnemea/MINDt-Quantidopa/PySBR-PhantomImages/temp/Process_All/_subject_id_S555/dsource\n"
       ]
      },
      {
       "output_type": "stream",
       "stream": "stdout",
       "text": [
        "131026-03:12:32,532 workflow INFO:\n",
        "\t Executing node applyreg.a24 in dir: /media/mnemea/MINDt-Quantidopa/PySBR-PhantomImages/temp/Process_All/GeneratePhantom/seg_to_orig/_subject_id_S555/applyreg\n"
       ]
      },
      {
       "output_type": "stream",
       "stream": "stdout",
       "text": [
        "131026-03:12:32,536 workflow INFO:\n",
        "\t Collecting precomputed outputs\n"
       ]
      },
      {
       "output_type": "stream",
       "stream": "stdout",
       "text": [
        "131026-03:12:32,542 workflow INFO:\n",
        "\t Executing node dsource.a08 in dir: /media/mnemea/MINDt-Quantidopa/PySBR-PhantomImages/temp/Process_All/_subject_id_S214/dsource\n"
       ]
      },
      {
       "output_type": "stream",
       "stream": "stdout",
       "text": [
        "131026-03:12:32,592 workflow INFO:\n",
        "\t Executing node dsource.a27 in dir: /media/mnemea/MINDt-Quantidopa/PySBR-PhantomImages/temp/Process_All/_subject_id_S231/dsource\n"
       ]
      },
      {
       "output_type": "stream",
       "stream": "stdout",
       "text": [
        "131026-03:12:32,648 workflow INFO:\n",
        "\t Executing node applyreg.a08 in dir: /media/mnemea/MINDt-Quantidopa/PySBR-PhantomImages/temp/Process_All/GeneratePhantom/seg_to_orig/_subject_id_S214/applyreg\n"
       ]
      },
      {
       "output_type": "stream",
       "stream": "stdout",
       "text": [
        "131026-03:12:32,651 workflow INFO:\n",
        "\t Collecting precomputed outputs\n"
       ]
      },
      {
       "output_type": "stream",
       "stream": "stdout",
       "text": [
        "131026-03:12:32,660 workflow INFO:\n",
        "\t Executing node convert.a24 in dir: /media/mnemea/MINDt-Quantidopa/PySBR-PhantomImages/temp/Process_All/GeneratePhantom/seg_to_orig/_subject_id_S555/convert\n"
       ]
      },
      {
       "output_type": "stream",
       "stream": "stdout",
       "text": [
        "131026-03:12:32,663 workflow INFO:\n",
        "\t Collecting precomputed outputs\n"
       ]
      },
      {
       "output_type": "stream",
       "stream": "stdout",
       "text": [
        "131026-03:12:32,669 workflow INFO:\n",
        "\t Executing node dsource.a12 in dir: /media/mnemea/MINDt-Quantidopa/PySBR-PhantomImages/temp/Process_All/_subject_id_S356/dsource\n"
       ]
      },
      {
       "output_type": "stream",
       "stream": "stdout",
       "text": [
        "131026-03:12:32,723 workflow INFO:\n",
        "\t Executing node convert.a09 in dir: /media/mnemea/MINDt-Quantidopa/PySBR-PhantomImages/temp/Process_All/GeneratePhantom/seg_to_orig/_subject_id_S519/convert\n"
       ]
      },
      {
       "output_type": "stream",
       "stream": "stdout",
       "text": [
        "131026-03:12:32,726 workflow INFO:\n",
        "\t Collecting precomputed outputs\n"
       ]
      },
      {
       "output_type": "stream",
       "stream": "stdout",
       "text": [
        "131026-03:12:32,735 workflow INFO:\n",
        "\t Executing node Gen.a24 in dir: /media/mnemea/MINDt-Quantidopa/PySBR-PhantomImages/temp/Process_All/GeneratePhantom/_subject_id_S555/Gen\n"
       ]
      },
      {
       "output_type": "stream",
       "stream": "stdout",
       "text": [
        "131026-03:13:35,989 workflow INFO:\n",
        "\t Executing node applyreg.a27 in dir: /media/mnemea/MINDt-Quantidopa/PySBR-PhantomImages/temp/Process_All/GeneratePhantom/seg_to_orig/_subject_id_S231/applyreg\n"
       ]
      },
      {
       "output_type": "stream",
       "stream": "stdout",
       "text": [
        "131026-03:13:35,993 workflow INFO:\n",
        "\t Collecting precomputed outputs\n"
       ]
      },
      {
       "output_type": "stream",
       "stream": "stdout",
       "text": [
        "131026-03:13:36,0 workflow INFO:\n",
        "\t Executing node dsource.a29 in dir: /media/mnemea/MINDt-Quantidopa/PySBR-PhantomImages/temp/Process_All/_subject_id_S397/dsource\n"
       ]
      },
      {
       "output_type": "stream",
       "stream": "stdout",
       "text": [
        "131026-03:13:36,51 workflow INFO:\n",
        "\t Executing node dsource.a07 in dir: /media/mnemea/MINDt-Quantidopa/PySBR-PhantomImages/temp/Process_All/_subject_id_S549/dsource\n"
       ]
      },
      {
       "output_type": "stream",
       "stream": "stdout",
       "text": [
        "131026-03:13:36,110 workflow INFO:\n",
        "\t Executing node applyreg.a12 in dir: /media/mnemea/MINDt-Quantidopa/PySBR-PhantomImages/temp/Process_All/GeneratePhantom/seg_to_orig/_subject_id_S356/applyreg\n"
       ]
      },
      {
       "output_type": "stream",
       "stream": "stdout",
       "text": [
        "131026-03:13:36,114 workflow INFO:\n",
        "\t Collecting precomputed outputs\n"
       ]
      },
      {
       "output_type": "stream",
       "stream": "stdout",
       "text": [
        "131026-03:13:36,125 workflow INFO:\n",
        "\t Executing node applyreg.a07 in dir: /media/mnemea/MINDt-Quantidopa/PySBR-PhantomImages/temp/Process_All/GeneratePhantom/seg_to_orig/_subject_id_S549/applyreg\n"
       ]
      },
      {
       "output_type": "stream",
       "stream": "stdout",
       "text": [
        "131026-03:13:36,129 workflow INFO:\n",
        "\t Collecting precomputed outputs\n"
       ]
      },
      {
       "output_type": "stream",
       "stream": "stdout",
       "text": [
        "131026-03:13:36,138 workflow INFO:\n",
        "\t Executing node convert.a12 in dir: /media/mnemea/MINDt-Quantidopa/PySBR-PhantomImages/temp/Process_All/GeneratePhantom/seg_to_orig/_subject_id_S356/convert\n"
       ]
      },
      {
       "output_type": "stream",
       "stream": "stdout",
       "text": [
        "131026-03:13:36,141 workflow INFO:\n",
        "\t Collecting precomputed outputs\n"
       ]
      },
      {
       "output_type": "stream",
       "stream": "stdout",
       "text": [
        "131026-03:13:36,150 workflow INFO:\n",
        "\t Executing node Gen.a12 in dir: /media/mnemea/MINDt-Quantidopa/PySBR-PhantomImages/temp/Process_All/GeneratePhantom/_subject_id_S356/Gen\n"
       ]
      },
      {
       "output_type": "stream",
       "stream": "stdout",
       "text": [
        "131026-03:14:39,555 workflow INFO:\n",
        "\t Executing node resample.a12 in dir: /media/mnemea/MINDt-Quantidopa/PySBR-PhantomImages/temp/Process_All/GeneratePhantom/_subject_id_S356/resample\n"
       ]
      },
      {
       "output_type": "stream",
       "stream": "stdout",
       "text": [
        "131026-03:14:39,584 workflow INFO:\n",
        "\t Executing node _resample0 in dir: /media/mnemea/MINDt-Quantidopa/PySBR-PhantomImages/temp/Process_All/GeneratePhantom/_subject_id_S356/resample/mapflow/_resample0\n"
       ]
      },
      {
       "output_type": "stream",
       "stream": "stdout",
       "text": [
        "131026-03:14:39,617 workflow INFO:\n",
        "\t Running: mri_convert --out_data_type float -voxsize 3.900000 3.900000 3.900000 --input_volume /media/mnemea/MINDt-Quantidopa/PySBR-PhantomImages/temp/Process_All/GeneratePhantom/_subject_id_S356/Gen/dat_phantom_grad0.nii.gz --output_volume /media/mnemea/MINDt-Quantidopa/PySBR-PhantomImages/temp/Process_All/GeneratePhantom/_subject_id_S356/resample/mapflow/_resample0/dat_phantom_grad0_out.nii.gz\n"
       ]
      },
      {
       "output_type": "stream",
       "stream": "stdout",
       "text": [
        "131026-03:14:39,662 interface INFO:\n",
        "\t stdout 2013-10-26T03:14:39.662458:mri_convert --out_data_type float -voxsize 3.900000 3.900000 3.900000 --input_volume /media/mnemea/MINDt-Quantidopa/PySBR-PhantomImages/temp/Process_All/GeneratePhantom/_subject_id_S356/Gen/dat_phantom_grad0.nii.gz --output_volume /media/mnemea/MINDt-Quantidopa/PySBR-PhantomImages/temp/Process_All/GeneratePhantom/_subject_id_S356/resample/mapflow/_resample0/dat_phantom_grad0_out.nii.gz \n"
       ]
      },
      {
       "output_type": "stream",
       "stream": "stdout",
       "text": [
        "131026-03:14:40,342 interface INFO:\n",
        "\t stdout 2013-10-26T03:14:40.342860:$Id: mri_convert.c,v 1.179.2.7 2012/09/05 21:55:16 mreuter Exp $\n"
       ]
      },
      {
       "output_type": "stream",
       "stream": "stdout",
       "text": [
        "131026-03:14:40,343 interface INFO:\n",
        "\t stdout 2013-10-26T03:14:40.342860:reading from /media/mnemea/MINDt-Quantidopa/PySBR-PhantomImages/temp/Process_All/GeneratePhantom/_subject_id_S356/Gen/dat_phantom_grad0.nii.gz...\n"
       ]
      },
      {
       "output_type": "stream",
       "stream": "stdout",
       "text": [
        "131026-03:14:40,344 interface INFO:\n",
        "\t stdout 2013-10-26T03:14:40.342860:TR=0.00, TE=0.00, TI=0.00, flip angle=0.00\n"
       ]
      },
      {
       "output_type": "stream",
       "stream": "stdout",
       "text": [
        "131026-03:14:40,344 interface INFO:\n",
        "\t stdout 2013-10-26T03:14:40.342860:i_ras = (-0.086854, -0.995402, 0.0403767)\n"
       ]
      },
      {
       "output_type": "stream",
       "stream": "stdout",
       "text": [
        "131026-03:14:40,345 interface INFO:\n",
        "\t stdout 2013-10-26T03:14:40.342860:j_ras = (0.115164, 0.030226, 0.992887)\n"
       ]
      },
      {
       "output_type": "stream",
       "stream": "stdout",
       "text": [
        "131026-03:14:40,345 interface INFO:\n",
        "\t stdout 2013-10-26T03:14:40.342860:k_ras = (0.989542, -0.0908861, -0.112009)\n"
       ]
      },
      {
       "output_type": "stream",
       "stream": "stdout",
       "text": [
        "131026-03:14:40,346 interface INFO:\n",
        "\t stdout 2013-10-26T03:14:40.342860:Reslicing using trilinear interpolation \n"
       ]
      },
      {
       "output_type": "stream",
       "stream": "stdout",
       "text": [
        "131026-03:14:40,346 interface INFO:\n",
        "\t stdout 2013-10-26T03:14:40.342860:writing to /media/mnemea/MINDt-Quantidopa/PySBR-PhantomImages/temp/Process_All/GeneratePhantom/_subject_id_S356/resample/mapflow/_resample0/dat_phantom_grad0_out.nii.gz...\n"
       ]
      },
      {
       "output_type": "stream",
       "stream": "stdout",
       "text": [
        "131026-03:14:40,367 workflow INFO:\n",
        "\t Executing node _resample1 in dir: /media/mnemea/MINDt-Quantidopa/PySBR-PhantomImages/temp/Process_All/GeneratePhantom/_subject_id_S356/resample/mapflow/_resample1\n"
       ]
      },
      {
       "output_type": "stream",
       "stream": "stdout",
       "text": [
        "131026-03:14:40,396 workflow INFO:\n",
        "\t Running: mri_convert --out_data_type float -voxsize 3.900000 3.900000 3.900000 --input_volume /media/mnemea/MINDt-Quantidopa/PySBR-PhantomImages/temp/Process_All/GeneratePhantom/_subject_id_S356/Gen/dat_phantom_grad1.nii.gz --output_volume /media/mnemea/MINDt-Quantidopa/PySBR-PhantomImages/temp/Process_All/GeneratePhantom/_subject_id_S356/resample/mapflow/_resample1/dat_phantom_grad1_out.nii.gz\n"
       ]
      },
      {
       "output_type": "stream",
       "stream": "stdout",
       "text": [
        "131026-03:14:40,441 interface INFO:\n",
        "\t stdout 2013-10-26T03:14:40.441077:mri_convert --out_data_type float -voxsize 3.900000 3.900000 3.900000 --input_volume /media/mnemea/MINDt-Quantidopa/PySBR-PhantomImages/temp/Process_All/GeneratePhantom/_subject_id_S356/Gen/dat_phantom_grad1.nii.gz --output_volume /media/mnemea/MINDt-Quantidopa/PySBR-PhantomImages/temp/Process_All/GeneratePhantom/_subject_id_S356/resample/mapflow/_resample1/dat_phantom_grad1_out.nii.gz \n"
       ]
      },
      {
       "output_type": "stream",
       "stream": "stdout",
       "text": [
        "131026-03:14:41,122 interface INFO:\n",
        "\t stdout 2013-10-26T03:14:41.122836:$Id: mri_convert.c,v 1.179.2.7 2012/09/05 21:55:16 mreuter Exp $\n"
       ]
      },
      {
       "output_type": "stream",
       "stream": "stdout",
       "text": [
        "131026-03:14:41,123 interface INFO:\n",
        "\t stdout 2013-10-26T03:14:41.122836:reading from /media/mnemea/MINDt-Quantidopa/PySBR-PhantomImages/temp/Process_All/GeneratePhantom/_subject_id_S356/Gen/dat_phantom_grad1.nii.gz...\n"
       ]
      },
      {
       "output_type": "stream",
       "stream": "stdout",
       "text": [
        "131026-03:14:41,124 interface INFO:\n",
        "\t stdout 2013-10-26T03:14:41.122836:TR=0.00, TE=0.00, TI=0.00, flip angle=0.00\n"
       ]
      },
      {
       "output_type": "stream",
       "stream": "stdout",
       "text": [
        "131026-03:14:41,124 interface INFO:\n",
        "\t stdout 2013-10-26T03:14:41.122836:i_ras = (-0.086854, -0.995402, 0.0403767)\n"
       ]
      },
      {
       "output_type": "stream",
       "stream": "stdout",
       "text": [
        "131026-03:14:41,125 interface INFO:\n",
        "\t stdout 2013-10-26T03:14:41.122836:j_ras = (0.115164, 0.030226, 0.992887)\n"
       ]
      },
      {
       "output_type": "stream",
       "stream": "stdout",
       "text": [
        "131026-03:14:41,125 interface INFO:\n",
        "\t stdout 2013-10-26T03:14:41.122836:k_ras = (0.989542, -0.0908861, -0.112009)\n"
       ]
      },
      {
       "output_type": "stream",
       "stream": "stdout",
       "text": [
        "131026-03:14:41,126 interface INFO:\n",
        "\t stdout 2013-10-26T03:14:41.122836:Reslicing using trilinear interpolation \n"
       ]
      },
      {
       "output_type": "stream",
       "stream": "stdout",
       "text": [
        "131026-03:14:41,126 interface INFO:\n",
        "\t stdout 2013-10-26T03:14:41.122836:writing to /media/mnemea/MINDt-Quantidopa/PySBR-PhantomImages/temp/Process_All/GeneratePhantom/_subject_id_S356/resample/mapflow/_resample1/dat_phantom_grad1_out.nii.gz...\n"
       ]
      },
      {
       "output_type": "stream",
       "stream": "stdout",
       "text": [
        "131026-03:14:41,147 workflow INFO:\n",
        "\t Executing node _resample2 in dir: /media/mnemea/MINDt-Quantidopa/PySBR-PhantomImages/temp/Process_All/GeneratePhantom/_subject_id_S356/resample/mapflow/_resample2\n"
       ]
      },
      {
       "output_type": "stream",
       "stream": "stdout",
       "text": [
        "131026-03:14:41,176 workflow INFO:\n",
        "\t Running: mri_convert --out_data_type float -voxsize 3.900000 3.900000 3.900000 --input_volume /media/mnemea/MINDt-Quantidopa/PySBR-PhantomImages/temp/Process_All/GeneratePhantom/_subject_id_S356/Gen/dat_phantom_grad2.nii.gz --output_volume /media/mnemea/MINDt-Quantidopa/PySBR-PhantomImages/temp/Process_All/GeneratePhantom/_subject_id_S356/resample/mapflow/_resample2/dat_phantom_grad2_out.nii.gz\n"
       ]
      },
      {
       "output_type": "stream",
       "stream": "stdout",
       "text": [
        "131026-03:14:41,216 interface INFO:\n",
        "\t stdout 2013-10-26T03:14:41.216666:mri_convert --out_data_type float -voxsize 3.900000 3.900000 3.900000 --input_volume /media/mnemea/MINDt-Quantidopa/PySBR-PhantomImages/temp/Process_All/GeneratePhantom/_subject_id_S356/Gen/dat_phantom_grad2.nii.gz --output_volume /media/mnemea/MINDt-Quantidopa/PySBR-PhantomImages/temp/Process_All/GeneratePhantom/_subject_id_S356/resample/mapflow/_resample2/dat_phantom_grad2_out.nii.gz \n"
       ]
      },
      {
       "output_type": "stream",
       "stream": "stdout",
       "text": [
        "131026-03:14:41,895 interface INFO:\n",
        "\t stdout 2013-10-26T03:14:41.895323:$Id: mri_convert.c,v 1.179.2.7 2012/09/05 21:55:16 mreuter Exp $\n"
       ]
      },
      {
       "output_type": "stream",
       "stream": "stdout",
       "text": [
        "131026-03:14:41,896 interface INFO:\n",
        "\t stdout 2013-10-26T03:14:41.895323:reading from /media/mnemea/MINDt-Quantidopa/PySBR-PhantomImages/temp/Process_All/GeneratePhantom/_subject_id_S356/Gen/dat_phantom_grad2.nii.gz...\n"
       ]
      },
      {
       "output_type": "stream",
       "stream": "stdout",
       "text": [
        "131026-03:14:41,896 interface INFO:\n",
        "\t stdout 2013-10-26T03:14:41.895323:TR=0.00, TE=0.00, TI=0.00, flip angle=0.00\n"
       ]
      },
      {
       "output_type": "stream",
       "stream": "stdout",
       "text": [
        "131026-03:14:41,897 interface INFO:\n",
        "\t stdout 2013-10-26T03:14:41.895323:i_ras = (-0.086854, -0.995402, 0.0403767)\n"
       ]
      },
      {
       "output_type": "stream",
       "stream": "stdout",
       "text": [
        "131026-03:14:41,897 interface INFO:\n",
        "\t stdout 2013-10-26T03:14:41.895323:j_ras = (0.115164, 0.030226, 0.992887)\n"
       ]
      },
      {
       "output_type": "stream",
       "stream": "stdout",
       "text": [
        "131026-03:14:41,898 interface INFO:\n",
        "\t stdout 2013-10-26T03:14:41.895323:k_ras = (0.989542, -0.0908861, -0.112009)\n"
       ]
      },
      {
       "output_type": "stream",
       "stream": "stdout",
       "text": [
        "131026-03:14:41,898 interface INFO:\n",
        "\t stdout 2013-10-26T03:14:41.895323:Reslicing using trilinear interpolation \n"
       ]
      },
      {
       "output_type": "stream",
       "stream": "stdout",
       "text": [
        "131026-03:14:41,899 interface INFO:\n",
        "\t stdout 2013-10-26T03:14:41.895323:writing to /media/mnemea/MINDt-Quantidopa/PySBR-PhantomImages/temp/Process_All/GeneratePhantom/_subject_id_S356/resample/mapflow/_resample2/dat_phantom_grad2_out.nii.gz...\n"
       ]
      },
      {
       "output_type": "stream",
       "stream": "stdout",
       "text": [
        "131026-03:14:41,920 workflow INFO:\n",
        "\t Executing node _resample3 in dir: /media/mnemea/MINDt-Quantidopa/PySBR-PhantomImages/temp/Process_All/GeneratePhantom/_subject_id_S356/resample/mapflow/_resample3\n"
       ]
      },
      {
       "output_type": "stream",
       "stream": "stdout",
       "text": [
        "131026-03:14:41,949 workflow INFO:\n",
        "\t Running: mri_convert --out_data_type float -voxsize 3.900000 3.900000 3.900000 --input_volume /media/mnemea/MINDt-Quantidopa/PySBR-PhantomImages/temp/Process_All/GeneratePhantom/_subject_id_S356/Gen/dat_phantom_grad3.nii.gz --output_volume /media/mnemea/MINDt-Quantidopa/PySBR-PhantomImages/temp/Process_All/GeneratePhantom/_subject_id_S356/resample/mapflow/_resample3/dat_phantom_grad3_out.nii.gz\n"
       ]
      },
      {
       "output_type": "stream",
       "stream": "stdout",
       "text": [
        "131026-03:14:41,993 interface INFO:\n",
        "\t stdout 2013-10-26T03:14:41.993845:mri_convert --out_data_type float -voxsize 3.900000 3.900000 3.900000 --input_volume /media/mnemea/MINDt-Quantidopa/PySBR-PhantomImages/temp/Process_All/GeneratePhantom/_subject_id_S356/Gen/dat_phantom_grad3.nii.gz --output_volume /media/mnemea/MINDt-Quantidopa/PySBR-PhantomImages/temp/Process_All/GeneratePhantom/_subject_id_S356/resample/mapflow/_resample3/dat_phantom_grad3_out.nii.gz \n"
       ]
      },
      {
       "output_type": "stream",
       "stream": "stdout",
       "text": [
        "131026-03:14:42,675 interface INFO:\n",
        "\t stdout 2013-10-26T03:14:42.675737:$Id: mri_convert.c,v 1.179.2.7 2012/09/05 21:55:16 mreuter Exp $\n"
       ]
      },
      {
       "output_type": "stream",
       "stream": "stdout",
       "text": [
        "131026-03:14:42,676 interface INFO:\n",
        "\t stdout 2013-10-26T03:14:42.675737:reading from /media/mnemea/MINDt-Quantidopa/PySBR-PhantomImages/temp/Process_All/GeneratePhantom/_subject_id_S356/Gen/dat_phantom_grad3.nii.gz...\n"
       ]
      },
      {
       "output_type": "stream",
       "stream": "stdout",
       "text": [
        "131026-03:14:42,677 interface INFO:\n",
        "\t stdout 2013-10-26T03:14:42.675737:TR=0.00, TE=0.00, TI=0.00, flip angle=0.00\n"
       ]
      },
      {
       "output_type": "stream",
       "stream": "stdout",
       "text": [
        "131026-03:14:42,677 interface INFO:\n",
        "\t stdout 2013-10-26T03:14:42.675737:i_ras = (-0.086854, -0.995402, 0.0403767)\n"
       ]
      },
      {
       "output_type": "stream",
       "stream": "stdout",
       "text": [
        "131026-03:14:42,678 interface INFO:\n",
        "\t stdout 2013-10-26T03:14:42.675737:j_ras = (0.115164, 0.030226, 0.992887)\n"
       ]
      },
      {
       "output_type": "stream",
       "stream": "stdout",
       "text": [
        "131026-03:14:42,678 interface INFO:\n",
        "\t stdout 2013-10-26T03:14:42.675737:k_ras = (0.989542, -0.0908861, -0.112009)\n"
       ]
      },
      {
       "output_type": "stream",
       "stream": "stdout",
       "text": [
        "131026-03:14:42,678 interface INFO:\n",
        "\t stdout 2013-10-26T03:14:42.675737:Reslicing using trilinear interpolation \n"
       ]
      },
      {
       "output_type": "stream",
       "stream": "stdout",
       "text": [
        "131026-03:14:42,679 interface INFO:\n",
        "\t stdout 2013-10-26T03:14:42.675737:writing to /media/mnemea/MINDt-Quantidopa/PySBR-PhantomImages/temp/Process_All/GeneratePhantom/_subject_id_S356/resample/mapflow/_resample3/dat_phantom_grad3_out.nii.gz...\n"
       ]
      },
      {
       "output_type": "stream",
       "stream": "stdout",
       "text": [
        "131026-03:14:42,720 workflow INFO:\n",
        "\t Executing node datasink.a12 in dir: /media/mnemea/MINDt-Quantidopa/PySBR-PhantomImages/temp/Process_All/_subject_id_S356/datasink\n"
       ]
      },
      {
       "output_type": "stream",
       "stream": "stdout",
       "text": [
        "131026-03:14:42,748 workflow INFO:\n",
        "\t Executing node _datasink0 in dir: /media/mnemea/MINDt-Quantidopa/PySBR-PhantomImages/temp/Process_All/_subject_id_S356/datasink/mapflow/_datasink0\n"
       ]
      },
      {
       "output_type": "stream",
       "stream": "stdout",
       "text": [
        "131026-03:14:42,874 workflow INFO:\n",
        "\t Executing node _datasink1 in dir: /media/mnemea/MINDt-Quantidopa/PySBR-PhantomImages/temp/Process_All/_subject_id_S356/datasink/mapflow/_datasink1\n"
       ]
      },
      {
       "output_type": "stream",
       "stream": "stdout",
       "text": [
        "131026-03:14:42,979 workflow INFO:\n",
        "\t Executing node _datasink2 in dir: /media/mnemea/MINDt-Quantidopa/PySBR-PhantomImages/temp/Process_All/_subject_id_S356/datasink/mapflow/_datasink2\n"
       ]
      },
      {
       "output_type": "stream",
       "stream": "stdout",
       "text": [
        "131026-03:14:43,82 workflow INFO:\n",
        "\t Executing node _datasink3 in dir: /media/mnemea/MINDt-Quantidopa/PySBR-PhantomImages/temp/Process_All/_subject_id_S356/datasink/mapflow/_datasink3\n"
       ]
      },
      {
       "output_type": "stream",
       "stream": "stdout",
       "text": [
        "131026-03:14:43,199 workflow INFO:\n",
        "\t Executing node datasink2.a12 in dir: /media/mnemea/MINDt-Quantidopa/PySBR-PhantomImages/temp/Process_All/_subject_id_S356/datasink2\n"
       ]
      },
      {
       "output_type": "stream",
       "stream": "stdout",
       "text": [
        "131026-03:14:43,231 workflow INFO:\n",
        "\t Executing node _datasink20 in dir: /media/mnemea/MINDt-Quantidopa/PySBR-PhantomImages/temp/Process_All/_subject_id_S356/datasink2/mapflow/_datasink20\n"
       ]
      },
      {
       "output_type": "stream",
       "stream": "stdout",
       "text": [
        "131026-03:14:43,301 workflow INFO:\n",
        "\t Executing node _datasink21 in dir: /media/mnemea/MINDt-Quantidopa/PySBR-PhantomImages/temp/Process_All/_subject_id_S356/datasink2/mapflow/_datasink21\n"
       ]
      },
      {
       "output_type": "stream",
       "stream": "stdout",
       "text": [
        "131026-03:14:43,361 workflow INFO:\n",
        "\t Executing node _datasink22 in dir: /media/mnemea/MINDt-Quantidopa/PySBR-PhantomImages/temp/Process_All/_subject_id_S356/datasink2/mapflow/_datasink22\n"
       ]
      },
      {
       "output_type": "stream",
       "stream": "stdout",
       "text": [
        "131026-03:14:43,421 workflow INFO:\n",
        "\t Executing node _datasink23 in dir: /media/mnemea/MINDt-Quantidopa/PySBR-PhantomImages/temp/Process_All/_subject_id_S356/datasink2/mapflow/_datasink23\n"
       ]
      },
      {
       "output_type": "stream",
       "stream": "stdout",
       "text": [
        "131026-03:14:43,499 workflow INFO:\n",
        "\t Executing node dsource.a28 in dir: /media/mnemea/MINDt-Quantidopa/PySBR-PhantomImages/temp/Process_All/_subject_id_S238/dsource\n"
       ]
      },
      {
       "output_type": "stream",
       "stream": "stdout",
       "text": [
        "131026-03:14:43,557 workflow INFO:\n",
        "\t Executing node convert.a08 in dir: /media/mnemea/MINDt-Quantidopa/PySBR-PhantomImages/temp/Process_All/GeneratePhantom/seg_to_orig/_subject_id_S214/convert\n"
       ]
      },
      {
       "output_type": "stream",
       "stream": "stdout",
       "text": [
        "131026-03:14:43,560 workflow INFO:\n",
        "\t Collecting precomputed outputs\n"
       ]
      },
      {
       "output_type": "stream",
       "stream": "stdout",
       "text": [
        "131026-03:14:43,568 workflow INFO:\n",
        "\t Executing node Gen.a08 in dir: /media/mnemea/MINDt-Quantidopa/PySBR-PhantomImages/temp/Process_All/GeneratePhantom/_subject_id_S214/Gen\n"
       ]
      },
      {
       "output_type": "stream",
       "stream": "stdout",
       "text": [
        "131026-03:15:47,113 workflow INFO:\n",
        "\t Executing node resample.a08 in dir: /media/mnemea/MINDt-Quantidopa/PySBR-PhantomImages/temp/Process_All/GeneratePhantom/_subject_id_S214/resample\n"
       ]
      },
      {
       "output_type": "stream",
       "stream": "stdout",
       "text": [
        "131026-03:15:47,140 workflow INFO:\n",
        "\t Executing node _resample0 in dir: /media/mnemea/MINDt-Quantidopa/PySBR-PhantomImages/temp/Process_All/GeneratePhantom/_subject_id_S214/resample/mapflow/_resample0\n"
       ]
      },
      {
       "output_type": "stream",
       "stream": "stdout",
       "text": [
        "131026-03:15:47,173 workflow INFO:\n",
        "\t Running: mri_convert --out_data_type float -voxsize 3.900000 3.900000 3.900000 --input_volume /media/mnemea/MINDt-Quantidopa/PySBR-PhantomImages/temp/Process_All/GeneratePhantom/_subject_id_S214/Gen/dat_phantom_grad0.nii.gz --output_volume /media/mnemea/MINDt-Quantidopa/PySBR-PhantomImages/temp/Process_All/GeneratePhantom/_subject_id_S214/resample/mapflow/_resample0/dat_phantom_grad0_out.nii.gz\n"
       ]
      },
      {
       "output_type": "stream",
       "stream": "stdout",
       "text": [
        "131026-03:15:47,214 interface INFO:\n",
        "\t stdout 2013-10-26T03:15:47.214878:mri_convert --out_data_type float -voxsize 3.900000 3.900000 3.900000 --input_volume /media/mnemea/MINDt-Quantidopa/PySBR-PhantomImages/temp/Process_All/GeneratePhantom/_subject_id_S214/Gen/dat_phantom_grad0.nii.gz --output_volume /media/mnemea/MINDt-Quantidopa/PySBR-PhantomImages/temp/Process_All/GeneratePhantom/_subject_id_S214/resample/mapflow/_resample0/dat_phantom_grad0_out.nii.gz \n"
       ]
      },
      {
       "output_type": "stream",
       "stream": "stdout",
       "text": [
        "131026-03:15:47,892 interface INFO:\n",
        "\t stdout 2013-10-26T03:15:47.892127:$Id: mri_convert.c,v 1.179.2.7 2012/09/05 21:55:16 mreuter Exp $\n"
       ]
      },
      {
       "output_type": "stream",
       "stream": "stdout",
       "text": [
        "131026-03:15:47,892 interface INFO:\n",
        "\t stdout 2013-10-26T03:15:47.892127:reading from /media/mnemea/MINDt-Quantidopa/PySBR-PhantomImages/temp/Process_All/GeneratePhantom/_subject_id_S214/Gen/dat_phantom_grad0.nii.gz...\n"
       ]
      },
      {
       "output_type": "stream",
       "stream": "stdout",
       "text": [
        "131026-03:15:47,893 interface INFO:\n",
        "\t stdout 2013-10-26T03:15:47.892127:TR=0.00, TE=0.00, TI=0.00, flip angle=0.00\n"
       ]
      },
      {
       "output_type": "stream",
       "stream": "stdout",
       "text": [
        "131026-03:15:47,893 interface INFO:\n",
        "\t stdout 2013-10-26T03:15:47.892127:i_ras = (0.0345219, -0.990405, 0.133813)\n"
       ]
      },
      {
       "output_type": "stream",
       "stream": "stdout",
       "text": [
        "131026-03:15:47,894 interface INFO:\n",
        "\t stdout 2013-10-26T03:15:47.892127:j_ras = (-0.0567458, 0.131734, 0.98966)\n"
       ]
      },
      {
       "output_type": "stream",
       "stream": "stdout",
       "text": [
        "131026-03:15:47,894 interface INFO:\n",
        "\t stdout 2013-10-26T03:15:47.892127:k_ras = (0.997792, 0.0417583, 0.0516536)\n"
       ]
      },
      {
       "output_type": "stream",
       "stream": "stdout",
       "text": [
        "131026-03:15:47,895 interface INFO:\n",
        "\t stdout 2013-10-26T03:15:47.892127:Reslicing using trilinear interpolation \n"
       ]
      },
      {
       "output_type": "stream",
       "stream": "stdout",
       "text": [
        "131026-03:15:47,895 interface INFO:\n",
        "\t stdout 2013-10-26T03:15:47.892127:writing to /media/mnemea/MINDt-Quantidopa/PySBR-PhantomImages/temp/Process_All/GeneratePhantom/_subject_id_S214/resample/mapflow/_resample0/dat_phantom_grad0_out.nii.gz...\n"
       ]
      },
      {
       "output_type": "stream",
       "stream": "stdout",
       "text": [
        "131026-03:15:47,916 workflow INFO:\n",
        "\t Executing node _resample1 in dir: /media/mnemea/MINDt-Quantidopa/PySBR-PhantomImages/temp/Process_All/GeneratePhantom/_subject_id_S214/resample/mapflow/_resample1\n"
       ]
      },
      {
       "output_type": "stream",
       "stream": "stdout",
       "text": [
        "131026-03:15:47,945 workflow INFO:\n",
        "\t Running: mri_convert --out_data_type float -voxsize 3.900000 3.900000 3.900000 --input_volume /media/mnemea/MINDt-Quantidopa/PySBR-PhantomImages/temp/Process_All/GeneratePhantom/_subject_id_S214/Gen/dat_phantom_grad1.nii.gz --output_volume /media/mnemea/MINDt-Quantidopa/PySBR-PhantomImages/temp/Process_All/GeneratePhantom/_subject_id_S214/resample/mapflow/_resample1/dat_phantom_grad1_out.nii.gz\n"
       ]
      },
      {
       "output_type": "stream",
       "stream": "stdout",
       "text": [
        "131026-03:15:47,990 interface INFO:\n",
        "\t stdout 2013-10-26T03:15:47.990659:mri_convert --out_data_type float -voxsize 3.900000 3.900000 3.900000 --input_volume /media/mnemea/MINDt-Quantidopa/PySBR-PhantomImages/temp/Process_All/GeneratePhantom/_subject_id_S214/Gen/dat_phantom_grad1.nii.gz --output_volume /media/mnemea/MINDt-Quantidopa/PySBR-PhantomImages/temp/Process_All/GeneratePhantom/_subject_id_S214/resample/mapflow/_resample1/dat_phantom_grad1_out.nii.gz \n"
       ]
      },
      {
       "output_type": "stream",
       "stream": "stdout",
       "text": [
        "131026-03:15:48,673 interface INFO:\n",
        "\t stdout 2013-10-26T03:15:48.673400:$Id: mri_convert.c,v 1.179.2.7 2012/09/05 21:55:16 mreuter Exp $\n"
       ]
      },
      {
       "output_type": "stream",
       "stream": "stdout",
       "text": [
        "131026-03:15:48,674 interface INFO:\n",
        "\t stdout 2013-10-26T03:15:48.673400:reading from /media/mnemea/MINDt-Quantidopa/PySBR-PhantomImages/temp/Process_All/GeneratePhantom/_subject_id_S214/Gen/dat_phantom_grad1.nii.gz...\n"
       ]
      },
      {
       "output_type": "stream",
       "stream": "stdout",
       "text": [
        "131026-03:15:48,674 interface INFO:\n",
        "\t stdout 2013-10-26T03:15:48.673400:TR=0.00, TE=0.00, TI=0.00, flip angle=0.00\n"
       ]
      },
      {
       "output_type": "stream",
       "stream": "stdout",
       "text": [
        "131026-03:15:48,675 interface INFO:\n",
        "\t stdout 2013-10-26T03:15:48.673400:i_ras = (0.0345219, -0.990405, 0.133813)\n"
       ]
      },
      {
       "output_type": "stream",
       "stream": "stdout",
       "text": [
        "131026-03:15:48,675 interface INFO:\n",
        "\t stdout 2013-10-26T03:15:48.673400:j_ras = (-0.0567458, 0.131734, 0.98966)\n"
       ]
      },
      {
       "output_type": "stream",
       "stream": "stdout",
       "text": [
        "131026-03:15:48,676 interface INFO:\n",
        "\t stdout 2013-10-26T03:15:48.673400:k_ras = (0.997792, 0.0417583, 0.0516536)\n"
       ]
      },
      {
       "output_type": "stream",
       "stream": "stdout",
       "text": [
        "131026-03:15:48,676 interface INFO:\n",
        "\t stdout 2013-10-26T03:15:48.673400:Reslicing using trilinear interpolation \n"
       ]
      },
      {
       "output_type": "stream",
       "stream": "stdout",
       "text": [
        "131026-03:15:48,677 interface INFO:\n",
        "\t stdout 2013-10-26T03:15:48.673400:writing to /media/mnemea/MINDt-Quantidopa/PySBR-PhantomImages/temp/Process_All/GeneratePhantom/_subject_id_S214/resample/mapflow/_resample1/dat_phantom_grad1_out.nii.gz...\n"
       ]
      },
      {
       "output_type": "stream",
       "stream": "stdout",
       "text": [
        "131026-03:15:48,698 workflow INFO:\n",
        "\t Executing node _resample2 in dir: /media/mnemea/MINDt-Quantidopa/PySBR-PhantomImages/temp/Process_All/GeneratePhantom/_subject_id_S214/resample/mapflow/_resample2\n"
       ]
      },
      {
       "output_type": "stream",
       "stream": "stdout",
       "text": [
        "131026-03:15:48,727 workflow INFO:\n",
        "\t Running: mri_convert --out_data_type float -voxsize 3.900000 3.900000 3.900000 --input_volume /media/mnemea/MINDt-Quantidopa/PySBR-PhantomImages/temp/Process_All/GeneratePhantom/_subject_id_S214/Gen/dat_phantom_grad2.nii.gz --output_volume /media/mnemea/MINDt-Quantidopa/PySBR-PhantomImages/temp/Process_All/GeneratePhantom/_subject_id_S214/resample/mapflow/_resample2/dat_phantom_grad2_out.nii.gz\n"
       ]
      },
      {
       "output_type": "stream",
       "stream": "stdout",
       "text": [
        "131026-03:15:48,772 interface INFO:\n",
        "\t stdout 2013-10-26T03:15:48.771989:mri_convert --out_data_type float -voxsize 3.900000 3.900000 3.900000 --input_volume /media/mnemea/MINDt-Quantidopa/PySBR-PhantomImages/temp/Process_All/GeneratePhantom/_subject_id_S214/Gen/dat_phantom_grad2.nii.gz --output_volume /media/mnemea/MINDt-Quantidopa/PySBR-PhantomImages/temp/Process_All/GeneratePhantom/_subject_id_S214/resample/mapflow/_resample2/dat_phantom_grad2_out.nii.gz \n"
       ]
      },
      {
       "output_type": "stream",
       "stream": "stdout",
       "text": [
        "131026-03:15:49,452 interface INFO:\n",
        "\t stdout 2013-10-26T03:15:49.452481:$Id: mri_convert.c,v 1.179.2.7 2012/09/05 21:55:16 mreuter Exp $\n"
       ]
      },
      {
       "output_type": "stream",
       "stream": "stdout",
       "text": [
        "131026-03:15:49,453 interface INFO:\n",
        "\t stdout 2013-10-26T03:15:49.452481:reading from /media/mnemea/MINDt-Quantidopa/PySBR-PhantomImages/temp/Process_All/GeneratePhantom/_subject_id_S214/Gen/dat_phantom_grad2.nii.gz...\n"
       ]
      },
      {
       "output_type": "stream",
       "stream": "stdout",
       "text": [
        "131026-03:15:49,453 interface INFO:\n",
        "\t stdout 2013-10-26T03:15:49.452481:TR=0.00, TE=0.00, TI=0.00, flip angle=0.00\n"
       ]
      },
      {
       "output_type": "stream",
       "stream": "stdout",
       "text": [
        "131026-03:15:49,454 interface INFO:\n",
        "\t stdout 2013-10-26T03:15:49.452481:i_ras = (0.0345219, -0.990405, 0.133813)\n"
       ]
      },
      {
       "output_type": "stream",
       "stream": "stdout",
       "text": [
        "131026-03:15:49,454 interface INFO:\n",
        "\t stdout 2013-10-26T03:15:49.452481:j_ras = (-0.0567458, 0.131734, 0.98966)\n"
       ]
      },
      {
       "output_type": "stream",
       "stream": "stdout",
       "text": [
        "131026-03:15:49,455 interface INFO:\n",
        "\t stdout 2013-10-26T03:15:49.452481:k_ras = (0.997792, 0.0417583, 0.0516536)\n"
       ]
      },
      {
       "output_type": "stream",
       "stream": "stdout",
       "text": [
        "131026-03:15:49,455 interface INFO:\n",
        "\t stdout 2013-10-26T03:15:49.452481:Reslicing using trilinear interpolation \n"
       ]
      },
      {
       "output_type": "stream",
       "stream": "stdout",
       "text": [
        "131026-03:15:49,456 interface INFO:\n",
        "\t stdout 2013-10-26T03:15:49.452481:writing to /media/mnemea/MINDt-Quantidopa/PySBR-PhantomImages/temp/Process_All/GeneratePhantom/_subject_id_S214/resample/mapflow/_resample2/dat_phantom_grad2_out.nii.gz...\n"
       ]
      },
      {
       "output_type": "stream",
       "stream": "stdout",
       "text": [
        "131026-03:15:49,478 workflow INFO:\n",
        "\t Executing node _resample3 in dir: /media/mnemea/MINDt-Quantidopa/PySBR-PhantomImages/temp/Process_All/GeneratePhantom/_subject_id_S214/resample/mapflow/_resample3\n"
       ]
      },
      {
       "output_type": "stream",
       "stream": "stdout",
       "text": [
        "131026-03:15:49,507 workflow INFO:\n",
        "\t Running: mri_convert --out_data_type float -voxsize 3.900000 3.900000 3.900000 --input_volume /media/mnemea/MINDt-Quantidopa/PySBR-PhantomImages/temp/Process_All/GeneratePhantom/_subject_id_S214/Gen/dat_phantom_grad3.nii.gz --output_volume /media/mnemea/MINDt-Quantidopa/PySBR-PhantomImages/temp/Process_All/GeneratePhantom/_subject_id_S214/resample/mapflow/_resample3/dat_phantom_grad3_out.nii.gz\n"
       ]
      },
      {
       "output_type": "stream",
       "stream": "stdout",
       "text": [
        "131026-03:15:49,551 interface INFO:\n",
        "\t stdout 2013-10-26T03:15:49.551637:mri_convert --out_data_type float -voxsize 3.900000 3.900000 3.900000 --input_volume /media/mnemea/MINDt-Quantidopa/PySBR-PhantomImages/temp/Process_All/GeneratePhantom/_subject_id_S214/Gen/dat_phantom_grad3.nii.gz --output_volume /media/mnemea/MINDt-Quantidopa/PySBR-PhantomImages/temp/Process_All/GeneratePhantom/_subject_id_S214/resample/mapflow/_resample3/dat_phantom_grad3_out.nii.gz \n"
       ]
      },
      {
       "output_type": "stream",
       "stream": "stdout",
       "text": [
        "131026-03:15:50,233 interface INFO:\n",
        "\t stdout 2013-10-26T03:15:50.232930:$Id: mri_convert.c,v 1.179.2.7 2012/09/05 21:55:16 mreuter Exp $\n"
       ]
      },
      {
       "output_type": "stream",
       "stream": "stdout",
       "text": [
        "131026-03:15:50,233 interface INFO:\n",
        "\t stdout 2013-10-26T03:15:50.232930:reading from /media/mnemea/MINDt-Quantidopa/PySBR-PhantomImages/temp/Process_All/GeneratePhantom/_subject_id_S214/Gen/dat_phantom_grad3.nii.gz...\n"
       ]
      },
      {
       "output_type": "stream",
       "stream": "stdout",
       "text": [
        "131026-03:15:50,234 interface INFO:\n",
        "\t stdout 2013-10-26T03:15:50.232930:TR=0.00, TE=0.00, TI=0.00, flip angle=0.00\n"
       ]
      },
      {
       "output_type": "stream",
       "stream": "stdout",
       "text": [
        "131026-03:15:50,234 interface INFO:\n",
        "\t stdout 2013-10-26T03:15:50.232930:i_ras = (0.0345219, -0.990405, 0.133813)\n"
       ]
      },
      {
       "output_type": "stream",
       "stream": "stdout",
       "text": [
        "131026-03:15:50,235 interface INFO:\n",
        "\t stdout 2013-10-26T03:15:50.232930:j_ras = (-0.0567458, 0.131734, 0.98966)\n"
       ]
      },
      {
       "output_type": "stream",
       "stream": "stdout",
       "text": [
        "131026-03:15:50,235 interface INFO:\n",
        "\t stdout 2013-10-26T03:15:50.232930:k_ras = (0.997792, 0.0417583, 0.0516536)\n"
       ]
      },
      {
       "output_type": "stream",
       "stream": "stdout",
       "text": [
        "131026-03:15:50,236 interface INFO:\n",
        "\t stdout 2013-10-26T03:15:50.232930:Reslicing using trilinear interpolation \n"
       ]
      },
      {
       "output_type": "stream",
       "stream": "stdout",
       "text": [
        "131026-03:15:50,236 interface INFO:\n",
        "\t stdout 2013-10-26T03:15:50.232930:writing to /media/mnemea/MINDt-Quantidopa/PySBR-PhantomImages/temp/Process_All/GeneratePhantom/_subject_id_S214/resample/mapflow/_resample3/dat_phantom_grad3_out.nii.gz...\n"
       ]
      },
      {
       "output_type": "stream",
       "stream": "stdout",
       "text": [
        "131026-03:15:50,276 workflow INFO:\n",
        "\t Executing node datasink.a08 in dir: /media/mnemea/MINDt-Quantidopa/PySBR-PhantomImages/temp/Process_All/_subject_id_S214/datasink\n"
       ]
      },
      {
       "output_type": "stream",
       "stream": "stdout",
       "text": [
        "131026-03:15:50,305 workflow INFO:\n",
        "\t Executing node _datasink0 in dir: /media/mnemea/MINDt-Quantidopa/PySBR-PhantomImages/temp/Process_All/_subject_id_S214/datasink/mapflow/_datasink0\n"
       ]
      },
      {
       "output_type": "stream",
       "stream": "stdout",
       "text": [
        "131026-03:15:50,430 workflow INFO:\n",
        "\t Executing node _datasink1 in dir: /media/mnemea/MINDt-Quantidopa/PySBR-PhantomImages/temp/Process_All/_subject_id_S214/datasink/mapflow/_datasink1\n"
       ]
      },
      {
       "output_type": "stream",
       "stream": "stdout",
       "text": [
        "131026-03:15:50,535 workflow INFO:\n",
        "\t Executing node _datasink2 in dir: /media/mnemea/MINDt-Quantidopa/PySBR-PhantomImages/temp/Process_All/_subject_id_S214/datasink/mapflow/_datasink2\n"
       ]
      },
      {
       "output_type": "stream",
       "stream": "stdout",
       "text": [
        "131026-03:15:50,639 workflow INFO:\n",
        "\t Executing node _datasink3 in dir: /media/mnemea/MINDt-Quantidopa/PySBR-PhantomImages/temp/Process_All/_subject_id_S214/datasink/mapflow/_datasink3\n"
       ]
      },
      {
       "output_type": "stream",
       "stream": "stdout",
       "text": [
        "131026-03:15:50,757 workflow INFO:\n",
        "\t Executing node datasink2.a08 in dir: /media/mnemea/MINDt-Quantidopa/PySBR-PhantomImages/temp/Process_All/_subject_id_S214/datasink2\n"
       ]
      },
      {
       "output_type": "stream",
       "stream": "stdout",
       "text": [
        "131026-03:15:50,804 workflow INFO:\n",
        "\t Executing node _datasink20 in dir: /media/mnemea/MINDt-Quantidopa/PySBR-PhantomImages/temp/Process_All/_subject_id_S214/datasink2/mapflow/_datasink20\n"
       ]
      },
      {
       "output_type": "stream",
       "stream": "stdout",
       "text": [
        "131026-03:15:50,875 workflow INFO:\n",
        "\t Executing node _datasink21 in dir: /media/mnemea/MINDt-Quantidopa/PySBR-PhantomImages/temp/Process_All/_subject_id_S214/datasink2/mapflow/_datasink21\n"
       ]
      },
      {
       "output_type": "stream",
       "stream": "stdout",
       "text": [
        "131026-03:15:50,934 workflow INFO:\n",
        "\t Executing node _datasink22 in dir: /media/mnemea/MINDt-Quantidopa/PySBR-PhantomImages/temp/Process_All/_subject_id_S214/datasink2/mapflow/_datasink22\n"
       ]
      },
      {
       "output_type": "stream",
       "stream": "stdout",
       "text": [
        "131026-03:15:50,993 workflow INFO:\n",
        "\t Executing node _datasink23 in dir: /media/mnemea/MINDt-Quantidopa/PySBR-PhantomImages/temp/Process_All/_subject_id_S214/datasink2/mapflow/_datasink23\n"
       ]
      },
      {
       "output_type": "stream",
       "stream": "stdout",
       "text": [
        "131026-03:15:51,69 workflow INFO:\n",
        "\t Executing node dsource.a21 in dir: /media/mnemea/MINDt-Quantidopa/PySBR-PhantomImages/temp/Process_All/_subject_id_S594/dsource\n"
       ]
      },
      {
       "output_type": "stream",
       "stream": "stdout",
       "text": [
        "131026-03:15:51,120 workflow INFO:\n",
        "\t Executing node dsource.a10 in dir: /media/mnemea/MINDt-Quantidopa/PySBR-PhantomImages/temp/Process_All/_subject_id_S289/dsource\n"
       ]
      },
      {
       "output_type": "stream",
       "stream": "stdout",
       "text": [
        "131026-03:15:51,175 workflow INFO:\n",
        "\t Executing node convert.a27 in dir: /media/mnemea/MINDt-Quantidopa/PySBR-PhantomImages/temp/Process_All/GeneratePhantom/seg_to_orig/_subject_id_S231/convert\n"
       ]
      },
      {
       "output_type": "stream",
       "stream": "stdout",
       "text": [
        "131026-03:15:51,178 workflow INFO:\n",
        "\t Collecting precomputed outputs\n"
       ]
      },
      {
       "output_type": "stream",
       "stream": "stdout",
       "text": [
        "131026-03:15:51,183 workflow INFO:\n",
        "\t Executing node dsource.a26 in dir: /media/mnemea/MINDt-Quantidopa/PySBR-PhantomImages/temp/Process_All/_subject_id_S428/dsource\n"
       ]
      },
      {
       "output_type": "stream",
       "stream": "stdout",
       "text": [
        "131026-03:15:51,241 workflow INFO:\n",
        "\t Executing node applyreg.a26 in dir: /media/mnemea/MINDt-Quantidopa/PySBR-PhantomImages/temp/Process_All/GeneratePhantom/seg_to_orig/_subject_id_S428/applyreg\n"
       ]
      },
      {
       "output_type": "stream",
       "stream": "stdout",
       "text": [
        "131026-03:15:51,245 workflow INFO:\n",
        "\t Collecting precomputed outputs\n"
       ]
      },
      {
       "output_type": "stream",
       "stream": "stdout",
       "text": [
        "131026-03:15:51,254 workflow INFO:\n",
        "\t Executing node convert.a26 in dir: /media/mnemea/MINDt-Quantidopa/PySBR-PhantomImages/temp/Process_All/GeneratePhantom/seg_to_orig/_subject_id_S428/convert\n"
       ]
      },
      {
       "output_type": "stream",
       "stream": "stdout",
       "text": [
        "131026-03:15:51,257 workflow INFO:\n",
        "\t Collecting precomputed outputs\n"
       ]
      },
      {
       "output_type": "stream",
       "stream": "stdout",
       "text": [
        "131026-03:15:51,263 workflow INFO:\n",
        "\t Executing node dsource.a06 in dir: /media/mnemea/MINDt-Quantidopa/PySBR-PhantomImages/temp/Process_All/_subject_id_S205/dsource\n"
       ]
      },
      {
       "output_type": "stream",
       "stream": "stdout",
       "text": [
        "131026-03:15:51,320 workflow INFO:\n",
        "\t Executing node applyreg.a06 in dir: /media/mnemea/MINDt-Quantidopa/PySBR-PhantomImages/temp/Process_All/GeneratePhantom/seg_to_orig/_subject_id_S205/applyreg\n"
       ]
      },
      {
       "output_type": "stream",
       "stream": "stdout",
       "text": [
        "131026-03:15:51,324 workflow INFO:\n",
        "\t Collecting precomputed outputs\n"
       ]
      },
      {
       "output_type": "stream",
       "stream": "stdout",
       "text": [
        "131026-03:15:51,336 workflow INFO:\n",
        "\t Executing node applyreg.a10 in dir: /media/mnemea/MINDt-Quantidopa/PySBR-PhantomImages/temp/Process_All/GeneratePhantom/seg_to_orig/_subject_id_S289/applyreg\n"
       ]
      },
      {
       "output_type": "stream",
       "stream": "stdout",
       "text": [
        "131026-03:15:51,339 workflow INFO:\n",
        "\t Collecting precomputed outputs\n"
       ]
      },
      {
       "output_type": "stream",
       "stream": "stdout",
       "text": [
        "131026-03:15:51,351 workflow INFO:\n",
        "\t Executing node applyreg.a21 in dir: /media/mnemea/MINDt-Quantidopa/PySBR-PhantomImages/temp/Process_All/GeneratePhantom/seg_to_orig/_subject_id_S594/applyreg\n"
       ]
      },
      {
       "output_type": "stream",
       "stream": "stdout",
       "text": [
        "131026-03:15:51,355 workflow INFO:\n",
        "\t Collecting precomputed outputs\n"
       ]
      },
      {
       "output_type": "stream",
       "stream": "stdout",
       "text": [
        "131026-03:15:51,361 workflow INFO:\n",
        "\t Executing node dsource.a19 in dir: /media/mnemea/MINDt-Quantidopa/PySBR-PhantomImages/temp/Process_All/_subject_id_S376/dsource\n"
       ]
      },
      {
       "output_type": "stream",
       "stream": "stdout",
       "text": [
        "131026-03:15:51,419 workflow INFO:\n",
        "\t Executing node applyreg.a19 in dir: /media/mnemea/MINDt-Quantidopa/PySBR-PhantomImages/temp/Process_All/GeneratePhantom/seg_to_orig/_subject_id_S376/applyreg\n"
       ]
      },
      {
       "output_type": "stream",
       "stream": "stdout",
       "text": [
        "131026-03:15:51,422 workflow INFO:\n",
        "\t Collecting precomputed outputs\n"
       ]
      },
      {
       "output_type": "stream",
       "stream": "stdout",
       "text": [
        "131026-03:15:51,431 workflow INFO:\n",
        "\t Executing node convert.a19 in dir: /media/mnemea/MINDt-Quantidopa/PySBR-PhantomImages/temp/Process_All/GeneratePhantom/seg_to_orig/_subject_id_S376/convert\n"
       ]
      },
      {
       "output_type": "stream",
       "stream": "stdout",
       "text": [
        "131026-03:15:51,434 workflow INFO:\n",
        "\t Collecting precomputed outputs\n"
       ]
      },
      {
       "output_type": "stream",
       "stream": "stdout",
       "text": [
        "131026-03:15:51,443 workflow INFO:\n",
        "\t Executing node Gen.a19 in dir: /media/mnemea/MINDt-Quantidopa/PySBR-PhantomImages/temp/Process_All/GeneratePhantom/_subject_id_S376/Gen\n"
       ]
      },
      {
       "output_type": "stream",
       "stream": "stdout",
       "text": [
        "131026-03:16:55,371 workflow INFO:\n",
        "\t Executing node datasink2.a19 in dir: /media/mnemea/MINDt-Quantidopa/PySBR-PhantomImages/temp/Process_All/_subject_id_S376/datasink2\n"
       ]
      },
      {
       "output_type": "stream",
       "stream": "stdout",
       "text": [
        "131026-03:16:55,415 workflow INFO:\n",
        "\t Executing node _datasink20 in dir: /media/mnemea/MINDt-Quantidopa/PySBR-PhantomImages/temp/Process_All/_subject_id_S376/datasink2/mapflow/_datasink20\n"
       ]
      },
      {
       "output_type": "stream",
       "stream": "stdout",
       "text": [
        "131026-03:16:55,513 workflow INFO:\n",
        "\t Executing node _datasink21 in dir: /media/mnemea/MINDt-Quantidopa/PySBR-PhantomImages/temp/Process_All/_subject_id_S376/datasink2/mapflow/_datasink21\n"
       ]
      },
      {
       "output_type": "stream",
       "stream": "stdout",
       "text": [
        "131026-03:16:55,587 workflow INFO:\n",
        "\t Executing node _datasink22 in dir: /media/mnemea/MINDt-Quantidopa/PySBR-PhantomImages/temp/Process_All/_subject_id_S376/datasink2/mapflow/_datasink22\n"
       ]
      },
      {
       "output_type": "stream",
       "stream": "stdout",
       "text": [
        "131026-03:16:55,657 workflow INFO:\n",
        "\t Executing node _datasink23 in dir: /media/mnemea/MINDt-Quantidopa/PySBR-PhantomImages/temp/Process_All/_subject_id_S376/datasink2/mapflow/_datasink23\n"
       ]
      },
      {
       "output_type": "stream",
       "stream": "stdout",
       "text": [
        "131026-03:16:55,790 workflow INFO:\n",
        "\t Executing node Gen.a26 in dir: /media/mnemea/MINDt-Quantidopa/PySBR-PhantomImages/temp/Process_All/GeneratePhantom/_subject_id_S428/Gen\n"
       ]
      },
      {
       "output_type": "stream",
       "stream": "stdout",
       "text": [
        "131026-03:17:59,324 workflow INFO:\n",
        "\t Executing node convert.a07 in dir: /media/mnemea/MINDt-Quantidopa/PySBR-PhantomImages/temp/Process_All/GeneratePhantom/seg_to_orig/_subject_id_S549/convert\n"
       ]
      },
      {
       "output_type": "stream",
       "stream": "stdout",
       "text": [
        "131026-03:17:59,328 workflow INFO:\n",
        "\t Collecting precomputed outputs\n"
       ]
      },
      {
       "output_type": "stream",
       "stream": "stdout",
       "text": [
        "131026-03:17:59,336 workflow INFO:\n",
        "\t Executing node Gen.a07 in dir: /media/mnemea/MINDt-Quantidopa/PySBR-PhantomImages/temp/Process_All/GeneratePhantom/_subject_id_S549/Gen\n"
       ]
      },
      {
       "output_type": "stream",
       "stream": "stdout",
       "text": [
        "131026-03:19:02,842 workflow INFO:\n",
        "\t Executing node resample.a07 in dir: /media/mnemea/MINDt-Quantidopa/PySBR-PhantomImages/temp/Process_All/GeneratePhantom/_subject_id_S549/resample\n"
       ]
      },
      {
       "output_type": "stream",
       "stream": "stdout",
       "text": [
        "131026-03:19:02,871 workflow INFO:\n",
        "\t Executing node _resample0 in dir: /media/mnemea/MINDt-Quantidopa/PySBR-PhantomImages/temp/Process_All/GeneratePhantom/_subject_id_S549/resample/mapflow/_resample0\n"
       ]
      },
      {
       "output_type": "stream",
       "stream": "stdout",
       "text": [
        "131026-03:19:02,904 workflow INFO:\n",
        "\t Running: mri_convert --out_data_type float -voxsize 3.900000 3.900000 3.900000 --input_volume /media/mnemea/MINDt-Quantidopa/PySBR-PhantomImages/temp/Process_All/GeneratePhantom/_subject_id_S549/Gen/dat_phantom_grad0.nii.gz --output_volume /media/mnemea/MINDt-Quantidopa/PySBR-PhantomImages/temp/Process_All/GeneratePhantom/_subject_id_S549/resample/mapflow/_resample0/dat_phantom_grad0_out.nii.gz\n"
       ]
      },
      {
       "output_type": "stream",
       "stream": "stdout",
       "text": [
        "131026-03:19:02,945 interface INFO:\n",
        "\t stdout 2013-10-26T03:19:02.945558:mri_convert --out_data_type float -voxsize 3.900000 3.900000 3.900000 --input_volume /media/mnemea/MINDt-Quantidopa/PySBR-PhantomImages/temp/Process_All/GeneratePhantom/_subject_id_S549/Gen/dat_phantom_grad0.nii.gz --output_volume /media/mnemea/MINDt-Quantidopa/PySBR-PhantomImages/temp/Process_All/GeneratePhantom/_subject_id_S549/resample/mapflow/_resample0/dat_phantom_grad0_out.nii.gz \n"
       ]
      },
      {
       "output_type": "stream",
       "stream": "stdout",
       "text": [
        "131026-03:19:03,622 interface INFO:\n",
        "\t stdout 2013-10-26T03:19:03.622772:$Id: mri_convert.c,v 1.179.2.7 2012/09/05 21:55:16 mreuter Exp $\n"
       ]
      },
      {
       "output_type": "stream",
       "stream": "stdout",
       "text": [
        "131026-03:19:03,623 interface INFO:\n",
        "\t stdout 2013-10-26T03:19:03.622772:reading from /media/mnemea/MINDt-Quantidopa/PySBR-PhantomImages/temp/Process_All/GeneratePhantom/_subject_id_S549/Gen/dat_phantom_grad0.nii.gz...\n"
       ]
      },
      {
       "output_type": "stream",
       "stream": "stdout",
       "text": [
        "131026-03:19:03,624 interface INFO:\n",
        "\t stdout 2013-10-26T03:19:03.622772:TR=0.00, TE=0.00, TI=0.00, flip angle=0.00\n"
       ]
      },
      {
       "output_type": "stream",
       "stream": "stdout",
       "text": [
        "131026-03:19:03,624 interface INFO:\n",
        "\t stdout 2013-10-26T03:19:03.622772:i_ras = (0.0753007, -0.997159, -0.00194226)\n"
       ]
      },
      {
       "output_type": "stream",
       "stream": "stdout",
       "text": [
        "131026-03:19:03,624 interface INFO:\n",
        "\t stdout 2013-10-26T03:19:03.622772:j_ras = (0.0257848, -2.74439e-19, 0.999668)\n"
       ]
      },
      {
       "output_type": "stream",
       "stream": "stdout",
       "text": [
        "131026-03:19:03,625 interface INFO:\n",
        "\t stdout 2013-10-26T03:19:03.622772:k_ras = (0.996827, 0.0753257, -0.0257115)\n"
       ]
      },
      {
       "output_type": "stream",
       "stream": "stdout",
       "text": [
        "131026-03:19:03,625 interface INFO:\n",
        "\t stdout 2013-10-26T03:19:03.622772:Reslicing using trilinear interpolation \n"
       ]
      },
      {
       "output_type": "stream",
       "stream": "stdout",
       "text": [
        "131026-03:19:03,625 interface INFO:\n",
        "\t stdout 2013-10-26T03:19:03.622772:writing to /media/mnemea/MINDt-Quantidopa/PySBR-PhantomImages/temp/Process_All/GeneratePhantom/_subject_id_S549/resample/mapflow/_resample0/dat_phantom_grad0_out.nii.gz...\n"
       ]
      },
      {
       "output_type": "stream",
       "stream": "stdout",
       "text": [
        "131026-03:19:03,645 workflow INFO:\n",
        "\t Executing node _resample1 in dir: /media/mnemea/MINDt-Quantidopa/PySBR-PhantomImages/temp/Process_All/GeneratePhantom/_subject_id_S549/resample/mapflow/_resample1\n"
       ]
      },
      {
       "output_type": "stream",
       "stream": "stdout",
       "text": [
        "131026-03:19:03,674 workflow INFO:\n",
        "\t Running: mri_convert --out_data_type float -voxsize 3.900000 3.900000 3.900000 --input_volume /media/mnemea/MINDt-Quantidopa/PySBR-PhantomImages/temp/Process_All/GeneratePhantom/_subject_id_S549/Gen/dat_phantom_grad1.nii.gz --output_volume /media/mnemea/MINDt-Quantidopa/PySBR-PhantomImages/temp/Process_All/GeneratePhantom/_subject_id_S549/resample/mapflow/_resample1/dat_phantom_grad1_out.nii.gz\n"
       ]
      },
      {
       "output_type": "stream",
       "stream": "stdout",
       "text": [
        "131026-03:19:03,716 interface INFO:\n",
        "\t stdout 2013-10-26T03:19:03.716172:mri_convert --out_data_type float -voxsize 3.900000 3.900000 3.900000 --input_volume /media/mnemea/MINDt-Quantidopa/PySBR-PhantomImages/temp/Process_All/GeneratePhantom/_subject_id_S549/Gen/dat_phantom_grad1.nii.gz --output_volume /media/mnemea/MINDt-Quantidopa/PySBR-PhantomImages/temp/Process_All/GeneratePhantom/_subject_id_S549/resample/mapflow/_resample1/dat_phantom_grad1_out.nii.gz \n"
       ]
      },
      {
       "output_type": "stream",
       "stream": "stdout",
       "text": [
        "131026-03:19:04,390 interface INFO:\n",
        "\t stdout 2013-10-26T03:19:04.390883:$Id: mri_convert.c,v 1.179.2.7 2012/09/05 21:55:16 mreuter Exp $\n"
       ]
      },
      {
       "output_type": "stream",
       "stream": "stdout",
       "text": [
        "131026-03:19:04,391 interface INFO:\n",
        "\t stdout 2013-10-26T03:19:04.390883:reading from /media/mnemea/MINDt-Quantidopa/PySBR-PhantomImages/temp/Process_All/GeneratePhantom/_subject_id_S549/Gen/dat_phantom_grad1.nii.gz...\n"
       ]
      },
      {
       "output_type": "stream",
       "stream": "stdout",
       "text": [
        "131026-03:19:04,392 interface INFO:\n",
        "\t stdout 2013-10-26T03:19:04.390883:TR=0.00, TE=0.00, TI=0.00, flip angle=0.00\n"
       ]
      },
      {
       "output_type": "stream",
       "stream": "stdout",
       "text": [
        "131026-03:19:04,392 interface INFO:\n",
        "\t stdout 2013-10-26T03:19:04.390883:i_ras = (0.0753007, -0.997159, -0.00194226)\n"
       ]
      },
      {
       "output_type": "stream",
       "stream": "stdout",
       "text": [
        "131026-03:19:04,393 interface INFO:\n",
        "\t stdout 2013-10-26T03:19:04.390883:j_ras = (0.0257848, -2.74439e-19, 0.999668)\n"
       ]
      },
      {
       "output_type": "stream",
       "stream": "stdout",
       "text": [
        "131026-03:19:04,393 interface INFO:\n",
        "\t stdout 2013-10-26T03:19:04.390883:k_ras = (0.996827, 0.0753257, -0.0257115)\n"
       ]
      },
      {
       "output_type": "stream",
       "stream": "stdout",
       "text": [
        "131026-03:19:04,394 interface INFO:\n",
        "\t stdout 2013-10-26T03:19:04.390883:Reslicing using trilinear interpolation \n"
       ]
      },
      {
       "output_type": "stream",
       "stream": "stdout",
       "text": [
        "131026-03:19:04,394 interface INFO:\n",
        "\t stdout 2013-10-26T03:19:04.390883:writing to /media/mnemea/MINDt-Quantidopa/PySBR-PhantomImages/temp/Process_All/GeneratePhantom/_subject_id_S549/resample/mapflow/_resample1/dat_phantom_grad1_out.nii.gz...\n"
       ]
      },
      {
       "output_type": "stream",
       "stream": "stdout",
       "text": [
        "131026-03:19:04,415 workflow INFO:\n",
        "\t Executing node _resample2 in dir: /media/mnemea/MINDt-Quantidopa/PySBR-PhantomImages/temp/Process_All/GeneratePhantom/_subject_id_S549/resample/mapflow/_resample2\n"
       ]
      },
      {
       "output_type": "stream",
       "stream": "stdout",
       "text": [
        "131026-03:19:04,443 workflow INFO:\n",
        "\t Running: mri_convert --out_data_type float -voxsize 3.900000 3.900000 3.900000 --input_volume /media/mnemea/MINDt-Quantidopa/PySBR-PhantomImages/temp/Process_All/GeneratePhantom/_subject_id_S549/Gen/dat_phantom_grad2.nii.gz --output_volume /media/mnemea/MINDt-Quantidopa/PySBR-PhantomImages/temp/Process_All/GeneratePhantom/_subject_id_S549/resample/mapflow/_resample2/dat_phantom_grad2_out.nii.gz\n"
       ]
      },
      {
       "output_type": "stream",
       "stream": "stdout",
       "text": [
        "131026-03:19:04,482 interface INFO:\n",
        "\t stdout 2013-10-26T03:19:04.482846:mri_convert --out_data_type float -voxsize 3.900000 3.900000 3.900000 --input_volume /media/mnemea/MINDt-Quantidopa/PySBR-PhantomImages/temp/Process_All/GeneratePhantom/_subject_id_S549/Gen/dat_phantom_grad2.nii.gz --output_volume /media/mnemea/MINDt-Quantidopa/PySBR-PhantomImages/temp/Process_All/GeneratePhantom/_subject_id_S549/resample/mapflow/_resample2/dat_phantom_grad2_out.nii.gz \n"
       ]
      },
      {
       "output_type": "stream",
       "stream": "stdout",
       "text": [
        "131026-03:19:05,159 interface INFO:\n",
        "\t stdout 2013-10-26T03:19:05.159009:$Id: mri_convert.c,v 1.179.2.7 2012/09/05 21:55:16 mreuter Exp $\n"
       ]
      },
      {
       "output_type": "stream",
       "stream": "stdout",
       "text": [
        "131026-03:19:05,159 interface INFO:\n",
        "\t stdout 2013-10-26T03:19:05.159009:reading from /media/mnemea/MINDt-Quantidopa/PySBR-PhantomImages/temp/Process_All/GeneratePhantom/_subject_id_S549/Gen/dat_phantom_grad2.nii.gz...\n"
       ]
      },
      {
       "output_type": "stream",
       "stream": "stdout",
       "text": [
        "131026-03:19:05,160 interface INFO:\n",
        "\t stdout 2013-10-26T03:19:05.159009:TR=0.00, TE=0.00, TI=0.00, flip angle=0.00\n"
       ]
      },
      {
       "output_type": "stream",
       "stream": "stdout",
       "text": [
        "131026-03:19:05,160 interface INFO:\n",
        "\t stdout 2013-10-26T03:19:05.159009:i_ras = (0.0753007, -0.997159, -0.00194226)\n"
       ]
      },
      {
       "output_type": "stream",
       "stream": "stdout",
       "text": [
        "131026-03:19:05,161 interface INFO:\n",
        "\t stdout 2013-10-26T03:19:05.159009:j_ras = (0.0257848, -2.74439e-19, 0.999668)\n"
       ]
      },
      {
       "output_type": "stream",
       "stream": "stdout",
       "text": [
        "131026-03:19:05,161 interface INFO:\n",
        "\t stdout 2013-10-26T03:19:05.159009:k_ras = (0.996827, 0.0753257, -0.0257115)\n"
       ]
      },
      {
       "output_type": "stream",
       "stream": "stdout",
       "text": [
        "131026-03:19:05,162 interface INFO:\n",
        "\t stdout 2013-10-26T03:19:05.159009:Reslicing using trilinear interpolation \n"
       ]
      },
      {
       "output_type": "stream",
       "stream": "stdout",
       "text": [
        "131026-03:19:05,162 interface INFO:\n",
        "\t stdout 2013-10-26T03:19:05.159009:writing to /media/mnemea/MINDt-Quantidopa/PySBR-PhantomImages/temp/Process_All/GeneratePhantom/_subject_id_S549/resample/mapflow/_resample2/dat_phantom_grad2_out.nii.gz...\n"
       ]
      },
      {
       "output_type": "stream",
       "stream": "stdout",
       "text": [
        "131026-03:19:05,183 workflow INFO:\n",
        "\t Executing node _resample3 in dir: /media/mnemea/MINDt-Quantidopa/PySBR-PhantomImages/temp/Process_All/GeneratePhantom/_subject_id_S549/resample/mapflow/_resample3\n"
       ]
      },
      {
       "output_type": "stream",
       "stream": "stdout",
       "text": [
        "131026-03:19:05,212 workflow INFO:\n",
        "\t Running: mri_convert --out_data_type float -voxsize 3.900000 3.900000 3.900000 --input_volume /media/mnemea/MINDt-Quantidopa/PySBR-PhantomImages/temp/Process_All/GeneratePhantom/_subject_id_S549/Gen/dat_phantom_grad3.nii.gz --output_volume /media/mnemea/MINDt-Quantidopa/PySBR-PhantomImages/temp/Process_All/GeneratePhantom/_subject_id_S549/resample/mapflow/_resample3/dat_phantom_grad3_out.nii.gz\n"
       ]
      },
      {
       "output_type": "stream",
       "stream": "stdout",
       "text": [
        "131026-03:19:05,254 interface INFO:\n",
        "\t stdout 2013-10-26T03:19:05.254244:mri_convert --out_data_type float -voxsize 3.900000 3.900000 3.900000 --input_volume /media/mnemea/MINDt-Quantidopa/PySBR-PhantomImages/temp/Process_All/GeneratePhantom/_subject_id_S549/Gen/dat_phantom_grad3.nii.gz --output_volume /media/mnemea/MINDt-Quantidopa/PySBR-PhantomImages/temp/Process_All/GeneratePhantom/_subject_id_S549/resample/mapflow/_resample3/dat_phantom_grad3_out.nii.gz \n"
       ]
      },
      {
       "output_type": "stream",
       "stream": "stdout",
       "text": [
        "131026-03:19:05,927 interface INFO:\n",
        "\t stdout 2013-10-26T03:19:05.927864:$Id: mri_convert.c,v 1.179.2.7 2012/09/05 21:55:16 mreuter Exp $\n"
       ]
      },
      {
       "output_type": "stream",
       "stream": "stdout",
       "text": [
        "131026-03:19:05,928 interface INFO:\n",
        "\t stdout 2013-10-26T03:19:05.927864:reading from /media/mnemea/MINDt-Quantidopa/PySBR-PhantomImages/temp/Process_All/GeneratePhantom/_subject_id_S549/Gen/dat_phantom_grad3.nii.gz...\n"
       ]
      },
      {
       "output_type": "stream",
       "stream": "stdout",
       "text": [
        "131026-03:19:05,928 interface INFO:\n",
        "\t stdout 2013-10-26T03:19:05.927864:TR=0.00, TE=0.00, TI=0.00, flip angle=0.00\n"
       ]
      },
      {
       "output_type": "stream",
       "stream": "stdout",
       "text": [
        "131026-03:19:05,929 interface INFO:\n",
        "\t stdout 2013-10-26T03:19:05.927864:i_ras = (0.0753007, -0.997159, -0.00194226)\n"
       ]
      },
      {
       "output_type": "stream",
       "stream": "stdout",
       "text": [
        "131026-03:19:05,929 interface INFO:\n",
        "\t stdout 2013-10-26T03:19:05.927864:j_ras = (0.0257848, -2.74439e-19, 0.999668)\n"
       ]
      },
      {
       "output_type": "stream",
       "stream": "stdout",
       "text": [
        "131026-03:19:05,930 interface INFO:\n",
        "\t stdout 2013-10-26T03:19:05.927864:k_ras = (0.996827, 0.0753257, -0.0257115)\n"
       ]
      },
      {
       "output_type": "stream",
       "stream": "stdout",
       "text": [
        "131026-03:19:05,930 interface INFO:\n",
        "\t stdout 2013-10-26T03:19:05.927864:Reslicing using trilinear interpolation \n"
       ]
      },
      {
       "output_type": "stream",
       "stream": "stdout",
       "text": [
        "131026-03:19:05,931 interface INFO:\n",
        "\t stdout 2013-10-26T03:19:05.927864:writing to /media/mnemea/MINDt-Quantidopa/PySBR-PhantomImages/temp/Process_All/GeneratePhantom/_subject_id_S549/resample/mapflow/_resample3/dat_phantom_grad3_out.nii.gz...\n"
       ]
      },
      {
       "output_type": "stream",
       "stream": "stdout",
       "text": [
        "131026-03:19:05,972 workflow INFO:\n",
        "\t Executing node datasink.a07 in dir: /media/mnemea/MINDt-Quantidopa/PySBR-PhantomImages/temp/Process_All/_subject_id_S549/datasink\n"
       ]
      },
      {
       "output_type": "stream",
       "stream": "stdout",
       "text": [
        "131026-03:19:06,1 workflow INFO:\n",
        "\t Executing node _datasink0 in dir: /media/mnemea/MINDt-Quantidopa/PySBR-PhantomImages/temp/Process_All/_subject_id_S549/datasink/mapflow/_datasink0\n"
       ]
      },
      {
       "output_type": "stream",
       "stream": "stdout",
       "text": [
        "131026-03:19:06,127 workflow INFO:\n",
        "\t Executing node _datasink1 in dir: /media/mnemea/MINDt-Quantidopa/PySBR-PhantomImages/temp/Process_All/_subject_id_S549/datasink/mapflow/_datasink1\n"
       ]
      },
      {
       "output_type": "stream",
       "stream": "stdout",
       "text": [
        "131026-03:19:06,233 workflow INFO:\n",
        "\t Executing node _datasink2 in dir: /media/mnemea/MINDt-Quantidopa/PySBR-PhantomImages/temp/Process_All/_subject_id_S549/datasink/mapflow/_datasink2\n"
       ]
      },
      {
       "output_type": "stream",
       "stream": "stdout",
       "text": [
        "131026-03:19:06,337 workflow INFO:\n",
        "\t Executing node _datasink3 in dir: /media/mnemea/MINDt-Quantidopa/PySBR-PhantomImages/temp/Process_All/_subject_id_S549/datasink/mapflow/_datasink3\n"
       ]
      },
      {
       "output_type": "stream",
       "stream": "stdout",
       "text": [
        "131026-03:19:06,455 workflow INFO:\n",
        "\t Executing node datasink2.a07 in dir: /media/mnemea/MINDt-Quantidopa/PySBR-PhantomImages/temp/Process_All/_subject_id_S549/datasink2\n"
       ]
      },
      {
       "output_type": "stream",
       "stream": "stdout",
       "text": [
        "131026-03:19:06,487 workflow INFO:\n",
        "\t Executing node _datasink20 in dir: /media/mnemea/MINDt-Quantidopa/PySBR-PhantomImages/temp/Process_All/_subject_id_S549/datasink2/mapflow/_datasink20\n"
       ]
      },
      {
       "output_type": "stream",
       "stream": "stdout",
       "text": [
        "131026-03:19:06,582 workflow INFO:\n",
        "\t Executing node _datasink21 in dir: /media/mnemea/MINDt-Quantidopa/PySBR-PhantomImages/temp/Process_All/_subject_id_S549/datasink2/mapflow/_datasink21\n"
       ]
      },
      {
       "output_type": "stream",
       "stream": "stdout",
       "text": [
        "131026-03:19:06,659 workflow INFO:\n",
        "\t Executing node _datasink22 in dir: /media/mnemea/MINDt-Quantidopa/PySBR-PhantomImages/temp/Process_All/_subject_id_S549/datasink2/mapflow/_datasink22\n"
       ]
      },
      {
       "output_type": "stream",
       "stream": "stdout",
       "text": [
        "131026-03:19:06,736 workflow INFO:\n",
        "\t Executing node _datasink23 in dir: /media/mnemea/MINDt-Quantidopa/PySBR-PhantomImages/temp/Process_All/_subject_id_S549/datasink2/mapflow/_datasink23\n"
       ]
      },
      {
       "output_type": "stream",
       "stream": "stdout",
       "text": [
        "131026-03:19:06,866 workflow INFO:\n",
        "\t Executing node convert.a21 in dir: /media/mnemea/MINDt-Quantidopa/PySBR-PhantomImages/temp/Process_All/GeneratePhantom/seg_to_orig/_subject_id_S594/convert\n"
       ]
      },
      {
       "output_type": "stream",
       "stream": "stdout",
       "text": [
        "131026-03:19:06,870 workflow INFO:\n",
        "\t Collecting precomputed outputs\n"
       ]
      },
      {
       "output_type": "stream",
       "stream": "stdout",
       "text": [
        "131026-03:19:06,910 workflow INFO:\n",
        "\t Executing node applyreg.a28 in dir: /media/mnemea/MINDt-Quantidopa/PySBR-PhantomImages/temp/Process_All/GeneratePhantom/seg_to_orig/_subject_id_S238/applyreg\n"
       ]
      },
      {
       "output_type": "stream",
       "stream": "stdout",
       "text": [
        "131026-03:19:06,913 workflow INFO:\n",
        "\t Collecting precomputed outputs\n"
       ]
      },
      {
       "output_type": "stream",
       "stream": "stdout",
       "text": [
        "131026-03:19:06,919 workflow INFO:\n",
        "\t Executing node dsource.a17 in dir: /media/mnemea/MINDt-Quantidopa/PySBR-PhantomImages/temp/Process_All/_subject_id_S116/dsource\n"
       ]
      },
      {
       "output_type": "stream",
       "stream": "stdout",
       "text": [
        "131026-03:19:07,22 workflow INFO:\n",
        "\t Executing node applyreg.a17 in dir: /media/mnemea/MINDt-Quantidopa/PySBR-PhantomImages/temp/Process_All/GeneratePhantom/seg_to_orig/_subject_id_S116/applyreg\n"
       ]
      },
      {
       "output_type": "stream",
       "stream": "stdout",
       "text": [
        "131026-03:19:07,26 workflow INFO:\n",
        "\t Collecting precomputed outputs\n"
       ]
      },
      {
       "output_type": "stream",
       "stream": "stdout",
       "text": [
        "131026-03:19:07,35 workflow INFO:\n",
        "\t Executing node Gen.a21 in dir: /media/mnemea/MINDt-Quantidopa/PySBR-PhantomImages/temp/Process_All/GeneratePhantom/_subject_id_S594/Gen\n"
       ]
      },
      {
       "output_type": "stream",
       "stream": "stdout",
       "text": [
        "131026-03:20:10,571 workflow INFO:\n",
        "\t Executing node resample.a21 in dir: /media/mnemea/MINDt-Quantidopa/PySBR-PhantomImages/temp/Process_All/GeneratePhantom/_subject_id_S594/resample\n"
       ]
      },
      {
       "output_type": "stream",
       "stream": "stdout",
       "text": [
        "131026-03:20:10,599 workflow INFO:\n",
        "\t Executing node _resample0 in dir: /media/mnemea/MINDt-Quantidopa/PySBR-PhantomImages/temp/Process_All/GeneratePhantom/_subject_id_S594/resample/mapflow/_resample0\n"
       ]
      },
      {
       "output_type": "stream",
       "stream": "stdout",
       "text": [
        "131026-03:20:10,633 workflow INFO:\n",
        "\t Running: mri_convert --out_data_type float -voxsize 3.900000 3.900000 3.900000 --input_volume /media/mnemea/MINDt-Quantidopa/PySBR-PhantomImages/temp/Process_All/GeneratePhantom/_subject_id_S594/Gen/dat_phantom_grad0.nii.gz --output_volume /media/mnemea/MINDt-Quantidopa/PySBR-PhantomImages/temp/Process_All/GeneratePhantom/_subject_id_S594/resample/mapflow/_resample0/dat_phantom_grad0_out.nii.gz\n"
       ]
      },
      {
       "output_type": "stream",
       "stream": "stdout",
       "text": [
        "131026-03:20:10,674 interface INFO:\n",
        "\t stdout 2013-10-26T03:20:10.674363:mri_convert --out_data_type float -voxsize 3.900000 3.900000 3.900000 --input_volume /media/mnemea/MINDt-Quantidopa/PySBR-PhantomImages/temp/Process_All/GeneratePhantom/_subject_id_S594/Gen/dat_phantom_grad0.nii.gz --output_volume /media/mnemea/MINDt-Quantidopa/PySBR-PhantomImages/temp/Process_All/GeneratePhantom/_subject_id_S594/resample/mapflow/_resample0/dat_phantom_grad0_out.nii.gz \n"
       ]
      },
      {
       "output_type": "stream",
       "stream": "stdout",
       "text": [
        "131026-03:20:11,351 interface INFO:\n",
        "\t stdout 2013-10-26T03:20:11.351353:$Id: mri_convert.c,v 1.179.2.7 2012/09/05 21:55:16 mreuter Exp $\n"
       ]
      },
      {
       "output_type": "stream",
       "stream": "stdout",
       "text": [
        "131026-03:20:11,352 interface INFO:\n",
        "\t stdout 2013-10-26T03:20:11.351353:reading from /media/mnemea/MINDt-Quantidopa/PySBR-PhantomImages/temp/Process_All/GeneratePhantom/_subject_id_S594/Gen/dat_phantom_grad0.nii.gz...\n"
       ]
      },
      {
       "output_type": "stream",
       "stream": "stdout",
       "text": [
        "131026-03:20:11,352 interface INFO:\n",
        "\t stdout 2013-10-26T03:20:11.351353:TR=0.00, TE=0.00, TI=0.00, flip angle=0.00\n"
       ]
      },
      {
       "output_type": "stream",
       "stream": "stdout",
       "text": [
        "131026-03:20:11,353 interface INFO:\n",
        "\t stdout 2013-10-26T03:20:11.351353:i_ras = (0.103593, -0.994616, 0.00264245)\n"
       ]
      },
      {
       "output_type": "stream",
       "stream": "stdout",
       "text": [
        "131026-03:20:11,353 interface INFO:\n",
        "\t stdout 2013-10-26T03:20:11.351353:j_ras = (-0.0254997, 0, 0.999675)\n"
       ]
      },
      {
       "output_type": "stream",
       "stream": "stdout",
       "text": [
        "131026-03:20:11,353 interface INFO:\n",
        "\t stdout 2013-10-26T03:20:11.351353:k_ras = (0.994293, 0.103627, 0.0253624)\n"
       ]
      },
      {
       "output_type": "stream",
       "stream": "stdout",
       "text": [
        "131026-03:20:11,353 interface INFO:\n",
        "\t stdout 2013-10-26T03:20:11.351353:Reslicing using trilinear interpolation \n"
       ]
      },
      {
       "output_type": "stream",
       "stream": "stdout",
       "text": [
        "131026-03:20:11,354 interface INFO:\n",
        "\t stdout 2013-10-26T03:20:11.351353:writing to /media/mnemea/MINDt-Quantidopa/PySBR-PhantomImages/temp/Process_All/GeneratePhantom/_subject_id_S594/resample/mapflow/_resample0/dat_phantom_grad0_out.nii.gz...\n"
       ]
      },
      {
       "output_type": "stream",
       "stream": "stdout",
       "text": [
        "131026-03:20:11,374 workflow INFO:\n",
        "\t Executing node _resample1 in dir: /media/mnemea/MINDt-Quantidopa/PySBR-PhantomImages/temp/Process_All/GeneratePhantom/_subject_id_S594/resample/mapflow/_resample1\n"
       ]
      },
      {
       "output_type": "stream",
       "stream": "stdout",
       "text": [
        "131026-03:20:11,403 workflow INFO:\n",
        "\t Running: mri_convert --out_data_type float -voxsize 3.900000 3.900000 3.900000 --input_volume /media/mnemea/MINDt-Quantidopa/PySBR-PhantomImages/temp/Process_All/GeneratePhantom/_subject_id_S594/Gen/dat_phantom_grad1.nii.gz --output_volume /media/mnemea/MINDt-Quantidopa/PySBR-PhantomImages/temp/Process_All/GeneratePhantom/_subject_id_S594/resample/mapflow/_resample1/dat_phantom_grad1_out.nii.gz\n"
       ]
      },
      {
       "output_type": "stream",
       "stream": "stdout",
       "text": [
        "131026-03:20:11,443 interface INFO:\n",
        "\t stdout 2013-10-26T03:20:11.443254:mri_convert --out_data_type float -voxsize 3.900000 3.900000 3.900000 --input_volume /media/mnemea/MINDt-Quantidopa/PySBR-PhantomImages/temp/Process_All/GeneratePhantom/_subject_id_S594/Gen/dat_phantom_grad1.nii.gz --output_volume /media/mnemea/MINDt-Quantidopa/PySBR-PhantomImages/temp/Process_All/GeneratePhantom/_subject_id_S594/resample/mapflow/_resample1/dat_phantom_grad1_out.nii.gz \n"
       ]
      },
      {
       "output_type": "stream",
       "stream": "stdout",
       "text": [
        "131026-03:20:12,121 interface INFO:\n",
        "\t stdout 2013-10-26T03:20:12.121244:$Id: mri_convert.c,v 1.179.2.7 2012/09/05 21:55:16 mreuter Exp $\n"
       ]
      },
      {
       "output_type": "stream",
       "stream": "stdout",
       "text": [
        "131026-03:20:12,122 interface INFO:\n",
        "\t stdout 2013-10-26T03:20:12.121244:reading from /media/mnemea/MINDt-Quantidopa/PySBR-PhantomImages/temp/Process_All/GeneratePhantom/_subject_id_S594/Gen/dat_phantom_grad1.nii.gz...\n"
       ]
      },
      {
       "output_type": "stream",
       "stream": "stdout",
       "text": [
        "131026-03:20:12,122 interface INFO:\n",
        "\t stdout 2013-10-26T03:20:12.121244:TR=0.00, TE=0.00, TI=0.00, flip angle=0.00\n"
       ]
      },
      {
       "output_type": "stream",
       "stream": "stdout",
       "text": [
        "131026-03:20:12,123 interface INFO:\n",
        "\t stdout 2013-10-26T03:20:12.121244:i_ras = (0.103593, -0.994616, 0.00264245)\n"
       ]
      },
      {
       "output_type": "stream",
       "stream": "stdout",
       "text": [
        "131026-03:20:12,123 interface INFO:\n",
        "\t stdout 2013-10-26T03:20:12.121244:j_ras = (-0.0254997, 0, 0.999675)\n"
       ]
      },
      {
       "output_type": "stream",
       "stream": "stdout",
       "text": [
        "131026-03:20:12,124 interface INFO:\n",
        "\t stdout 2013-10-26T03:20:12.121244:k_ras = (0.994293, 0.103627, 0.0253624)\n"
       ]
      },
      {
       "output_type": "stream",
       "stream": "stdout",
       "text": [
        "131026-03:20:12,124 interface INFO:\n",
        "\t stdout 2013-10-26T03:20:12.121244:Reslicing using trilinear interpolation \n"
       ]
      },
      {
       "output_type": "stream",
       "stream": "stdout",
       "text": [
        "131026-03:20:12,125 interface INFO:\n",
        "\t stdout 2013-10-26T03:20:12.121244:writing to /media/mnemea/MINDt-Quantidopa/PySBR-PhantomImages/temp/Process_All/GeneratePhantom/_subject_id_S594/resample/mapflow/_resample1/dat_phantom_grad1_out.nii.gz...\n"
       ]
      },
      {
       "output_type": "stream",
       "stream": "stdout",
       "text": [
        "131026-03:20:12,147 workflow INFO:\n",
        "\t Executing node _resample2 in dir: /media/mnemea/MINDt-Quantidopa/PySBR-PhantomImages/temp/Process_All/GeneratePhantom/_subject_id_S594/resample/mapflow/_resample2\n"
       ]
      },
      {
       "output_type": "stream",
       "stream": "stdout",
       "text": [
        "131026-03:20:12,175 workflow INFO:\n",
        "\t Running: mri_convert --out_data_type float -voxsize 3.900000 3.900000 3.900000 --input_volume /media/mnemea/MINDt-Quantidopa/PySBR-PhantomImages/temp/Process_All/GeneratePhantom/_subject_id_S594/Gen/dat_phantom_grad2.nii.gz --output_volume /media/mnemea/MINDt-Quantidopa/PySBR-PhantomImages/temp/Process_All/GeneratePhantom/_subject_id_S594/resample/mapflow/_resample2/dat_phantom_grad2_out.nii.gz\n"
       ]
      },
      {
       "output_type": "stream",
       "stream": "stdout",
       "text": [
        "131026-03:20:12,218 interface INFO:\n",
        "\t stdout 2013-10-26T03:20:12.218024:mri_convert --out_data_type float -voxsize 3.900000 3.900000 3.900000 --input_volume /media/mnemea/MINDt-Quantidopa/PySBR-PhantomImages/temp/Process_All/GeneratePhantom/_subject_id_S594/Gen/dat_phantom_grad2.nii.gz --output_volume /media/mnemea/MINDt-Quantidopa/PySBR-PhantomImages/temp/Process_All/GeneratePhantom/_subject_id_S594/resample/mapflow/_resample2/dat_phantom_grad2_out.nii.gz \n"
       ]
      },
      {
       "output_type": "stream",
       "stream": "stdout",
       "text": [
        "131026-03:20:12,898 interface INFO:\n",
        "\t stdout 2013-10-26T03:20:12.898077:$Id: mri_convert.c,v 1.179.2.7 2012/09/05 21:55:16 mreuter Exp $\n"
       ]
      },
      {
       "output_type": "stream",
       "stream": "stdout",
       "text": [
        "131026-03:20:12,898 interface INFO:\n",
        "\t stdout 2013-10-26T03:20:12.898077:reading from /media/mnemea/MINDt-Quantidopa/PySBR-PhantomImages/temp/Process_All/GeneratePhantom/_subject_id_S594/Gen/dat_phantom_grad2.nii.gz...\n"
       ]
      },
      {
       "output_type": "stream",
       "stream": "stdout",
       "text": [
        "131026-03:20:12,899 interface INFO:\n",
        "\t stdout 2013-10-26T03:20:12.898077:TR=0.00, TE=0.00, TI=0.00, flip angle=0.00\n"
       ]
      },
      {
       "output_type": "stream",
       "stream": "stdout",
       "text": [
        "131026-03:20:12,900 interface INFO:\n",
        "\t stdout 2013-10-26T03:20:12.898077:i_ras = (0.103593, -0.994616, 0.00264245)\n"
       ]
      },
      {
       "output_type": "stream",
       "stream": "stdout",
       "text": [
        "131026-03:20:12,900 interface INFO:\n",
        "\t stdout 2013-10-26T03:20:12.898077:j_ras = (-0.0254997, 0, 0.999675)\n"
       ]
      },
      {
       "output_type": "stream",
       "stream": "stdout",
       "text": [
        "131026-03:20:12,900 interface INFO:\n",
        "\t stdout 2013-10-26T03:20:12.898077:k_ras = (0.994293, 0.103627, 0.0253624)\n"
       ]
      },
      {
       "output_type": "stream",
       "stream": "stdout",
       "text": [
        "131026-03:20:12,901 interface INFO:\n",
        "\t stdout 2013-10-26T03:20:12.898077:Reslicing using trilinear interpolation \n"
       ]
      },
      {
       "output_type": "stream",
       "stream": "stdout",
       "text": [
        "131026-03:20:12,901 interface INFO:\n",
        "\t stdout 2013-10-26T03:20:12.898077:writing to /media/mnemea/MINDt-Quantidopa/PySBR-PhantomImages/temp/Process_All/GeneratePhantom/_subject_id_S594/resample/mapflow/_resample2/dat_phantom_grad2_out.nii.gz...\n"
       ]
      },
      {
       "output_type": "stream",
       "stream": "stdout",
       "text": [
        "131026-03:20:12,922 workflow INFO:\n",
        "\t Executing node _resample3 in dir: /media/mnemea/MINDt-Quantidopa/PySBR-PhantomImages/temp/Process_All/GeneratePhantom/_subject_id_S594/resample/mapflow/_resample3\n"
       ]
      },
      {
       "output_type": "stream",
       "stream": "stdout",
       "text": [
        "131026-03:20:12,950 workflow INFO:\n",
        "\t Running: mri_convert --out_data_type float -voxsize 3.900000 3.900000 3.900000 --input_volume /media/mnemea/MINDt-Quantidopa/PySBR-PhantomImages/temp/Process_All/GeneratePhantom/_subject_id_S594/Gen/dat_phantom_grad3.nii.gz --output_volume /media/mnemea/MINDt-Quantidopa/PySBR-PhantomImages/temp/Process_All/GeneratePhantom/_subject_id_S594/resample/mapflow/_resample3/dat_phantom_grad3_out.nii.gz\n"
       ]
      },
      {
       "output_type": "stream",
       "stream": "stdout",
       "text": [
        "131026-03:20:12,992 interface INFO:\n",
        "\t stdout 2013-10-26T03:20:12.992791:mri_convert --out_data_type float -voxsize 3.900000 3.900000 3.900000 --input_volume /media/mnemea/MINDt-Quantidopa/PySBR-PhantomImages/temp/Process_All/GeneratePhantom/_subject_id_S594/Gen/dat_phantom_grad3.nii.gz --output_volume /media/mnemea/MINDt-Quantidopa/PySBR-PhantomImages/temp/Process_All/GeneratePhantom/_subject_id_S594/resample/mapflow/_resample3/dat_phantom_grad3_out.nii.gz \n"
       ]
      },
      {
       "output_type": "stream",
       "stream": "stdout",
       "text": [
        "131026-03:20:13,668 interface INFO:\n",
        "\t stdout 2013-10-26T03:20:13.668608:$Id: mri_convert.c,v 1.179.2.7 2012/09/05 21:55:16 mreuter Exp $\n"
       ]
      },
      {
       "output_type": "stream",
       "stream": "stdout",
       "text": [
        "131026-03:20:13,669 interface INFO:\n",
        "\t stdout 2013-10-26T03:20:13.668608:reading from /media/mnemea/MINDt-Quantidopa/PySBR-PhantomImages/temp/Process_All/GeneratePhantom/_subject_id_S594/Gen/dat_phantom_grad3.nii.gz...\n"
       ]
      },
      {
       "output_type": "stream",
       "stream": "stdout",
       "text": [
        "131026-03:20:13,669 interface INFO:\n",
        "\t stdout 2013-10-26T03:20:13.668608:TR=0.00, TE=0.00, TI=0.00, flip angle=0.00\n"
       ]
      },
      {
       "output_type": "stream",
       "stream": "stdout",
       "text": [
        "131026-03:20:13,670 interface INFO:\n",
        "\t stdout 2013-10-26T03:20:13.668608:i_ras = (0.103593, -0.994616, 0.00264245)\n"
       ]
      },
      {
       "output_type": "stream",
       "stream": "stdout",
       "text": [
        "131026-03:20:13,670 interface INFO:\n",
        "\t stdout 2013-10-26T03:20:13.668608:j_ras = (-0.0254997, 0, 0.999675)\n"
       ]
      },
      {
       "output_type": "stream",
       "stream": "stdout",
       "text": [
        "131026-03:20:13,671 interface INFO:\n",
        "\t stdout 2013-10-26T03:20:13.668608:k_ras = (0.994293, 0.103627, 0.0253624)\n"
       ]
      },
      {
       "output_type": "stream",
       "stream": "stdout",
       "text": [
        "131026-03:20:13,671 interface INFO:\n",
        "\t stdout 2013-10-26T03:20:13.668608:Reslicing using trilinear interpolation \n"
       ]
      },
      {
       "output_type": "stream",
       "stream": "stdout",
       "text": [
        "131026-03:20:13,672 interface INFO:\n",
        "\t stdout 2013-10-26T03:20:13.668608:writing to /media/mnemea/MINDt-Quantidopa/PySBR-PhantomImages/temp/Process_All/GeneratePhantom/_subject_id_S594/resample/mapflow/_resample3/dat_phantom_grad3_out.nii.gz...\n"
       ]
      },
      {
       "output_type": "stream",
       "stream": "stdout",
       "text": [
        "131026-03:20:13,713 workflow INFO:\n",
        "\t Executing node datasink.a21 in dir: /media/mnemea/MINDt-Quantidopa/PySBR-PhantomImages/temp/Process_All/_subject_id_S594/datasink\n"
       ]
      },
      {
       "output_type": "stream",
       "stream": "stdout",
       "text": [
        "131026-03:20:13,741 workflow INFO:\n",
        "\t Executing node _datasink0 in dir: /media/mnemea/MINDt-Quantidopa/PySBR-PhantomImages/temp/Process_All/_subject_id_S594/datasink/mapflow/_datasink0\n"
       ]
      },
      {
       "output_type": "stream",
       "stream": "stdout",
       "text": [
        "131026-03:20:13,868 workflow INFO:\n",
        "\t Executing node _datasink1 in dir: /media/mnemea/MINDt-Quantidopa/PySBR-PhantomImages/temp/Process_All/_subject_id_S594/datasink/mapflow/_datasink1\n"
       ]
      },
      {
       "output_type": "stream",
       "stream": "stdout",
       "text": [
        "131026-03:20:13,973 workflow INFO:\n",
        "\t Executing node _datasink2 in dir: /media/mnemea/MINDt-Quantidopa/PySBR-PhantomImages/temp/Process_All/_subject_id_S594/datasink/mapflow/_datasink2\n"
       ]
      },
      {
       "output_type": "stream",
       "stream": "stdout",
       "text": [
        "131026-03:20:14,76 workflow INFO:\n",
        "\t Executing node _datasink3 in dir: /media/mnemea/MINDt-Quantidopa/PySBR-PhantomImages/temp/Process_All/_subject_id_S594/datasink/mapflow/_datasink3\n"
       ]
      },
      {
       "output_type": "stream",
       "stream": "stdout",
       "text": [
        "131026-03:20:14,194 workflow INFO:\n",
        "\t Executing node datasink2.a21 in dir: /media/mnemea/MINDt-Quantidopa/PySBR-PhantomImages/temp/Process_All/_subject_id_S594/datasink2\n"
       ]
      },
      {
       "output_type": "stream",
       "stream": "stdout",
       "text": [
        "131026-03:20:14,223 workflow INFO:\n",
        "\t Executing node _datasink20 in dir: /media/mnemea/MINDt-Quantidopa/PySBR-PhantomImages/temp/Process_All/_subject_id_S594/datasink2/mapflow/_datasink20\n"
       ]
      },
      {
       "output_type": "stream",
       "stream": "stdout",
       "text": [
        "131026-03:20:14,293 workflow INFO:\n",
        "\t Executing node _datasink21 in dir: /media/mnemea/MINDt-Quantidopa/PySBR-PhantomImages/temp/Process_All/_subject_id_S594/datasink2/mapflow/_datasink21\n"
       ]
      },
      {
       "output_type": "stream",
       "stream": "stdout",
       "text": [
        "131026-03:20:14,353 workflow INFO:\n",
        "\t Executing node _datasink22 in dir: /media/mnemea/MINDt-Quantidopa/PySBR-PhantomImages/temp/Process_All/_subject_id_S594/datasink2/mapflow/_datasink22\n"
       ]
      },
      {
       "output_type": "stream",
       "stream": "stdout",
       "text": [
        "131026-03:20:14,444 workflow INFO:\n",
        "\t Executing node _datasink23 in dir: /media/mnemea/MINDt-Quantidopa/PySBR-PhantomImages/temp/Process_All/_subject_id_S594/datasink2/mapflow/_datasink23\n"
       ]
      },
      {
       "output_type": "stream",
       "stream": "stdout",
       "text": [
        "131026-03:20:14,526 workflow INFO:\n",
        "\t Executing node dsource.a05 in dir: /media/mnemea/MINDt-Quantidopa/PySBR-PhantomImages/temp/Process_All/_subject_id_S063/dsource\n"
       ]
      },
      {
       "output_type": "stream",
       "stream": "stdout",
       "text": [
        "131026-03:20:14,640 workflow INFO:\n",
        "\t Executing node applyreg.a05 in dir: /media/mnemea/MINDt-Quantidopa/PySBR-PhantomImages/temp/Process_All/GeneratePhantom/seg_to_orig/_subject_id_S063/applyreg\n"
       ]
      },
      {
       "output_type": "stream",
       "stream": "stdout",
       "text": [
        "131026-03:20:14,645 workflow INFO:\n",
        "\t Collecting precomputed outputs\n"
       ]
      },
      {
       "output_type": "stream",
       "stream": "stdout",
       "text": [
        "131026-03:20:14,656 workflow INFO:\n",
        "\t Executing node convert.a13 in dir: /media/mnemea/MINDt-Quantidopa/PySBR-PhantomImages/temp/Process_All/GeneratePhantom/seg_to_orig/_subject_id_S153/convert\n"
       ]
      },
      {
       "output_type": "stream",
       "stream": "stdout",
       "text": [
        "131026-03:20:14,659 workflow INFO:\n",
        "\t Collecting precomputed outputs\n"
       ]
      },
      {
       "output_type": "stream",
       "stream": "stdout",
       "text": [
        "131026-03:20:14,667 workflow INFO:\n",
        "\t Executing node Gen.a13 in dir: /media/mnemea/MINDt-Quantidopa/PySBR-PhantomImages/temp/Process_All/GeneratePhantom/_subject_id_S153/Gen\n"
       ]
      },
      {
       "output_type": "stream",
       "stream": "stdout",
       "text": [
        "131026-03:21:18,14 workflow INFO:\n",
        "\t Executing node resample.a13 in dir: /media/mnemea/MINDt-Quantidopa/PySBR-PhantomImages/temp/Process_All/GeneratePhantom/_subject_id_S153/resample\n"
       ]
      },
      {
       "output_type": "stream",
       "stream": "stdout",
       "text": [
        "131026-03:21:18,43 workflow INFO:\n",
        "\t Executing node _resample0 in dir: /media/mnemea/MINDt-Quantidopa/PySBR-PhantomImages/temp/Process_All/GeneratePhantom/_subject_id_S153/resample/mapflow/_resample0\n"
       ]
      },
      {
       "output_type": "stream",
       "stream": "stdout",
       "text": [
        "131026-03:21:18,76 workflow INFO:\n",
        "\t Running: mri_convert --out_data_type float -voxsize 3.900000 3.900000 3.900000 --input_volume /media/mnemea/MINDt-Quantidopa/PySBR-PhantomImages/temp/Process_All/GeneratePhantom/_subject_id_S153/Gen/dat_phantom_grad0.nii.gz --output_volume /media/mnemea/MINDt-Quantidopa/PySBR-PhantomImages/temp/Process_All/GeneratePhantom/_subject_id_S153/resample/mapflow/_resample0/dat_phantom_grad0_out.nii.gz\n"
       ]
      },
      {
       "output_type": "stream",
       "stream": "stdout",
       "text": [
        "131026-03:21:18,119 interface INFO:\n",
        "\t stdout 2013-10-26T03:21:18.119394:mri_convert --out_data_type float -voxsize 3.900000 3.900000 3.900000 --input_volume /media/mnemea/MINDt-Quantidopa/PySBR-PhantomImages/temp/Process_All/GeneratePhantom/_subject_id_S153/Gen/dat_phantom_grad0.nii.gz --output_volume /media/mnemea/MINDt-Quantidopa/PySBR-PhantomImages/temp/Process_All/GeneratePhantom/_subject_id_S153/resample/mapflow/_resample0/dat_phantom_grad0_out.nii.gz \n"
       ]
      },
      {
       "output_type": "stream",
       "stream": "stdout",
       "text": [
        "131026-03:21:18,791 interface INFO:\n",
        "\t stdout 2013-10-26T03:21:18.791751:$Id: mri_convert.c,v 1.179.2.7 2012/09/05 21:55:16 mreuter Exp $\n"
       ]
      },
      {
       "output_type": "stream",
       "stream": "stdout",
       "text": [
        "131026-03:21:18,792 interface INFO:\n",
        "\t stdout 2013-10-26T03:21:18.791751:reading from /media/mnemea/MINDt-Quantidopa/PySBR-PhantomImages/temp/Process_All/GeneratePhantom/_subject_id_S153/Gen/dat_phantom_grad0.nii.gz...\n"
       ]
      },
      {
       "output_type": "stream",
       "stream": "stdout",
       "text": [
        "131026-03:21:18,793 interface INFO:\n",
        "\t stdout 2013-10-26T03:21:18.791751:TR=0.00, TE=0.00, TI=0.00, flip angle=0.00\n"
       ]
      },
      {
       "output_type": "stream",
       "stream": "stdout",
       "text": [
        "131026-03:21:18,793 interface INFO:\n",
        "\t stdout 2013-10-26T03:21:18.791751:i_ras = (0.0723302, -0.989364, 0.126204)\n"
       ]
      },
      {
       "output_type": "stream",
       "stream": "stdout",
       "text": [
        "131026-03:21:18,794 interface INFO:\n",
        "\t stdout 2013-10-26T03:21:18.791751:j_ras = (-0.0539151, 0.122472, 0.991006)\n"
       ]
      },
      {
       "output_type": "stream",
       "stream": "stdout",
       "text": [
        "131026-03:21:18,794 interface INFO:\n",
        "\t stdout 2013-10-26T03:21:18.791751:k_ras = (0.995922, 0.078484, 0.0444832)\n"
       ]
      },
      {
       "output_type": "stream",
       "stream": "stdout",
       "text": [
        "131026-03:21:18,795 interface INFO:\n",
        "\t stdout 2013-10-26T03:21:18.791751:Reslicing using trilinear interpolation \n"
       ]
      },
      {
       "output_type": "stream",
       "stream": "stdout",
       "text": [
        "131026-03:21:18,795 interface INFO:\n",
        "\t stdout 2013-10-26T03:21:18.791751:writing to /media/mnemea/MINDt-Quantidopa/PySBR-PhantomImages/temp/Process_All/GeneratePhantom/_subject_id_S153/resample/mapflow/_resample0/dat_phantom_grad0_out.nii.gz...\n"
       ]
      },
      {
       "output_type": "stream",
       "stream": "stdout",
       "text": [
        "131026-03:21:18,817 workflow INFO:\n",
        "\t Executing node _resample1 in dir: /media/mnemea/MINDt-Quantidopa/PySBR-PhantomImages/temp/Process_All/GeneratePhantom/_subject_id_S153/resample/mapflow/_resample1\n"
       ]
      },
      {
       "output_type": "stream",
       "stream": "stdout",
       "text": [
        "131026-03:21:18,845 workflow INFO:\n",
        "\t Running: mri_convert --out_data_type float -voxsize 3.900000 3.900000 3.900000 --input_volume /media/mnemea/MINDt-Quantidopa/PySBR-PhantomImages/temp/Process_All/GeneratePhantom/_subject_id_S153/Gen/dat_phantom_grad1.nii.gz --output_volume /media/mnemea/MINDt-Quantidopa/PySBR-PhantomImages/temp/Process_All/GeneratePhantom/_subject_id_S153/resample/mapflow/_resample1/dat_phantom_grad1_out.nii.gz\n"
       ]
      },
      {
       "output_type": "stream",
       "stream": "stdout",
       "text": [
        "131026-03:21:18,883 interface INFO:\n",
        "\t stdout 2013-10-26T03:21:18.883862:mri_convert --out_data_type float -voxsize 3.900000 3.900000 3.900000 --input_volume /media/mnemea/MINDt-Quantidopa/PySBR-PhantomImages/temp/Process_All/GeneratePhantom/_subject_id_S153/Gen/dat_phantom_grad1.nii.gz --output_volume /media/mnemea/MINDt-Quantidopa/PySBR-PhantomImages/temp/Process_All/GeneratePhantom/_subject_id_S153/resample/mapflow/_resample1/dat_phantom_grad1_out.nii.gz \n"
       ]
      },
      {
       "output_type": "stream",
       "stream": "stdout",
       "text": [
        "131026-03:21:19,559 interface INFO:\n",
        "\t stdout 2013-10-26T03:21:19.559130:$Id: mri_convert.c,v 1.179.2.7 2012/09/05 21:55:16 mreuter Exp $\n"
       ]
      },
      {
       "output_type": "stream",
       "stream": "stdout",
       "text": [
        "131026-03:21:19,559 interface INFO:\n",
        "\t stdout 2013-10-26T03:21:19.559130:reading from /media/mnemea/MINDt-Quantidopa/PySBR-PhantomImages/temp/Process_All/GeneratePhantom/_subject_id_S153/Gen/dat_phantom_grad1.nii.gz...\n"
       ]
      },
      {
       "output_type": "stream",
       "stream": "stdout",
       "text": [
        "131026-03:21:19,560 interface INFO:\n",
        "\t stdout 2013-10-26T03:21:19.559130:TR=0.00, TE=0.00, TI=0.00, flip angle=0.00\n"
       ]
      },
      {
       "output_type": "stream",
       "stream": "stdout",
       "text": [
        "131026-03:21:19,561 interface INFO:\n",
        "\t stdout 2013-10-26T03:21:19.559130:i_ras = (0.0723302, -0.989364, 0.126204)\n"
       ]
      },
      {
       "output_type": "stream",
       "stream": "stdout",
       "text": [
        "131026-03:21:19,561 interface INFO:\n",
        "\t stdout 2013-10-26T03:21:19.559130:j_ras = (-0.0539151, 0.122472, 0.991006)\n"
       ]
      },
      {
       "output_type": "stream",
       "stream": "stdout",
       "text": [
        "131026-03:21:19,561 interface INFO:\n",
        "\t stdout 2013-10-26T03:21:19.559130:k_ras = (0.995922, 0.078484, 0.0444832)\n"
       ]
      },
      {
       "output_type": "stream",
       "stream": "stdout",
       "text": [
        "131026-03:21:19,562 interface INFO:\n",
        "\t stdout 2013-10-26T03:21:19.559130:Reslicing using trilinear interpolation \n"
       ]
      },
      {
       "output_type": "stream",
       "stream": "stdout",
       "text": [
        "131026-03:21:19,562 interface INFO:\n",
        "\t stdout 2013-10-26T03:21:19.559130:writing to /media/mnemea/MINDt-Quantidopa/PySBR-PhantomImages/temp/Process_All/GeneratePhantom/_subject_id_S153/resample/mapflow/_resample1/dat_phantom_grad1_out.nii.gz...\n"
       ]
      },
      {
       "output_type": "stream",
       "stream": "stdout",
       "text": [
        "131026-03:21:19,583 workflow INFO:\n",
        "\t Executing node _resample2 in dir: /media/mnemea/MINDt-Quantidopa/PySBR-PhantomImages/temp/Process_All/GeneratePhantom/_subject_id_S153/resample/mapflow/_resample2\n"
       ]
      },
      {
       "output_type": "stream",
       "stream": "stdout",
       "text": [
        "131026-03:21:19,611 workflow INFO:\n",
        "\t Running: mri_convert --out_data_type float -voxsize 3.900000 3.900000 3.900000 --input_volume /media/mnemea/MINDt-Quantidopa/PySBR-PhantomImages/temp/Process_All/GeneratePhantom/_subject_id_S153/Gen/dat_phantom_grad2.nii.gz --output_volume /media/mnemea/MINDt-Quantidopa/PySBR-PhantomImages/temp/Process_All/GeneratePhantom/_subject_id_S153/resample/mapflow/_resample2/dat_phantom_grad2_out.nii.gz\n"
       ]
      },
      {
       "output_type": "stream",
       "stream": "stdout",
       "text": [
        "131026-03:21:19,651 interface INFO:\n",
        "\t stdout 2013-10-26T03:21:19.651345:mri_convert --out_data_type float -voxsize 3.900000 3.900000 3.900000 --input_volume /media/mnemea/MINDt-Quantidopa/PySBR-PhantomImages/temp/Process_All/GeneratePhantom/_subject_id_S153/Gen/dat_phantom_grad2.nii.gz --output_volume /media/mnemea/MINDt-Quantidopa/PySBR-PhantomImages/temp/Process_All/GeneratePhantom/_subject_id_S153/resample/mapflow/_resample2/dat_phantom_grad2_out.nii.gz \n"
       ]
      },
      {
       "output_type": "stream",
       "stream": "stdout",
       "text": [
        "131026-03:21:20,326 interface INFO:\n",
        "\t stdout 2013-10-26T03:21:20.326757:$Id: mri_convert.c,v 1.179.2.7 2012/09/05 21:55:16 mreuter Exp $\n"
       ]
      },
      {
       "output_type": "stream",
       "stream": "stdout",
       "text": [
        "131026-03:21:20,327 interface INFO:\n",
        "\t stdout 2013-10-26T03:21:20.326757:reading from /media/mnemea/MINDt-Quantidopa/PySBR-PhantomImages/temp/Process_All/GeneratePhantom/_subject_id_S153/Gen/dat_phantom_grad2.nii.gz...\n"
       ]
      },
      {
       "output_type": "stream",
       "stream": "stdout",
       "text": [
        "131026-03:21:20,328 interface INFO:\n",
        "\t stdout 2013-10-26T03:21:20.326757:TR=0.00, TE=0.00, TI=0.00, flip angle=0.00\n"
       ]
      },
      {
       "output_type": "stream",
       "stream": "stdout",
       "text": [
        "131026-03:21:20,328 interface INFO:\n",
        "\t stdout 2013-10-26T03:21:20.326757:i_ras = (0.0723302, -0.989364, 0.126204)\n"
       ]
      },
      {
       "output_type": "stream",
       "stream": "stdout",
       "text": [
        "131026-03:21:20,329 interface INFO:\n",
        "\t stdout 2013-10-26T03:21:20.326757:j_ras = (-0.0539151, 0.122472, 0.991006)\n"
       ]
      },
      {
       "output_type": "stream",
       "stream": "stdout",
       "text": [
        "131026-03:21:20,329 interface INFO:\n",
        "\t stdout 2013-10-26T03:21:20.326757:k_ras = (0.995922, 0.078484, 0.0444832)\n"
       ]
      },
      {
       "output_type": "stream",
       "stream": "stdout",
       "text": [
        "131026-03:21:20,330 interface INFO:\n",
        "\t stdout 2013-10-26T03:21:20.326757:Reslicing using trilinear interpolation \n"
       ]
      },
      {
       "output_type": "stream",
       "stream": "stdout",
       "text": [
        "131026-03:21:20,330 interface INFO:\n",
        "\t stdout 2013-10-26T03:21:20.326757:writing to /media/mnemea/MINDt-Quantidopa/PySBR-PhantomImages/temp/Process_All/GeneratePhantom/_subject_id_S153/resample/mapflow/_resample2/dat_phantom_grad2_out.nii.gz...\n"
       ]
      },
      {
       "output_type": "stream",
       "stream": "stdout",
       "text": [
        "131026-03:21:20,351 workflow INFO:\n",
        "\t Executing node _resample3 in dir: /media/mnemea/MINDt-Quantidopa/PySBR-PhantomImages/temp/Process_All/GeneratePhantom/_subject_id_S153/resample/mapflow/_resample3\n"
       ]
      },
      {
       "output_type": "stream",
       "stream": "stdout",
       "text": [
        "131026-03:21:20,379 workflow INFO:\n",
        "\t Running: mri_convert --out_data_type float -voxsize 3.900000 3.900000 3.900000 --input_volume /media/mnemea/MINDt-Quantidopa/PySBR-PhantomImages/temp/Process_All/GeneratePhantom/_subject_id_S153/Gen/dat_phantom_grad3.nii.gz --output_volume /media/mnemea/MINDt-Quantidopa/PySBR-PhantomImages/temp/Process_All/GeneratePhantom/_subject_id_S153/resample/mapflow/_resample3/dat_phantom_grad3_out.nii.gz\n"
       ]
      },
      {
       "output_type": "stream",
       "stream": "stdout",
       "text": [
        "131026-03:21:20,419 interface INFO:\n",
        "\t stdout 2013-10-26T03:21:20.418949:mri_convert --out_data_type float -voxsize 3.900000 3.900000 3.900000 --input_volume /media/mnemea/MINDt-Quantidopa/PySBR-PhantomImages/temp/Process_All/GeneratePhantom/_subject_id_S153/Gen/dat_phantom_grad3.nii.gz --output_volume /media/mnemea/MINDt-Quantidopa/PySBR-PhantomImages/temp/Process_All/GeneratePhantom/_subject_id_S153/resample/mapflow/_resample3/dat_phantom_grad3_out.nii.gz \n"
       ]
      },
      {
       "output_type": "stream",
       "stream": "stdout",
       "text": [
        "131026-03:21:21,96 interface INFO:\n",
        "\t stdout 2013-10-26T03:21:21.096624:$Id: mri_convert.c,v 1.179.2.7 2012/09/05 21:55:16 mreuter Exp $\n"
       ]
      },
      {
       "output_type": "stream",
       "stream": "stdout",
       "text": [
        "131026-03:21:21,97 interface INFO:\n",
        "\t stdout 2013-10-26T03:21:21.096624:reading from /media/mnemea/MINDt-Quantidopa/PySBR-PhantomImages/temp/Process_All/GeneratePhantom/_subject_id_S153/Gen/dat_phantom_grad3.nii.gz...\n"
       ]
      },
      {
       "output_type": "stream",
       "stream": "stdout",
       "text": [
        "131026-03:21:21,97 interface INFO:\n",
        "\t stdout 2013-10-26T03:21:21.096624:TR=0.00, TE=0.00, TI=0.00, flip angle=0.00\n"
       ]
      },
      {
       "output_type": "stream",
       "stream": "stdout",
       "text": [
        "131026-03:21:21,98 interface INFO:\n",
        "\t stdout 2013-10-26T03:21:21.096624:i_ras = (0.0723302, -0.989364, 0.126204)\n"
       ]
      },
      {
       "output_type": "stream",
       "stream": "stdout",
       "text": [
        "131026-03:21:21,98 interface INFO:\n",
        "\t stdout 2013-10-26T03:21:21.096624:j_ras = (-0.0539151, 0.122472, 0.991006)\n"
       ]
      },
      {
       "output_type": "stream",
       "stream": "stdout",
       "text": [
        "131026-03:21:21,99 interface INFO:\n",
        "\t stdout 2013-10-26T03:21:21.096624:k_ras = (0.995922, 0.078484, 0.0444832)\n"
       ]
      },
      {
       "output_type": "stream",
       "stream": "stdout",
       "text": [
        "131026-03:21:21,99 interface INFO:\n",
        "\t stdout 2013-10-26T03:21:21.096624:Reslicing using trilinear interpolation \n"
       ]
      },
      {
       "output_type": "stream",
       "stream": "stdout",
       "text": [
        "131026-03:21:21,100 interface INFO:\n",
        "\t stdout 2013-10-26T03:21:21.096624:writing to /media/mnemea/MINDt-Quantidopa/PySBR-PhantomImages/temp/Process_All/GeneratePhantom/_subject_id_S153/resample/mapflow/_resample3/dat_phantom_grad3_out.nii.gz...\n"
       ]
      },
      {
       "output_type": "stream",
       "stream": "stdout",
       "text": [
        "131026-03:21:21,141 workflow INFO:\n",
        "\t Executing node datasink.a13 in dir: /media/mnemea/MINDt-Quantidopa/PySBR-PhantomImages/temp/Process_All/_subject_id_S153/datasink\n"
       ]
      },
      {
       "output_type": "stream",
       "stream": "stdout",
       "text": [
        "131026-03:21:21,169 workflow INFO:\n",
        "\t Executing node _datasink0 in dir: /media/mnemea/MINDt-Quantidopa/PySBR-PhantomImages/temp/Process_All/_subject_id_S153/datasink/mapflow/_datasink0\n"
       ]
      },
      {
       "output_type": "stream",
       "stream": "stdout",
       "text": [
        "131026-03:21:21,295 workflow INFO:\n",
        "\t Executing node _datasink1 in dir: /media/mnemea/MINDt-Quantidopa/PySBR-PhantomImages/temp/Process_All/_subject_id_S153/datasink/mapflow/_datasink1\n"
       ]
      },
      {
       "output_type": "stream",
       "stream": "stdout",
       "text": [
        "131026-03:21:21,418 workflow INFO:\n",
        "\t Executing node _datasink2 in dir: /media/mnemea/MINDt-Quantidopa/PySBR-PhantomImages/temp/Process_All/_subject_id_S153/datasink/mapflow/_datasink2\n"
       ]
      },
      {
       "output_type": "stream",
       "stream": "stdout",
       "text": [
        "131026-03:21:21,523 workflow INFO:\n",
        "\t Executing node _datasink3 in dir: /media/mnemea/MINDt-Quantidopa/PySBR-PhantomImages/temp/Process_All/_subject_id_S153/datasink/mapflow/_datasink3\n"
       ]
      },
      {
       "output_type": "stream",
       "stream": "stdout",
       "text": [
        "131026-03:21:21,640 workflow INFO:\n",
        "\t Executing node datasink2.a13 in dir: /media/mnemea/MINDt-Quantidopa/PySBR-PhantomImages/temp/Process_All/_subject_id_S153/datasink2\n"
       ]
      },
      {
       "output_type": "stream",
       "stream": "stdout",
       "text": [
        "131026-03:21:21,684 workflow INFO:\n",
        "\t Executing node _datasink20 in dir: /media/mnemea/MINDt-Quantidopa/PySBR-PhantomImages/temp/Process_All/_subject_id_S153/datasink2/mapflow/_datasink20\n"
       ]
      },
      {
       "output_type": "stream",
       "stream": "stdout",
       "text": [
        "131026-03:21:21,797 workflow INFO:\n",
        "\t Executing node _datasink21 in dir: /media/mnemea/MINDt-Quantidopa/PySBR-PhantomImages/temp/Process_All/_subject_id_S153/datasink2/mapflow/_datasink21\n"
       ]
      },
      {
       "output_type": "stream",
       "stream": "stdout",
       "text": [
        "131026-03:21:21,871 workflow INFO:\n",
        "\t Executing node _datasink22 in dir: /media/mnemea/MINDt-Quantidopa/PySBR-PhantomImages/temp/Process_All/_subject_id_S153/datasink2/mapflow/_datasink22\n"
       ]
      },
      {
       "output_type": "stream",
       "stream": "stdout",
       "text": [
        "131026-03:21:21,956 workflow INFO:\n",
        "\t Executing node _datasink23 in dir: /media/mnemea/MINDt-Quantidopa/PySBR-PhantomImages/temp/Process_All/_subject_id_S153/datasink2/mapflow/_datasink23\n"
       ]
      },
      {
       "output_type": "stream",
       "stream": "stdout",
       "text": [
        "131026-03:21:22,31 workflow INFO:\n",
        "\t Executing node dsource.a01 in dir: /media/mnemea/MINDt-Quantidopa/PySBR-PhantomImages/temp/Process_All/_subject_id_S616/dsource\n"
       ]
      },
      {
       "output_type": "stream",
       "stream": "stdout",
       "text": [
        "131026-03:21:22,115 workflow INFO:\n",
        "\t Executing node applyreg.a01 in dir: /media/mnemea/MINDt-Quantidopa/PySBR-PhantomImages/temp/Process_All/GeneratePhantom/seg_to_orig/_subject_id_S616/applyreg\n"
       ]
      },
      {
       "output_type": "stream",
       "stream": "stdout",
       "text": [
        "131026-03:21:22,120 workflow INFO:\n",
        "\t Collecting precomputed outputs\n"
       ]
      },
      {
       "output_type": "stream",
       "stream": "stdout",
       "text": [
        "131026-03:21:22,129 workflow INFO:\n",
        "\t Executing node convert.a01 in dir: /media/mnemea/MINDt-Quantidopa/PySBR-PhantomImages/temp/Process_All/GeneratePhantom/seg_to_orig/_subject_id_S616/convert\n"
       ]
      },
      {
       "output_type": "stream",
       "stream": "stdout",
       "text": [
        "131026-03:21:22,133 workflow INFO:\n",
        "\t Collecting precomputed outputs\n"
       ]
      },
      {
       "output_type": "stream",
       "stream": "stdout",
       "text": [
        "131026-03:21:22,142 workflow INFO:\n",
        "\t Executing node Gen.a01 in dir: /media/mnemea/MINDt-Quantidopa/PySBR-PhantomImages/temp/Process_All/GeneratePhantom/_subject_id_S616/Gen\n"
       ]
      },
      {
       "output_type": "stream",
       "stream": "stdout",
       "text": [
        "131026-03:22:25,582 workflow INFO:\n",
        "\t Executing node resample.a01 in dir: /media/mnemea/MINDt-Quantidopa/PySBR-PhantomImages/temp/Process_All/GeneratePhantom/_subject_id_S616/resample\n"
       ]
      },
      {
       "output_type": "stream",
       "stream": "stdout",
       "text": [
        "131026-03:22:25,610 workflow INFO:\n",
        "\t Executing node _resample0 in dir: /media/mnemea/MINDt-Quantidopa/PySBR-PhantomImages/temp/Process_All/GeneratePhantom/_subject_id_S616/resample/mapflow/_resample0\n"
       ]
      },
      {
       "output_type": "stream",
       "stream": "stdout",
       "text": [
        "131026-03:22:25,721 workflow INFO:\n",
        "\t Running: mri_convert --out_data_type float -voxsize 3.900000 3.900000 3.900000 --input_volume /media/mnemea/MINDt-Quantidopa/PySBR-PhantomImages/temp/Process_All/GeneratePhantom/_subject_id_S616/Gen/dat_phantom_grad0.nii.gz --output_volume /media/mnemea/MINDt-Quantidopa/PySBR-PhantomImages/temp/Process_All/GeneratePhantom/_subject_id_S616/resample/mapflow/_resample0/dat_phantom_grad0_out.nii.gz\n"
       ]
      },
      {
       "output_type": "stream",
       "stream": "stdout",
       "text": [
        "131026-03:22:25,760 interface INFO:\n",
        "\t stdout 2013-10-26T03:22:25.759970:mri_convert --out_data_type float -voxsize 3.900000 3.900000 3.900000 --input_volume /media/mnemea/MINDt-Quantidopa/PySBR-PhantomImages/temp/Process_All/GeneratePhantom/_subject_id_S616/Gen/dat_phantom_grad0.nii.gz --output_volume /media/mnemea/MINDt-Quantidopa/PySBR-PhantomImages/temp/Process_All/GeneratePhantom/_subject_id_S616/resample/mapflow/_resample0/dat_phantom_grad0_out.nii.gz \n"
       ]
      },
      {
       "output_type": "stream",
       "stream": "stdout",
       "text": [
        "131026-03:22:26,437 interface INFO:\n",
        "\t stdout 2013-10-26T03:22:26.437436:$Id: mri_convert.c,v 1.179.2.7 2012/09/05 21:55:16 mreuter Exp $\n"
       ]
      },
      {
       "output_type": "stream",
       "stream": "stdout",
       "text": [
        "131026-03:22:26,438 interface INFO:\n",
        "\t stdout 2013-10-26T03:22:26.437436:reading from /media/mnemea/MINDt-Quantidopa/PySBR-PhantomImages/temp/Process_All/GeneratePhantom/_subject_id_S616/Gen/dat_phantom_grad0.nii.gz...\n"
       ]
      },
      {
       "output_type": "stream",
       "stream": "stdout",
       "text": [
        "131026-03:22:26,438 interface INFO:\n",
        "\t stdout 2013-10-26T03:22:26.437436:TR=0.00, TE=0.00, TI=0.00, flip angle=0.00\n"
       ]
      },
      {
       "output_type": "stream",
       "stream": "stdout",
       "text": [
        "131026-03:22:26,439 interface INFO:\n",
        "\t stdout 2013-10-26T03:22:26.437436:i_ras = (0.0706487, -0.994077, 0.0825814)\n"
       ]
      },
      {
       "output_type": "stream",
       "stream": "stdout",
       "text": [
        "131026-03:22:26,439 interface INFO:\n",
        "\t stdout 2013-10-26T03:22:26.437436:j_ras = (-0.0796652, 0.0769008, 0.993851)\n"
       ]
      },
      {
       "output_type": "stream",
       "stream": "stdout",
       "text": [
        "131026-03:22:26,440 interface INFO:\n",
        "\t stdout 2013-10-26T03:22:26.437436:k_ras = (0.994315, 0.0767932, 0.0737604)\n"
       ]
      },
      {
       "output_type": "stream",
       "stream": "stdout",
       "text": [
        "131026-03:22:26,440 interface INFO:\n",
        "\t stdout 2013-10-26T03:22:26.437436:Reslicing using trilinear interpolation \n"
       ]
      },
      {
       "output_type": "stream",
       "stream": "stdout",
       "text": [
        "131026-03:22:26,441 interface INFO:\n",
        "\t stdout 2013-10-26T03:22:26.437436:writing to /media/mnemea/MINDt-Quantidopa/PySBR-PhantomImages/temp/Process_All/GeneratePhantom/_subject_id_S616/resample/mapflow/_resample0/dat_phantom_grad0_out.nii.gz...\n"
       ]
      },
      {
       "output_type": "stream",
       "stream": "stdout",
       "text": [
        "131026-03:22:26,462 workflow INFO:\n",
        "\t Executing node _resample1 in dir: /media/mnemea/MINDt-Quantidopa/PySBR-PhantomImages/temp/Process_All/GeneratePhantom/_subject_id_S616/resample/mapflow/_resample1\n"
       ]
      },
      {
       "output_type": "stream",
       "stream": "stdout",
       "text": [
        "131026-03:22:26,501 workflow INFO:\n",
        "\t Running: mri_convert --out_data_type float -voxsize 3.900000 3.900000 3.900000 --input_volume /media/mnemea/MINDt-Quantidopa/PySBR-PhantomImages/temp/Process_All/GeneratePhantom/_subject_id_S616/Gen/dat_phantom_grad1.nii.gz --output_volume /media/mnemea/MINDt-Quantidopa/PySBR-PhantomImages/temp/Process_All/GeneratePhantom/_subject_id_S616/resample/mapflow/_resample1/dat_phantom_grad1_out.nii.gz\n"
       ]
      },
      {
       "output_type": "stream",
       "stream": "stdout",
       "text": [
        "131026-03:22:26,543 interface INFO:\n",
        "\t stdout 2013-10-26T03:22:26.543356:mri_convert --out_data_type float -voxsize 3.900000 3.900000 3.900000 --input_volume /media/mnemea/MINDt-Quantidopa/PySBR-PhantomImages/temp/Process_All/GeneratePhantom/_subject_id_S616/Gen/dat_phantom_grad1.nii.gz --output_volume /media/mnemea/MINDt-Quantidopa/PySBR-PhantomImages/temp/Process_All/GeneratePhantom/_subject_id_S616/resample/mapflow/_resample1/dat_phantom_grad1_out.nii.gz \n"
       ]
      },
      {
       "output_type": "stream",
       "stream": "stdout",
       "text": [
        "131026-03:22:27,217 interface INFO:\n",
        "\t stdout 2013-10-26T03:22:27.217325:$Id: mri_convert.c,v 1.179.2.7 2012/09/05 21:55:16 mreuter Exp $\n"
       ]
      },
      {
       "output_type": "stream",
       "stream": "stdout",
       "text": [
        "131026-03:22:27,218 interface INFO:\n",
        "\t stdout 2013-10-26T03:22:27.217325:reading from /media/mnemea/MINDt-Quantidopa/PySBR-PhantomImages/temp/Process_All/GeneratePhantom/_subject_id_S616/Gen/dat_phantom_grad1.nii.gz...\n"
       ]
      },
      {
       "output_type": "stream",
       "stream": "stdout",
       "text": [
        "131026-03:22:27,218 interface INFO:\n",
        "\t stdout 2013-10-26T03:22:27.217325:TR=0.00, TE=0.00, TI=0.00, flip angle=0.00\n"
       ]
      },
      {
       "output_type": "stream",
       "stream": "stdout",
       "text": [
        "131026-03:22:27,219 interface INFO:\n",
        "\t stdout 2013-10-26T03:22:27.217325:i_ras = (0.0706487, -0.994077, 0.0825814)\n"
       ]
      },
      {
       "output_type": "stream",
       "stream": "stdout",
       "text": [
        "131026-03:22:27,219 interface INFO:\n",
        "\t stdout 2013-10-26T03:22:27.217325:j_ras = (-0.0796652, 0.0769008, 0.993851)\n"
       ]
      },
      {
       "output_type": "stream",
       "stream": "stdout",
       "text": [
        "131026-03:22:27,220 interface INFO:\n",
        "\t stdout 2013-10-26T03:22:27.217325:k_ras = (0.994315, 0.0767932, 0.0737604)\n"
       ]
      },
      {
       "output_type": "stream",
       "stream": "stdout",
       "text": [
        "131026-03:22:27,220 interface INFO:\n",
        "\t stdout 2013-10-26T03:22:27.217325:Reslicing using trilinear interpolation \n"
       ]
      },
      {
       "output_type": "stream",
       "stream": "stdout",
       "text": [
        "131026-03:22:27,220 interface INFO:\n",
        "\t stdout 2013-10-26T03:22:27.217325:writing to /media/mnemea/MINDt-Quantidopa/PySBR-PhantomImages/temp/Process_All/GeneratePhantom/_subject_id_S616/resample/mapflow/_resample1/dat_phantom_grad1_out.nii.gz...\n"
       ]
      },
      {
       "output_type": "stream",
       "stream": "stdout",
       "text": [
        "131026-03:22:27,242 workflow INFO:\n",
        "\t Executing node _resample2 in dir: /media/mnemea/MINDt-Quantidopa/PySBR-PhantomImages/temp/Process_All/GeneratePhantom/_subject_id_S616/resample/mapflow/_resample2\n"
       ]
      },
      {
       "output_type": "stream",
       "stream": "stdout",
       "text": [
        "131026-03:22:27,273 workflow INFO:\n",
        "\t Running: mri_convert --out_data_type float -voxsize 3.900000 3.900000 3.900000 --input_volume /media/mnemea/MINDt-Quantidopa/PySBR-PhantomImages/temp/Process_All/GeneratePhantom/_subject_id_S616/Gen/dat_phantom_grad2.nii.gz --output_volume /media/mnemea/MINDt-Quantidopa/PySBR-PhantomImages/temp/Process_All/GeneratePhantom/_subject_id_S616/resample/mapflow/_resample2/dat_phantom_grad2_out.nii.gz\n"
       ]
      },
      {
       "output_type": "stream",
       "stream": "stdout",
       "text": [
        "131026-03:22:27,316 interface INFO:\n",
        "\t stdout 2013-10-26T03:22:27.316002:mri_convert --out_data_type float -voxsize 3.900000 3.900000 3.900000 --input_volume /media/mnemea/MINDt-Quantidopa/PySBR-PhantomImages/temp/Process_All/GeneratePhantom/_subject_id_S616/Gen/dat_phantom_grad2.nii.gz --output_volume /media/mnemea/MINDt-Quantidopa/PySBR-PhantomImages/temp/Process_All/GeneratePhantom/_subject_id_S616/resample/mapflow/_resample2/dat_phantom_grad2_out.nii.gz \n"
       ]
      },
      {
       "output_type": "stream",
       "stream": "stdout",
       "text": [
        "131026-03:22:27,994 interface INFO:\n",
        "\t stdout 2013-10-26T03:22:27.994710:$Id: mri_convert.c,v 1.179.2.7 2012/09/05 21:55:16 mreuter Exp $\n"
       ]
      },
      {
       "output_type": "stream",
       "stream": "stdout",
       "text": [
        "131026-03:22:27,995 interface INFO:\n",
        "\t stdout 2013-10-26T03:22:27.994710:reading from /media/mnemea/MINDt-Quantidopa/PySBR-PhantomImages/temp/Process_All/GeneratePhantom/_subject_id_S616/Gen/dat_phantom_grad2.nii.gz...\n"
       ]
      },
      {
       "output_type": "stream",
       "stream": "stdout",
       "text": [
        "131026-03:22:27,996 interface INFO:\n",
        "\t stdout 2013-10-26T03:22:27.994710:TR=0.00, TE=0.00, TI=0.00, flip angle=0.00\n"
       ]
      },
      {
       "output_type": "stream",
       "stream": "stdout",
       "text": [
        "131026-03:22:27,996 interface INFO:\n",
        "\t stdout 2013-10-26T03:22:27.994710:i_ras = (0.0706487, -0.994077, 0.0825814)\n"
       ]
      },
      {
       "output_type": "stream",
       "stream": "stdout",
       "text": [
        "131026-03:22:27,997 interface INFO:\n",
        "\t stdout 2013-10-26T03:22:27.994710:j_ras = (-0.0796652, 0.0769008, 0.993851)\n"
       ]
      },
      {
       "output_type": "stream",
       "stream": "stdout",
       "text": [
        "131026-03:22:27,997 interface INFO:\n",
        "\t stdout 2013-10-26T03:22:27.994710:k_ras = (0.994315, 0.0767932, 0.0737604)\n"
       ]
      },
      {
       "output_type": "stream",
       "stream": "stdout",
       "text": [
        "131026-03:22:27,998 interface INFO:\n",
        "\t stdout 2013-10-26T03:22:27.994710:Reslicing using trilinear interpolation \n"
       ]
      },
      {
       "output_type": "stream",
       "stream": "stdout",
       "text": [
        "131026-03:22:27,998 interface INFO:\n",
        "\t stdout 2013-10-26T03:22:27.994710:writing to /media/mnemea/MINDt-Quantidopa/PySBR-PhantomImages/temp/Process_All/GeneratePhantom/_subject_id_S616/resample/mapflow/_resample2/dat_phantom_grad2_out.nii.gz...\n"
       ]
      },
      {
       "output_type": "stream",
       "stream": "stdout",
       "text": [
        "131026-03:22:28,19 workflow INFO:\n",
        "\t Executing node _resample3 in dir: /media/mnemea/MINDt-Quantidopa/PySBR-PhantomImages/temp/Process_All/GeneratePhantom/_subject_id_S616/resample/mapflow/_resample3\n"
       ]
      },
      {
       "output_type": "stream",
       "stream": "stdout",
       "text": [
        "131026-03:22:28,77 workflow INFO:\n",
        "\t Running: mri_convert --out_data_type float -voxsize 3.900000 3.900000 3.900000 --input_volume /media/mnemea/MINDt-Quantidopa/PySBR-PhantomImages/temp/Process_All/GeneratePhantom/_subject_id_S616/Gen/dat_phantom_grad3.nii.gz --output_volume /media/mnemea/MINDt-Quantidopa/PySBR-PhantomImages/temp/Process_All/GeneratePhantom/_subject_id_S616/resample/mapflow/_resample3/dat_phantom_grad3_out.nii.gz\n"
       ]
      },
      {
       "output_type": "stream",
       "stream": "stdout",
       "text": [
        "131026-03:22:28,120 interface INFO:\n",
        "\t stdout 2013-10-26T03:22:28.120253:mri_convert --out_data_type float -voxsize 3.900000 3.900000 3.900000 --input_volume /media/mnemea/MINDt-Quantidopa/PySBR-PhantomImages/temp/Process_All/GeneratePhantom/_subject_id_S616/Gen/dat_phantom_grad3.nii.gz --output_volume /media/mnemea/MINDt-Quantidopa/PySBR-PhantomImages/temp/Process_All/GeneratePhantom/_subject_id_S616/resample/mapflow/_resample3/dat_phantom_grad3_out.nii.gz \n"
       ]
      },
      {
       "output_type": "stream",
       "stream": "stdout",
       "text": [
        "131026-03:22:28,799 interface INFO:\n",
        "\t stdout 2013-10-26T03:22:28.799185:$Id: mri_convert.c,v 1.179.2.7 2012/09/05 21:55:16 mreuter Exp $\n"
       ]
      },
      {
       "output_type": "stream",
       "stream": "stdout",
       "text": [
        "131026-03:22:28,799 interface INFO:\n",
        "\t stdout 2013-10-26T03:22:28.799185:reading from /media/mnemea/MINDt-Quantidopa/PySBR-PhantomImages/temp/Process_All/GeneratePhantom/_subject_id_S616/Gen/dat_phantom_grad3.nii.gz...\n"
       ]
      },
      {
       "output_type": "stream",
       "stream": "stdout",
       "text": [
        "131026-03:22:28,800 interface INFO:\n",
        "\t stdout 2013-10-26T03:22:28.799185:TR=0.00, TE=0.00, TI=0.00, flip angle=0.00\n"
       ]
      },
      {
       "output_type": "stream",
       "stream": "stdout",
       "text": [
        "131026-03:22:28,801 interface INFO:\n",
        "\t stdout 2013-10-26T03:22:28.799185:i_ras = (0.0706487, -0.994077, 0.0825814)\n"
       ]
      },
      {
       "output_type": "stream",
       "stream": "stdout",
       "text": [
        "131026-03:22:28,801 interface INFO:\n",
        "\t stdout 2013-10-26T03:22:28.799185:j_ras = (-0.0796652, 0.0769008, 0.993851)\n"
       ]
      },
      {
       "output_type": "stream",
       "stream": "stdout",
       "text": [
        "131026-03:22:28,801 interface INFO:\n",
        "\t stdout 2013-10-26T03:22:28.799185:k_ras = (0.994315, 0.0767932, 0.0737604)\n"
       ]
      },
      {
       "output_type": "stream",
       "stream": "stdout",
       "text": [
        "131026-03:22:28,802 interface INFO:\n",
        "\t stdout 2013-10-26T03:22:28.799185:Reslicing using trilinear interpolation \n"
       ]
      },
      {
       "output_type": "stream",
       "stream": "stdout",
       "text": [
        "131026-03:22:28,802 interface INFO:\n",
        "\t stdout 2013-10-26T03:22:28.799185:writing to /media/mnemea/MINDt-Quantidopa/PySBR-PhantomImages/temp/Process_All/GeneratePhantom/_subject_id_S616/resample/mapflow/_resample3/dat_phantom_grad3_out.nii.gz...\n"
       ]
      },
      {
       "output_type": "stream",
       "stream": "stdout",
       "text": [
        "131026-03:22:28,843 workflow INFO:\n",
        "\t Executing node datasink.a01 in dir: /media/mnemea/MINDt-Quantidopa/PySBR-PhantomImages/temp/Process_All/_subject_id_S616/datasink\n"
       ]
      },
      {
       "output_type": "stream",
       "stream": "stdout",
       "text": [
        "131026-03:22:28,901 workflow INFO:\n",
        "\t Executing node _datasink0 in dir: /media/mnemea/MINDt-Quantidopa/PySBR-PhantomImages/temp/Process_All/_subject_id_S616/datasink/mapflow/_datasink0\n"
       ]
      },
      {
       "output_type": "stream",
       "stream": "stdout",
       "text": [
        "131026-03:22:29,68 workflow INFO:\n",
        "\t Executing node _datasink1 in dir: /media/mnemea/MINDt-Quantidopa/PySBR-PhantomImages/temp/Process_All/_subject_id_S616/datasink/mapflow/_datasink1\n"
       ]
      },
      {
       "output_type": "stream",
       "stream": "stdout",
       "text": [
        "131026-03:22:29,189 workflow INFO:\n",
        "\t Executing node _datasink2 in dir: /media/mnemea/MINDt-Quantidopa/PySBR-PhantomImages/temp/Process_All/_subject_id_S616/datasink/mapflow/_datasink2\n"
       ]
      },
      {
       "output_type": "stream",
       "stream": "stdout",
       "text": [
        "131026-03:22:29,294 workflow INFO:\n",
        "\t Executing node _datasink3 in dir: /media/mnemea/MINDt-Quantidopa/PySBR-PhantomImages/temp/Process_All/_subject_id_S616/datasink/mapflow/_datasink3\n"
       ]
      },
      {
       "output_type": "stream",
       "stream": "stdout",
       "text": [
        "131026-03:22:29,411 workflow INFO:\n",
        "\t Executing node datasink2.a01 in dir: /media/mnemea/MINDt-Quantidopa/PySBR-PhantomImages/temp/Process_All/_subject_id_S616/datasink2\n"
       ]
      },
      {
       "output_type": "stream",
       "stream": "stdout",
       "text": [
        "131026-03:22:29,453 workflow INFO:\n",
        "\t Executing node _datasink20 in dir: /media/mnemea/MINDt-Quantidopa/PySBR-PhantomImages/temp/Process_All/_subject_id_S616/datasink2/mapflow/_datasink20\n"
       ]
      },
      {
       "output_type": "stream",
       "stream": "stdout",
       "text": [
        "131026-03:22:29,555 workflow INFO:\n",
        "\t Executing node _datasink21 in dir: /media/mnemea/MINDt-Quantidopa/PySBR-PhantomImages/temp/Process_All/_subject_id_S616/datasink2/mapflow/_datasink21\n"
       ]
      },
      {
       "output_type": "stream",
       "stream": "stdout",
       "text": [
        "131026-03:22:29,627 workflow INFO:\n",
        "\t Executing node _datasink22 in dir: /media/mnemea/MINDt-Quantidopa/PySBR-PhantomImages/temp/Process_All/_subject_id_S616/datasink2/mapflow/_datasink22\n"
       ]
      },
      {
       "output_type": "stream",
       "stream": "stdout",
       "text": [
        "131026-03:22:29,697 workflow INFO:\n",
        "\t Executing node _datasink23 in dir: /media/mnemea/MINDt-Quantidopa/PySBR-PhantomImages/temp/Process_All/_subject_id_S616/datasink2/mapflow/_datasink23\n"
       ]
      },
      {
       "output_type": "stream",
       "stream": "stdout",
       "text": [
        "131026-03:22:29,774 workflow INFO:\n",
        "\t Executing node dsource.a25 in dir: /media/mnemea/MINDt-Quantidopa/PySBR-PhantomImages/temp/Process_All/_subject_id_S268/dsource\n"
       ]
      },
      {
       "output_type": "stream",
       "stream": "stdout",
       "text": [
        "131026-03:22:29,902 workflow INFO:\n",
        "\t Executing node applyreg.a25 in dir: /media/mnemea/MINDt-Quantidopa/PySBR-PhantomImages/temp/Process_All/GeneratePhantom/seg_to_orig/_subject_id_S268/applyreg\n"
       ]
      },
      {
       "output_type": "stream",
       "stream": "stdout",
       "text": [
        "131026-03:22:29,906 workflow INFO:\n",
        "\t Collecting precomputed outputs\n"
       ]
      },
      {
       "output_type": "stream",
       "stream": "stdout",
       "text": [
        "131026-03:22:29,916 workflow INFO:\n",
        "\t Executing node convert.a25 in dir: /media/mnemea/MINDt-Quantidopa/PySBR-PhantomImages/temp/Process_All/GeneratePhantom/seg_to_orig/_subject_id_S268/convert\n"
       ]
      },
      {
       "output_type": "stream",
       "stream": "stdout",
       "text": [
        "131026-03:22:29,919 workflow INFO:\n",
        "\t Collecting precomputed outputs\n"
       ]
      },
      {
       "output_type": "stream",
       "stream": "stdout",
       "text": [
        "131026-03:22:29,928 workflow INFO:\n",
        "\t Executing node Gen.a25 in dir: /media/mnemea/MINDt-Quantidopa/PySBR-PhantomImages/temp/Process_All/GeneratePhantom/_subject_id_S268/Gen\n"
       ]
      },
      {
       "output_type": "stream",
       "stream": "stdout",
       "text": [
        "131026-03:23:33,447 workflow INFO:\n",
        "\t Executing node resample.a25 in dir: /media/mnemea/MINDt-Quantidopa/PySBR-PhantomImages/temp/Process_All/GeneratePhantom/_subject_id_S268/resample\n"
       ]
      },
      {
       "output_type": "stream",
       "stream": "stdout",
       "text": [
        "131026-03:23:33,491 workflow INFO:\n",
        "\t Executing node _resample0 in dir: /media/mnemea/MINDt-Quantidopa/PySBR-PhantomImages/temp/Process_All/GeneratePhantom/_subject_id_S268/resample/mapflow/_resample0\n"
       ]
      },
      {
       "output_type": "stream",
       "stream": "stdout",
       "text": [
        "131026-03:23:33,538 workflow INFO:\n",
        "\t Running: mri_convert --out_data_type float -voxsize 3.900000 3.900000 3.900000 --input_volume /media/mnemea/MINDt-Quantidopa/PySBR-PhantomImages/temp/Process_All/GeneratePhantom/_subject_id_S268/Gen/dat_phantom_grad0.nii.gz --output_volume /media/mnemea/MINDt-Quantidopa/PySBR-PhantomImages/temp/Process_All/GeneratePhantom/_subject_id_S268/resample/mapflow/_resample0/dat_phantom_grad0_out.nii.gz\n"
       ]
      },
      {
       "output_type": "stream",
       "stream": "stdout",
       "text": [
        "131026-03:23:33,580 interface INFO:\n",
        "\t stdout 2013-10-26T03:23:33.580637:mri_convert --out_data_type float -voxsize 3.900000 3.900000 3.900000 --input_volume /media/mnemea/MINDt-Quantidopa/PySBR-PhantomImages/temp/Process_All/GeneratePhantom/_subject_id_S268/Gen/dat_phantom_grad0.nii.gz --output_volume /media/mnemea/MINDt-Quantidopa/PySBR-PhantomImages/temp/Process_All/GeneratePhantom/_subject_id_S268/resample/mapflow/_resample0/dat_phantom_grad0_out.nii.gz \n"
       ]
      },
      {
       "output_type": "stream",
       "stream": "stdout",
       "text": [
        "131026-03:23:34,258 interface INFO:\n",
        "\t stdout 2013-10-26T03:23:34.258612:$Id: mri_convert.c,v 1.179.2.7 2012/09/05 21:55:16 mreuter Exp $\n"
       ]
      },
      {
       "output_type": "stream",
       "stream": "stdout",
       "text": [
        "131026-03:23:34,259 interface INFO:\n",
        "\t stdout 2013-10-26T03:23:34.258612:reading from /media/mnemea/MINDt-Quantidopa/PySBR-PhantomImages/temp/Process_All/GeneratePhantom/_subject_id_S268/Gen/dat_phantom_grad0.nii.gz...\n"
       ]
      },
      {
       "output_type": "stream",
       "stream": "stdout",
       "text": [
        "131026-03:23:34,260 interface INFO:\n",
        "\t stdout 2013-10-26T03:23:34.258612:TR=0.00, TE=0.00, TI=0.00, flip angle=0.00\n"
       ]
      },
      {
       "output_type": "stream",
       "stream": "stdout",
       "text": [
        "131026-03:23:34,260 interface INFO:\n",
        "\t stdout 2013-10-26T03:23:34.258612:i_ras = (0.0379917, -0.999278, -2.89328e-12)\n"
       ]
      },
      {
       "output_type": "stream",
       "stream": "stdout",
       "text": [
        "131026-03:23:34,261 interface INFO:\n",
        "\t stdout 2013-10-26T03:23:34.258612:j_ras = (0.0248193, 0.000943607, 0.999691)\n"
       ]
      },
      {
       "output_type": "stream",
       "stream": "stdout",
       "text": [
        "131026-03:23:34,261 interface INFO:\n",
        "\t stdout 2013-10-26T03:23:34.258612:k_ras = (0.99897, 0.03798, -0.0248372)\n"
       ]
      },
      {
       "output_type": "stream",
       "stream": "stdout",
       "text": [
        "131026-03:23:34,262 interface INFO:\n",
        "\t stdout 2013-10-26T03:23:34.258612:Reslicing using trilinear interpolation \n"
       ]
      },
      {
       "output_type": "stream",
       "stream": "stdout",
       "text": [
        "131026-03:23:34,262 interface INFO:\n",
        "\t stdout 2013-10-26T03:23:34.258612:writing to /media/mnemea/MINDt-Quantidopa/PySBR-PhantomImages/temp/Process_All/GeneratePhantom/_subject_id_S268/resample/mapflow/_resample0/dat_phantom_grad0_out.nii.gz...\n"
       ]
      },
      {
       "output_type": "stream",
       "stream": "stdout",
       "text": [
        "131026-03:23:34,282 workflow INFO:\n",
        "\t Executing node _resample1 in dir: /media/mnemea/MINDt-Quantidopa/PySBR-PhantomImages/temp/Process_All/GeneratePhantom/_subject_id_S268/resample/mapflow/_resample1\n"
       ]
      },
      {
       "output_type": "stream",
       "stream": "stdout",
       "text": [
        "131026-03:23:34,340 workflow INFO:\n",
        "\t Running: mri_convert --out_data_type float -voxsize 3.900000 3.900000 3.900000 --input_volume /media/mnemea/MINDt-Quantidopa/PySBR-PhantomImages/temp/Process_All/GeneratePhantom/_subject_id_S268/Gen/dat_phantom_grad1.nii.gz --output_volume /media/mnemea/MINDt-Quantidopa/PySBR-PhantomImages/temp/Process_All/GeneratePhantom/_subject_id_S268/resample/mapflow/_resample1/dat_phantom_grad1_out.nii.gz\n"
       ]
      },
      {
       "output_type": "stream",
       "stream": "stdout",
       "text": [
        "131026-03:23:34,383 interface INFO:\n",
        "\t stdout 2013-10-26T03:23:34.383001:mri_convert --out_data_type float -voxsize 3.900000 3.900000 3.900000 --input_volume /media/mnemea/MINDt-Quantidopa/PySBR-PhantomImages/temp/Process_All/GeneratePhantom/_subject_id_S268/Gen/dat_phantom_grad1.nii.gz --output_volume /media/mnemea/MINDt-Quantidopa/PySBR-PhantomImages/temp/Process_All/GeneratePhantom/_subject_id_S268/resample/mapflow/_resample1/dat_phantom_grad1_out.nii.gz \n"
       ]
      },
      {
       "output_type": "stream",
       "stream": "stdout",
       "text": [
        "131026-03:23:35,63 interface INFO:\n",
        "\t stdout 2013-10-26T03:23:35.063909:$Id: mri_convert.c,v 1.179.2.7 2012/09/05 21:55:16 mreuter Exp $\n"
       ]
      },
      {
       "output_type": "stream",
       "stream": "stdout",
       "text": [
        "131026-03:23:35,64 interface INFO:\n",
        "\t stdout 2013-10-26T03:23:35.063909:reading from /media/mnemea/MINDt-Quantidopa/PySBR-PhantomImages/temp/Process_All/GeneratePhantom/_subject_id_S268/Gen/dat_phantom_grad1.nii.gz...\n"
       ]
      },
      {
       "output_type": "stream",
       "stream": "stdout",
       "text": [
        "131026-03:23:35,65 interface INFO:\n",
        "\t stdout 2013-10-26T03:23:35.063909:TR=0.00, TE=0.00, TI=0.00, flip angle=0.00\n"
       ]
      },
      {
       "output_type": "stream",
       "stream": "stdout",
       "text": [
        "131026-03:23:35,65 interface INFO:\n",
        "\t stdout 2013-10-26T03:23:35.063909:i_ras = (0.0379917, -0.999278, -2.89328e-12)\n"
       ]
      },
      {
       "output_type": "stream",
       "stream": "stdout",
       "text": [
        "131026-03:23:35,66 interface INFO:\n",
        "\t stdout 2013-10-26T03:23:35.063909:j_ras = (0.0248193, 0.000943607, 0.999691)\n"
       ]
      },
      {
       "output_type": "stream",
       "stream": "stdout",
       "text": [
        "131026-03:23:35,66 interface INFO:\n",
        "\t stdout 2013-10-26T03:23:35.063909:k_ras = (0.99897, 0.03798, -0.0248372)\n"
       ]
      },
      {
       "output_type": "stream",
       "stream": "stdout",
       "text": [
        "131026-03:23:35,67 interface INFO:\n",
        "\t stdout 2013-10-26T03:23:35.063909:Reslicing using trilinear interpolation \n"
       ]
      },
      {
       "output_type": "stream",
       "stream": "stdout",
       "text": [
        "131026-03:23:35,67 interface INFO:\n",
        "\t stdout 2013-10-26T03:23:35.063909:writing to /media/mnemea/MINDt-Quantidopa/PySBR-PhantomImages/temp/Process_All/GeneratePhantom/_subject_id_S268/resample/mapflow/_resample1/dat_phantom_grad1_out.nii.gz...\n"
       ]
      },
      {
       "output_type": "stream",
       "stream": "stdout",
       "text": [
        "131026-03:23:35,89 workflow INFO:\n",
        "\t Executing node _resample2 in dir: /media/mnemea/MINDt-Quantidopa/PySBR-PhantomImages/temp/Process_All/GeneratePhantom/_subject_id_S268/resample/mapflow/_resample2\n"
       ]
      },
      {
       "output_type": "stream",
       "stream": "stdout",
       "text": [
        "131026-03:23:35,176 workflow INFO:\n",
        "\t Running: mri_convert --out_data_type float -voxsize 3.900000 3.900000 3.900000 --input_volume /media/mnemea/MINDt-Quantidopa/PySBR-PhantomImages/temp/Process_All/GeneratePhantom/_subject_id_S268/Gen/dat_phantom_grad2.nii.gz --output_volume /media/mnemea/MINDt-Quantidopa/PySBR-PhantomImages/temp/Process_All/GeneratePhantom/_subject_id_S268/resample/mapflow/_resample2/dat_phantom_grad2_out.nii.gz\n"
       ]
      },
      {
       "output_type": "stream",
       "stream": "stdout",
       "text": [
        "131026-03:23:35,218 interface INFO:\n",
        "\t stdout 2013-10-26T03:23:35.218590:mri_convert --out_data_type float -voxsize 3.900000 3.900000 3.900000 --input_volume /media/mnemea/MINDt-Quantidopa/PySBR-PhantomImages/temp/Process_All/GeneratePhantom/_subject_id_S268/Gen/dat_phantom_grad2.nii.gz --output_volume /media/mnemea/MINDt-Quantidopa/PySBR-PhantomImages/temp/Process_All/GeneratePhantom/_subject_id_S268/resample/mapflow/_resample2/dat_phantom_grad2_out.nii.gz \n"
       ]
      },
      {
       "output_type": "stream",
       "stream": "stdout",
       "text": [
        "131026-03:23:35,891 interface INFO:\n",
        "\t stdout 2013-10-26T03:23:35.891737:$Id: mri_convert.c,v 1.179.2.7 2012/09/05 21:55:16 mreuter Exp $\n"
       ]
      },
      {
       "output_type": "stream",
       "stream": "stdout",
       "text": [
        "131026-03:23:35,892 interface INFO:\n",
        "\t stdout 2013-10-26T03:23:35.891737:reading from /media/mnemea/MINDt-Quantidopa/PySBR-PhantomImages/temp/Process_All/GeneratePhantom/_subject_id_S268/Gen/dat_phantom_grad2.nii.gz...\n"
       ]
      },
      {
       "output_type": "stream",
       "stream": "stdout",
       "text": [
        "131026-03:23:35,892 interface INFO:\n",
        "\t stdout 2013-10-26T03:23:35.891737:TR=0.00, TE=0.00, TI=0.00, flip angle=0.00\n"
       ]
      },
      {
       "output_type": "stream",
       "stream": "stdout",
       "text": [
        "131026-03:23:35,893 interface INFO:\n",
        "\t stdout 2013-10-26T03:23:35.891737:i_ras = (0.0379917, -0.999278, -2.89328e-12)\n"
       ]
      },
      {
       "output_type": "stream",
       "stream": "stdout",
       "text": [
        "131026-03:23:35,893 interface INFO:\n",
        "\t stdout 2013-10-26T03:23:35.891737:j_ras = (0.0248193, 0.000943607, 0.999691)\n"
       ]
      },
      {
       "output_type": "stream",
       "stream": "stdout",
       "text": [
        "131026-03:23:35,894 interface INFO:\n",
        "\t stdout 2013-10-26T03:23:35.891737:k_ras = (0.99897, 0.03798, -0.0248372)\n"
       ]
      },
      {
       "output_type": "stream",
       "stream": "stdout",
       "text": [
        "131026-03:23:35,894 interface INFO:\n",
        "\t stdout 2013-10-26T03:23:35.891737:Reslicing using trilinear interpolation \n"
       ]
      },
      {
       "output_type": "stream",
       "stream": "stdout",
       "text": [
        "131026-03:23:35,894 interface INFO:\n",
        "\t stdout 2013-10-26T03:23:35.891737:writing to /media/mnemea/MINDt-Quantidopa/PySBR-PhantomImages/temp/Process_All/GeneratePhantom/_subject_id_S268/resample/mapflow/_resample2/dat_phantom_grad2_out.nii.gz...\n"
       ]
      },
      {
       "output_type": "stream",
       "stream": "stdout",
       "text": [
        "131026-03:23:35,914 workflow INFO:\n",
        "\t Executing node _resample3 in dir: /media/mnemea/MINDt-Quantidopa/PySBR-PhantomImages/temp/Process_All/GeneratePhantom/_subject_id_S268/resample/mapflow/_resample3\n"
       ]
      },
      {
       "output_type": "stream",
       "stream": "stdout",
       "text": [
        "131026-03:23:35,962 workflow INFO:\n",
        "\t Running: mri_convert --out_data_type float -voxsize 3.900000 3.900000 3.900000 --input_volume /media/mnemea/MINDt-Quantidopa/PySBR-PhantomImages/temp/Process_All/GeneratePhantom/_subject_id_S268/Gen/dat_phantom_grad3.nii.gz --output_volume /media/mnemea/MINDt-Quantidopa/PySBR-PhantomImages/temp/Process_All/GeneratePhantom/_subject_id_S268/resample/mapflow/_resample3/dat_phantom_grad3_out.nii.gz\n"
       ]
      },
      {
       "output_type": "stream",
       "stream": "stdout",
       "text": [
        "131026-03:23:36,4 interface INFO:\n",
        "\t stdout 2013-10-26T03:23:36.004734:mri_convert --out_data_type float -voxsize 3.900000 3.900000 3.900000 --input_volume /media/mnemea/MINDt-Quantidopa/PySBR-PhantomImages/temp/Process_All/GeneratePhantom/_subject_id_S268/Gen/dat_phantom_grad3.nii.gz --output_volume /media/mnemea/MINDt-Quantidopa/PySBR-PhantomImages/temp/Process_All/GeneratePhantom/_subject_id_S268/resample/mapflow/_resample3/dat_phantom_grad3_out.nii.gz \n"
       ]
      },
      {
       "output_type": "stream",
       "stream": "stdout",
       "text": [
        "131026-03:23:36,684 interface INFO:\n",
        "\t stdout 2013-10-26T03:23:36.684674:$Id: mri_convert.c,v 1.179.2.7 2012/09/05 21:55:16 mreuter Exp $\n"
       ]
      },
      {
       "output_type": "stream",
       "stream": "stdout",
       "text": [
        "131026-03:23:36,685 interface INFO:\n",
        "\t stdout 2013-10-26T03:23:36.684674:reading from /media/mnemea/MINDt-Quantidopa/PySBR-PhantomImages/temp/Process_All/GeneratePhantom/_subject_id_S268/Gen/dat_phantom_grad3.nii.gz...\n"
       ]
      },
      {
       "output_type": "stream",
       "stream": "stdout",
       "text": [
        "131026-03:23:36,686 interface INFO:\n",
        "\t stdout 2013-10-26T03:23:36.684674:TR=0.00, TE=0.00, TI=0.00, flip angle=0.00\n"
       ]
      },
      {
       "output_type": "stream",
       "stream": "stdout",
       "text": [
        "131026-03:23:36,686 interface INFO:\n",
        "\t stdout 2013-10-26T03:23:36.684674:i_ras = (0.0379917, -0.999278, -2.89328e-12)\n"
       ]
      },
      {
       "output_type": "stream",
       "stream": "stdout",
       "text": [
        "131026-03:23:36,687 interface INFO:\n",
        "\t stdout 2013-10-26T03:23:36.684674:j_ras = (0.0248193, 0.000943607, 0.999691)\n"
       ]
      },
      {
       "output_type": "stream",
       "stream": "stdout",
       "text": [
        "131026-03:23:36,687 interface INFO:\n",
        "\t stdout 2013-10-26T03:23:36.684674:k_ras = (0.99897, 0.03798, -0.0248372)\n"
       ]
      },
      {
       "output_type": "stream",
       "stream": "stdout",
       "text": [
        "131026-03:23:36,688 interface INFO:\n",
        "\t stdout 2013-10-26T03:23:36.684674:Reslicing using trilinear interpolation \n"
       ]
      },
      {
       "output_type": "stream",
       "stream": "stdout",
       "text": [
        "131026-03:23:36,688 interface INFO:\n",
        "\t stdout 2013-10-26T03:23:36.684674:writing to /media/mnemea/MINDt-Quantidopa/PySBR-PhantomImages/temp/Process_All/GeneratePhantom/_subject_id_S268/resample/mapflow/_resample3/dat_phantom_grad3_out.nii.gz...\n"
       ]
      },
      {
       "output_type": "stream",
       "stream": "stdout",
       "text": [
        "131026-03:23:36,725 workflow INFO:\n",
        "\t Executing node datasink2.a25 in dir: /media/mnemea/MINDt-Quantidopa/PySBR-PhantomImages/temp/Process_All/_subject_id_S268/datasink2\n"
       ]
      },
      {
       "output_type": "stream",
       "stream": "stdout",
       "text": [
        "131026-03:23:36,749 workflow INFO:\n",
        "\t Executing node _datasink20 in dir: /media/mnemea/MINDt-Quantidopa/PySBR-PhantomImages/temp/Process_All/_subject_id_S268/datasink2/mapflow/_datasink20\n"
       ]
      },
      {
       "output_type": "stream",
       "stream": "stdout",
       "text": [
        "131026-03:23:36,887 workflow INFO:\n",
        "\t Executing node _datasink21 in dir: /media/mnemea/MINDt-Quantidopa/PySBR-PhantomImages/temp/Process_All/_subject_id_S268/datasink2/mapflow/_datasink21\n"
       ]
      },
      {
       "output_type": "stream",
       "stream": "stdout",
       "text": [
        "131026-03:23:36,958 workflow INFO:\n",
        "\t Executing node _datasink22 in dir: /media/mnemea/MINDt-Quantidopa/PySBR-PhantomImages/temp/Process_All/_subject_id_S268/datasink2/mapflow/_datasink22\n"
       ]
      },
      {
       "output_type": "stream",
       "stream": "stdout",
       "text": [
        "131026-03:23:37,33 workflow INFO:\n",
        "\t Executing node _datasink23 in dir: /media/mnemea/MINDt-Quantidopa/PySBR-PhantomImages/temp/Process_All/_subject_id_S268/datasink2/mapflow/_datasink23\n"
       ]
      },
      {
       "output_type": "stream",
       "stream": "stdout",
       "text": [
        "131026-03:23:37,158 workflow INFO:\n",
        "\t Executing node dsource.a18 in dir: /media/mnemea/MINDt-Quantidopa/PySBR-PhantomImages/temp/Process_All/_subject_id_S528/dsource\n"
       ]
      },
      {
       "output_type": "stream",
       "stream": "stdout",
       "text": [
        "131026-03:23:37,277 workflow INFO:\n",
        "\t Executing node convert.a06 in dir: /media/mnemea/MINDt-Quantidopa/PySBR-PhantomImages/temp/Process_All/GeneratePhantom/seg_to_orig/_subject_id_S205/convert\n"
       ]
      },
      {
       "output_type": "stream",
       "stream": "stdout",
       "text": [
        "131026-03:23:37,281 workflow INFO:\n",
        "\t Collecting precomputed outputs\n"
       ]
      },
      {
       "output_type": "stream",
       "stream": "stdout",
       "text": [
        "131026-03:23:37,289 workflow INFO:\n",
        "\t Executing node Gen.a06 in dir: /media/mnemea/MINDt-Quantidopa/PySBR-PhantomImages/temp/Process_All/GeneratePhantom/_subject_id_S205/Gen\n"
       ]
      },
      {
       "output_type": "stream",
       "stream": "stdout",
       "text": [
        "131026-03:24:40,808 workflow INFO:\n",
        "\t Executing node resample.a06 in dir: /media/mnemea/MINDt-Quantidopa/PySBR-PhantomImages/temp/Process_All/GeneratePhantom/_subject_id_S205/resample\n"
       ]
      },
      {
       "output_type": "stream",
       "stream": "stdout",
       "text": [
        "131026-03:24:40,856 workflow INFO:\n",
        "\t Executing node _resample0 in dir: /media/mnemea/MINDt-Quantidopa/PySBR-PhantomImages/temp/Process_All/GeneratePhantom/_subject_id_S205/resample/mapflow/_resample0\n"
       ]
      },
      {
       "output_type": "stream",
       "stream": "stdout",
       "text": [
        "131026-03:24:40,889 workflow INFO:\n",
        "\t Running: mri_convert --out_data_type float -voxsize 3.900000 3.900000 3.900000 --input_volume /media/mnemea/MINDt-Quantidopa/PySBR-PhantomImages/temp/Process_All/GeneratePhantom/_subject_id_S205/Gen/dat_phantom_grad0.nii.gz --output_volume /media/mnemea/MINDt-Quantidopa/PySBR-PhantomImages/temp/Process_All/GeneratePhantom/_subject_id_S205/resample/mapflow/_resample0/dat_phantom_grad0_out.nii.gz\n"
       ]
      },
      {
       "output_type": "stream",
       "stream": "stdout",
       "text": [
        "131026-03:24:40,931 interface INFO:\n",
        "\t stdout 2013-10-26T03:24:40.931335:mri_convert --out_data_type float -voxsize 3.900000 3.900000 3.900000 --input_volume /media/mnemea/MINDt-Quantidopa/PySBR-PhantomImages/temp/Process_All/GeneratePhantom/_subject_id_S205/Gen/dat_phantom_grad0.nii.gz --output_volume /media/mnemea/MINDt-Quantidopa/PySBR-PhantomImages/temp/Process_All/GeneratePhantom/_subject_id_S205/resample/mapflow/_resample0/dat_phantom_grad0_out.nii.gz \n"
       ]
      },
      {
       "output_type": "stream",
       "stream": "stdout",
       "text": [
        "131026-03:24:41,605 interface INFO:\n",
        "\t stdout 2013-10-26T03:24:41.605363:$Id: mri_convert.c,v 1.179.2.7 2012/09/05 21:55:16 mreuter Exp $\n"
       ]
      },
      {
       "output_type": "stream",
       "stream": "stdout",
       "text": [
        "131026-03:24:41,606 interface INFO:\n",
        "\t stdout 2013-10-26T03:24:41.605363:reading from /media/mnemea/MINDt-Quantidopa/PySBR-PhantomImages/temp/Process_All/GeneratePhantom/_subject_id_S205/Gen/dat_phantom_grad0.nii.gz...\n"
       ]
      },
      {
       "output_type": "stream",
       "stream": "stdout",
       "text": [
        "131026-03:24:41,606 interface INFO:\n",
        "\t stdout 2013-10-26T03:24:41.605363:TR=0.00, TE=0.00, TI=0.00, flip angle=0.00\n"
       ]
      },
      {
       "output_type": "stream",
       "stream": "stdout",
       "text": [
        "131026-03:24:41,607 interface INFO:\n",
        "\t stdout 2013-10-26T03:24:41.605363:i_ras = (0.0097568, -0.991178, 0.132175)\n"
       ]
      },
      {
       "output_type": "stream",
       "stream": "stdout",
       "text": [
        "131026-03:24:41,607 interface INFO:\n",
        "\t stdout 2013-10-26T03:24:41.605363:j_ras = (-0.00934531, 0.132085, 0.991194)\n"
       ]
      },
      {
       "output_type": "stream",
       "stream": "stdout",
       "text": [
        "131026-03:24:41,608 interface INFO:\n",
        "\t stdout 2013-10-26T03:24:41.605363:k_ras = (0.999909, 0.0109061, 0.00797414)\n"
       ]
      },
      {
       "output_type": "stream",
       "stream": "stdout",
       "text": [
        "131026-03:24:41,609 interface INFO:\n",
        "\t stdout 2013-10-26T03:24:41.605363:Reslicing using trilinear interpolation \n"
       ]
      },
      {
       "output_type": "stream",
       "stream": "stdout",
       "text": [
        "131026-03:24:41,609 interface INFO:\n",
        "\t stdout 2013-10-26T03:24:41.605363:writing to /media/mnemea/MINDt-Quantidopa/PySBR-PhantomImages/temp/Process_All/GeneratePhantom/_subject_id_S205/resample/mapflow/_resample0/dat_phantom_grad0_out.nii.gz...\n"
       ]
      },
      {
       "output_type": "stream",
       "stream": "stdout",
       "text": [
        "131026-03:24:41,631 workflow INFO:\n",
        "\t Executing node _resample1 in dir: /media/mnemea/MINDt-Quantidopa/PySBR-PhantomImages/temp/Process_All/GeneratePhantom/_subject_id_S205/resample/mapflow/_resample1\n"
       ]
      },
      {
       "output_type": "stream",
       "stream": "stdout",
       "text": [
        "131026-03:24:41,660 workflow INFO:\n",
        "\t Running: mri_convert --out_data_type float -voxsize 3.900000 3.900000 3.900000 --input_volume /media/mnemea/MINDt-Quantidopa/PySBR-PhantomImages/temp/Process_All/GeneratePhantom/_subject_id_S205/Gen/dat_phantom_grad1.nii.gz --output_volume /media/mnemea/MINDt-Quantidopa/PySBR-PhantomImages/temp/Process_All/GeneratePhantom/_subject_id_S205/resample/mapflow/_resample1/dat_phantom_grad1_out.nii.gz\n"
       ]
      },
      {
       "output_type": "stream",
       "stream": "stdout",
       "text": [
        "131026-03:24:41,702 interface INFO:\n",
        "\t stdout 2013-10-26T03:24:41.702778:mri_convert --out_data_type float -voxsize 3.900000 3.900000 3.900000 --input_volume /media/mnemea/MINDt-Quantidopa/PySBR-PhantomImages/temp/Process_All/GeneratePhantom/_subject_id_S205/Gen/dat_phantom_grad1.nii.gz --output_volume /media/mnemea/MINDt-Quantidopa/PySBR-PhantomImages/temp/Process_All/GeneratePhantom/_subject_id_S205/resample/mapflow/_resample1/dat_phantom_grad1_out.nii.gz \n"
       ]
      },
      {
       "output_type": "stream",
       "stream": "stdout",
       "text": [
        "131026-03:24:42,382 interface INFO:\n",
        "\t stdout 2013-10-26T03:24:42.382382:$Id: mri_convert.c,v 1.179.2.7 2012/09/05 21:55:16 mreuter Exp $\n"
       ]
      },
      {
       "output_type": "stream",
       "stream": "stdout",
       "text": [
        "131026-03:24:42,383 interface INFO:\n",
        "\t stdout 2013-10-26T03:24:42.382382:reading from /media/mnemea/MINDt-Quantidopa/PySBR-PhantomImages/temp/Process_All/GeneratePhantom/_subject_id_S205/Gen/dat_phantom_grad1.nii.gz...\n"
       ]
      },
      {
       "output_type": "stream",
       "stream": "stdout",
       "text": [
        "131026-03:24:42,383 interface INFO:\n",
        "\t stdout 2013-10-26T03:24:42.382382:TR=0.00, TE=0.00, TI=0.00, flip angle=0.00\n"
       ]
      },
      {
       "output_type": "stream",
       "stream": "stdout",
       "text": [
        "131026-03:24:42,384 interface INFO:\n",
        "\t stdout 2013-10-26T03:24:42.382382:i_ras = (0.0097568, -0.991178, 0.132175)\n"
       ]
      },
      {
       "output_type": "stream",
       "stream": "stdout",
       "text": [
        "131026-03:24:42,384 interface INFO:\n",
        "\t stdout 2013-10-26T03:24:42.382382:j_ras = (-0.00934531, 0.132085, 0.991194)\n"
       ]
      },
      {
       "output_type": "stream",
       "stream": "stdout",
       "text": [
        "131026-03:24:42,385 interface INFO:\n",
        "\t stdout 2013-10-26T03:24:42.382382:k_ras = (0.999909, 0.0109061, 0.00797414)\n"
       ]
      },
      {
       "output_type": "stream",
       "stream": "stdout",
       "text": [
        "131026-03:24:42,385 interface INFO:\n",
        "\t stdout 2013-10-26T03:24:42.382382:Reslicing using trilinear interpolation \n"
       ]
      },
      {
       "output_type": "stream",
       "stream": "stdout",
       "text": [
        "131026-03:24:42,386 interface INFO:\n",
        "\t stdout 2013-10-26T03:24:42.382382:writing to /media/mnemea/MINDt-Quantidopa/PySBR-PhantomImages/temp/Process_All/GeneratePhantom/_subject_id_S205/resample/mapflow/_resample1/dat_phantom_grad1_out.nii.gz...\n"
       ]
      },
      {
       "output_type": "stream",
       "stream": "stdout",
       "text": [
        "131026-03:24:42,406 workflow INFO:\n",
        "\t Executing node _resample2 in dir: /media/mnemea/MINDt-Quantidopa/PySBR-PhantomImages/temp/Process_All/GeneratePhantom/_subject_id_S205/resample/mapflow/_resample2\n"
       ]
      },
      {
       "output_type": "stream",
       "stream": "stdout",
       "text": [
        "131026-03:24:42,458 workflow INFO:\n",
        "\t Running: mri_convert --out_data_type float -voxsize 3.900000 3.900000 3.900000 --input_volume /media/mnemea/MINDt-Quantidopa/PySBR-PhantomImages/temp/Process_All/GeneratePhantom/_subject_id_S205/Gen/dat_phantom_grad2.nii.gz --output_volume /media/mnemea/MINDt-Quantidopa/PySBR-PhantomImages/temp/Process_All/GeneratePhantom/_subject_id_S205/resample/mapflow/_resample2/dat_phantom_grad2_out.nii.gz\n"
       ]
      },
      {
       "output_type": "stream",
       "stream": "stdout",
       "text": [
        "131026-03:24:42,498 interface INFO:\n",
        "\t stdout 2013-10-26T03:24:42.498574:mri_convert --out_data_type float -voxsize 3.900000 3.900000 3.900000 --input_volume /media/mnemea/MINDt-Quantidopa/PySBR-PhantomImages/temp/Process_All/GeneratePhantom/_subject_id_S205/Gen/dat_phantom_grad2.nii.gz --output_volume /media/mnemea/MINDt-Quantidopa/PySBR-PhantomImages/temp/Process_All/GeneratePhantom/_subject_id_S205/resample/mapflow/_resample2/dat_phantom_grad2_out.nii.gz \n"
       ]
      },
      {
       "output_type": "stream",
       "stream": "stdout",
       "text": [
        "131026-03:24:43,177 interface INFO:\n",
        "\t stdout 2013-10-26T03:24:43.176947:$Id: mri_convert.c,v 1.179.2.7 2012/09/05 21:55:16 mreuter Exp $\n"
       ]
      },
      {
       "output_type": "stream",
       "stream": "stdout",
       "text": [
        "131026-03:24:43,177 interface INFO:\n",
        "\t stdout 2013-10-26T03:24:43.176947:reading from /media/mnemea/MINDt-Quantidopa/PySBR-PhantomImages/temp/Process_All/GeneratePhantom/_subject_id_S205/Gen/dat_phantom_grad2.nii.gz...\n"
       ]
      },
      {
       "output_type": "stream",
       "stream": "stdout",
       "text": [
        "131026-03:24:43,178 interface INFO:\n",
        "\t stdout 2013-10-26T03:24:43.176947:TR=0.00, TE=0.00, TI=0.00, flip angle=0.00\n"
       ]
      },
      {
       "output_type": "stream",
       "stream": "stdout",
       "text": [
        "131026-03:24:43,178 interface INFO:\n",
        "\t stdout 2013-10-26T03:24:43.176947:i_ras = (0.0097568, -0.991178, 0.132175)\n"
       ]
      },
      {
       "output_type": "stream",
       "stream": "stdout",
       "text": [
        "131026-03:24:43,179 interface INFO:\n",
        "\t stdout 2013-10-26T03:24:43.176947:j_ras = (-0.00934531, 0.132085, 0.991194)\n"
       ]
      },
      {
       "output_type": "stream",
       "stream": "stdout",
       "text": [
        "131026-03:24:43,179 interface INFO:\n",
        "\t stdout 2013-10-26T03:24:43.176947:k_ras = (0.999909, 0.0109061, 0.00797414)\n"
       ]
      },
      {
       "output_type": "stream",
       "stream": "stdout",
       "text": [
        "131026-03:24:43,180 interface INFO:\n",
        "\t stdout 2013-10-26T03:24:43.176947:Reslicing using trilinear interpolation \n"
       ]
      },
      {
       "output_type": "stream",
       "stream": "stdout",
       "text": [
        "131026-03:24:43,180 interface INFO:\n",
        "\t stdout 2013-10-26T03:24:43.176947:writing to /media/mnemea/MINDt-Quantidopa/PySBR-PhantomImages/temp/Process_All/GeneratePhantom/_subject_id_S205/resample/mapflow/_resample2/dat_phantom_grad2_out.nii.gz...\n"
       ]
      },
      {
       "output_type": "stream",
       "stream": "stdout",
       "text": [
        "131026-03:24:43,202 workflow INFO:\n",
        "\t Executing node _resample3 in dir: /media/mnemea/MINDt-Quantidopa/PySBR-PhantomImages/temp/Process_All/GeneratePhantom/_subject_id_S205/resample/mapflow/_resample3\n"
       ]
      },
      {
       "output_type": "stream",
       "stream": "stdout",
       "text": [
        "131026-03:24:43,278 workflow INFO:\n",
        "\t Running: mri_convert --out_data_type float -voxsize 3.900000 3.900000 3.900000 --input_volume /media/mnemea/MINDt-Quantidopa/PySBR-PhantomImages/temp/Process_All/GeneratePhantom/_subject_id_S205/Gen/dat_phantom_grad3.nii.gz --output_volume /media/mnemea/MINDt-Quantidopa/PySBR-PhantomImages/temp/Process_All/GeneratePhantom/_subject_id_S205/resample/mapflow/_resample3/dat_phantom_grad3_out.nii.gz\n"
       ]
      },
      {
       "output_type": "stream",
       "stream": "stdout",
       "text": [
        "131026-03:24:43,321 interface INFO:\n",
        "\t stdout 2013-10-26T03:24:43.321010:mri_convert --out_data_type float -voxsize 3.900000 3.900000 3.900000 --input_volume /media/mnemea/MINDt-Quantidopa/PySBR-PhantomImages/temp/Process_All/GeneratePhantom/_subject_id_S205/Gen/dat_phantom_grad3.nii.gz --output_volume /media/mnemea/MINDt-Quantidopa/PySBR-PhantomImages/temp/Process_All/GeneratePhantom/_subject_id_S205/resample/mapflow/_resample3/dat_phantom_grad3_out.nii.gz \n"
       ]
      },
      {
       "output_type": "stream",
       "stream": "stdout",
       "text": [
        "131026-03:24:44,0 interface INFO:\n",
        "\t stdout 2013-10-26T03:24:44.000606:$Id: mri_convert.c,v 1.179.2.7 2012/09/05 21:55:16 mreuter Exp $\n"
       ]
      },
      {
       "output_type": "stream",
       "stream": "stdout",
       "text": [
        "131026-03:24:44,1 interface INFO:\n",
        "\t stdout 2013-10-26T03:24:44.000606:reading from /media/mnemea/MINDt-Quantidopa/PySBR-PhantomImages/temp/Process_All/GeneratePhantom/_subject_id_S205/Gen/dat_phantom_grad3.nii.gz...\n"
       ]
      },
      {
       "output_type": "stream",
       "stream": "stdout",
       "text": [
        "131026-03:24:44,1 interface INFO:\n",
        "\t stdout 2013-10-26T03:24:44.000606:TR=0.00, TE=0.00, TI=0.00, flip angle=0.00\n"
       ]
      },
      {
       "output_type": "stream",
       "stream": "stdout",
       "text": [
        "131026-03:24:44,2 interface INFO:\n",
        "\t stdout 2013-10-26T03:24:44.000606:i_ras = (0.0097568, -0.991178, 0.132175)\n"
       ]
      },
      {
       "output_type": "stream",
       "stream": "stdout",
       "text": [
        "131026-03:24:44,2 interface INFO:\n",
        "\t stdout 2013-10-26T03:24:44.000606:j_ras = (-0.00934531, 0.132085, 0.991194)\n"
       ]
      },
      {
       "output_type": "stream",
       "stream": "stdout",
       "text": [
        "131026-03:24:44,3 interface INFO:\n",
        "\t stdout 2013-10-26T03:24:44.000606:k_ras = (0.999909, 0.0109061, 0.00797414)\n"
       ]
      },
      {
       "output_type": "stream",
       "stream": "stdout",
       "text": [
        "131026-03:24:44,3 interface INFO:\n",
        "\t stdout 2013-10-26T03:24:44.000606:Reslicing using trilinear interpolation \n"
       ]
      },
      {
       "output_type": "stream",
       "stream": "stdout",
       "text": [
        "131026-03:24:44,4 interface INFO:\n",
        "\t stdout 2013-10-26T03:24:44.000606:writing to /media/mnemea/MINDt-Quantidopa/PySBR-PhantomImages/temp/Process_All/GeneratePhantom/_subject_id_S205/resample/mapflow/_resample3/dat_phantom_grad3_out.nii.gz...\n"
       ]
      },
      {
       "output_type": "stream",
       "stream": "stdout",
       "text": [
        "131026-03:24:44,44 workflow INFO:\n",
        "\t Executing node datasink.a06 in dir: /media/mnemea/MINDt-Quantidopa/PySBR-PhantomImages/temp/Process_All/_subject_id_S205/datasink\n"
       ]
      },
      {
       "output_type": "stream",
       "stream": "stdout",
       "text": [
        "131026-03:24:44,72 workflow INFO:\n",
        "\t Executing node _datasink0 in dir: /media/mnemea/MINDt-Quantidopa/PySBR-PhantomImages/temp/Process_All/_subject_id_S205/datasink/mapflow/_datasink0\n"
       ]
      },
      {
       "output_type": "stream",
       "stream": "stdout",
       "text": [
        "131026-03:24:44,235 workflow INFO:\n",
        "\t Executing node _datasink1 in dir: /media/mnemea/MINDt-Quantidopa/PySBR-PhantomImages/temp/Process_All/_subject_id_S205/datasink/mapflow/_datasink1\n"
       ]
      },
      {
       "output_type": "stream",
       "stream": "stdout",
       "text": [
        "131026-03:24:44,338 workflow INFO:\n",
        "\t Executing node _datasink2 in dir: /media/mnemea/MINDt-Quantidopa/PySBR-PhantomImages/temp/Process_All/_subject_id_S205/datasink/mapflow/_datasink2\n"
       ]
      },
      {
       "output_type": "stream",
       "stream": "stdout",
       "text": [
        "131026-03:24:44,443 workflow INFO:\n",
        "\t Executing node _datasink3 in dir: /media/mnemea/MINDt-Quantidopa/PySBR-PhantomImages/temp/Process_All/_subject_id_S205/datasink/mapflow/_datasink3\n"
       ]
      },
      {
       "output_type": "stream",
       "stream": "stdout",
       "text": [
        "131026-03:24:44,560 workflow INFO:\n",
        "\t Executing node datasink2.a06 in dir: /media/mnemea/MINDt-Quantidopa/PySBR-PhantomImages/temp/Process_All/_subject_id_S205/datasink2\n"
       ]
      },
      {
       "output_type": "stream",
       "stream": "stdout",
       "text": [
        "131026-03:24:44,605 workflow INFO:\n",
        "\t Executing node _datasink20 in dir: /media/mnemea/MINDt-Quantidopa/PySBR-PhantomImages/temp/Process_All/_subject_id_S205/datasink2/mapflow/_datasink20\n"
       ]
      },
      {
       "output_type": "stream",
       "stream": "stdout",
       "text": [
        "131026-03:24:44,717 workflow INFO:\n",
        "\t Executing node _datasink21 in dir: /media/mnemea/MINDt-Quantidopa/PySBR-PhantomImages/temp/Process_All/_subject_id_S205/datasink2/mapflow/_datasink21\n"
       ]
      },
      {
       "output_type": "stream",
       "stream": "stdout",
       "text": [
        "131026-03:24:44,796 workflow INFO:\n",
        "\t Executing node _datasink22 in dir: /media/mnemea/MINDt-Quantidopa/PySBR-PhantomImages/temp/Process_All/_subject_id_S205/datasink2/mapflow/_datasink22\n"
       ]
      },
      {
       "output_type": "stream",
       "stream": "stdout",
       "text": [
        "131026-03:24:44,869 workflow INFO:\n",
        "\t Executing node _datasink23 in dir: /media/mnemea/MINDt-Quantidopa/PySBR-PhantomImages/temp/Process_All/_subject_id_S205/datasink2/mapflow/_datasink23\n"
       ]
      },
      {
       "output_type": "stream",
       "stream": "stdout",
       "text": [
        "131026-03:24:44,994 workflow INFO:\n",
        "\t Executing node datasink2.a26 in dir: /media/mnemea/MINDt-Quantidopa/PySBR-PhantomImages/temp/Process_All/_subject_id_S428/datasink2\n"
       ]
      },
      {
       "output_type": "stream",
       "stream": "stdout",
       "text": [
        "131026-03:24:45,20 workflow INFO:\n",
        "\t Executing node _datasink20 in dir: /media/mnemea/MINDt-Quantidopa/PySBR-PhantomImages/temp/Process_All/_subject_id_S428/datasink2/mapflow/_datasink20\n"
       ]
      },
      {
       "output_type": "stream",
       "stream": "stdout",
       "text": [
        "131026-03:24:45,122 workflow INFO:\n",
        "\t Executing node _datasink21 in dir: /media/mnemea/MINDt-Quantidopa/PySBR-PhantomImages/temp/Process_All/_subject_id_S428/datasink2/mapflow/_datasink21\n"
       ]
      },
      {
       "output_type": "stream",
       "stream": "stdout",
       "text": [
        "131026-03:24:45,194 workflow INFO:\n",
        "\t Executing node _datasink22 in dir: /media/mnemea/MINDt-Quantidopa/PySBR-PhantomImages/temp/Process_All/_subject_id_S428/datasink2/mapflow/_datasink22\n"
       ]
      },
      {
       "output_type": "stream",
       "stream": "stdout",
       "text": [
        "131026-03:24:45,270 workflow INFO:\n",
        "\t Executing node _datasink23 in dir: /media/mnemea/MINDt-Quantidopa/PySBR-PhantomImages/temp/Process_All/_subject_id_S428/datasink2/mapflow/_datasink23\n"
       ]
      },
      {
       "output_type": "stream",
       "stream": "stdout",
       "text": [
        "131026-03:24:45,394 workflow INFO:\n",
        "\t Executing node dsource.a16 in dir: /media/mnemea/MINDt-Quantidopa/PySBR-PhantomImages/temp/Process_All/_subject_id_S618/dsource\n"
       ]
      },
      {
       "output_type": "stream",
       "stream": "stdout",
       "text": [
        "131026-03:24:45,500 workflow INFO:\n",
        "\t Executing node convert.a28 in dir: /media/mnemea/MINDt-Quantidopa/PySBR-PhantomImages/temp/Process_All/GeneratePhantom/seg_to_orig/_subject_id_S238/convert\n"
       ]
      },
      {
       "output_type": "stream",
       "stream": "stdout",
       "text": [
        "131026-03:24:45,504 workflow INFO:\n",
        "\t Collecting precomputed outputs\n"
       ]
      },
      {
       "output_type": "stream",
       "stream": "stdout",
       "text": [
        "131026-03:24:45,512 workflow INFO:\n",
        "\t Executing node Gen.a28 in dir: /media/mnemea/MINDt-Quantidopa/PySBR-PhantomImages/temp/Process_All/GeneratePhantom/_subject_id_S238/Gen\n"
       ]
      },
      {
       "output_type": "stream",
       "stream": "stdout",
       "text": [
        "131026-03:25:46,969 workflow INFO:\n",
        "\t Executing node resample.a28 in dir: /media/mnemea/MINDt-Quantidopa/PySBR-PhantomImages/temp/Process_All/GeneratePhantom/_subject_id_S238/resample\n"
       ]
      },
      {
       "output_type": "stream",
       "stream": "stdout",
       "text": [
        "131026-03:25:46,997 workflow INFO:\n",
        "\t Executing node _resample0 in dir: /media/mnemea/MINDt-Quantidopa/PySBR-PhantomImages/temp/Process_All/GeneratePhantom/_subject_id_S238/resample/mapflow/_resample0\n"
       ]
      },
      {
       "output_type": "stream",
       "stream": "stdout",
       "text": [
        "131026-03:25:47,31 workflow INFO:\n",
        "\t Running: mri_convert --out_data_type float -voxsize 3.900000 3.900000 3.900000 --input_volume /media/mnemea/MINDt-Quantidopa/PySBR-PhantomImages/temp/Process_All/GeneratePhantom/_subject_id_S238/Gen/dat_phantom_grad0.nii.gz --output_volume /media/mnemea/MINDt-Quantidopa/PySBR-PhantomImages/temp/Process_All/GeneratePhantom/_subject_id_S238/resample/mapflow/_resample0/dat_phantom_grad0_out.nii.gz\n"
       ]
      },
      {
       "output_type": "stream",
       "stream": "stdout",
       "text": [
        "131026-03:25:47,83 interface INFO:\n",
        "\t stdout 2013-10-26T03:25:47.083234:mri_convert --out_data_type float -voxsize 3.900000 3.900000 3.900000 --input_volume /media/mnemea/MINDt-Quantidopa/PySBR-PhantomImages/temp/Process_All/GeneratePhantom/_subject_id_S238/Gen/dat_phantom_grad0.nii.gz --output_volume /media/mnemea/MINDt-Quantidopa/PySBR-PhantomImages/temp/Process_All/GeneratePhantom/_subject_id_S238/resample/mapflow/_resample0/dat_phantom_grad0_out.nii.gz \n"
       ]
      },
      {
       "output_type": "stream",
       "stream": "stdout",
       "text": [
        "131026-03:25:47,741 interface INFO:\n",
        "\t stdout 2013-10-26T03:25:47.741479:$Id: mri_convert.c,v 1.179.2.7 2012/09/05 21:55:16 mreuter Exp $\n"
       ]
      },
      {
       "output_type": "stream",
       "stream": "stdout",
       "text": [
        "131026-03:25:47,742 interface INFO:\n",
        "\t stdout 2013-10-26T03:25:47.741479:reading from /media/mnemea/MINDt-Quantidopa/PySBR-PhantomImages/temp/Process_All/GeneratePhantom/_subject_id_S238/Gen/dat_phantom_grad0.nii.gz...\n"
       ]
      },
      {
       "output_type": "stream",
       "stream": "stdout",
       "text": [
        "131026-03:25:47,742 interface INFO:\n",
        "\t stdout 2013-10-26T03:25:47.741479:TR=0.00, TE=0.00, TI=0.00, flip angle=0.00\n"
       ]
      },
      {
       "output_type": "stream",
       "stream": "stdout",
       "text": [
        "131026-03:25:47,743 interface INFO:\n",
        "\t stdout 2013-10-26T03:25:47.741479:i_ras = (0.0489207, -0.998801, 0.00192262)\n"
       ]
      },
      {
       "output_type": "stream",
       "stream": "stdout",
       "text": [
        "131026-03:25:47,743 interface INFO:\n",
        "\t stdout 2013-10-26T03:25:47.741479:j_ras = (-0.0234687, 0.000762939, 0.999724)\n"
       ]
      },
      {
       "output_type": "stream",
       "stream": "stdout",
       "text": [
        "131026-03:25:47,743 interface INFO:\n",
        "\t stdout 2013-10-26T03:25:47.741479:k_ras = (0.998527, 0.0489523, 0.0234032)\n"
       ]
      },
      {
       "output_type": "stream",
       "stream": "stdout",
       "text": [
        "131026-03:25:47,744 interface INFO:\n",
        "\t stdout 2013-10-26T03:25:47.741479:Reslicing using trilinear interpolation \n"
       ]
      },
      {
       "output_type": "stream",
       "stream": "stdout",
       "text": [
        "131026-03:25:47,744 interface INFO:\n",
        "\t stdout 2013-10-26T03:25:47.741479:writing to /media/mnemea/MINDt-Quantidopa/PySBR-PhantomImages/temp/Process_All/GeneratePhantom/_subject_id_S238/resample/mapflow/_resample0/dat_phantom_grad0_out.nii.gz...\n"
       ]
      },
      {
       "output_type": "stream",
       "stream": "stdout",
       "text": [
        "131026-03:25:47,766 workflow INFO:\n",
        "\t Executing node _resample1 in dir: /media/mnemea/MINDt-Quantidopa/PySBR-PhantomImages/temp/Process_All/GeneratePhantom/_subject_id_S238/resample/mapflow/_resample1\n"
       ]
      },
      {
       "output_type": "stream",
       "stream": "stdout",
       "text": [
        "131026-03:25:47,794 workflow INFO:\n",
        "\t Running: mri_convert --out_data_type float -voxsize 3.900000 3.900000 3.900000 --input_volume /media/mnemea/MINDt-Quantidopa/PySBR-PhantomImages/temp/Process_All/GeneratePhantom/_subject_id_S238/Gen/dat_phantom_grad1.nii.gz --output_volume /media/mnemea/MINDt-Quantidopa/PySBR-PhantomImages/temp/Process_All/GeneratePhantom/_subject_id_S238/resample/mapflow/_resample1/dat_phantom_grad1_out.nii.gz\n"
       ]
      },
      {
       "output_type": "stream",
       "stream": "stdout",
       "text": [
        "131026-03:25:47,847 interface INFO:\n",
        "\t stdout 2013-10-26T03:25:47.846897:mri_convert --out_data_type float -voxsize 3.900000 3.900000 3.900000 --input_volume /media/mnemea/MINDt-Quantidopa/PySBR-PhantomImages/temp/Process_All/GeneratePhantom/_subject_id_S238/Gen/dat_phantom_grad1.nii.gz --output_volume /media/mnemea/MINDt-Quantidopa/PySBR-PhantomImages/temp/Process_All/GeneratePhantom/_subject_id_S238/resample/mapflow/_resample1/dat_phantom_grad1_out.nii.gz \n"
       ]
      },
      {
       "output_type": "stream",
       "stream": "stdout",
       "text": [
        "131026-03:25:48,509 interface INFO:\n",
        "\t stdout 2013-10-26T03:25:48.509886:$Id: mri_convert.c,v 1.179.2.7 2012/09/05 21:55:16 mreuter Exp $\n"
       ]
      },
      {
       "output_type": "stream",
       "stream": "stdout",
       "text": [
        "131026-03:25:48,510 interface INFO:\n",
        "\t stdout 2013-10-26T03:25:48.509886:reading from /media/mnemea/MINDt-Quantidopa/PySBR-PhantomImages/temp/Process_All/GeneratePhantom/_subject_id_S238/Gen/dat_phantom_grad1.nii.gz...\n"
       ]
      },
      {
       "output_type": "stream",
       "stream": "stdout",
       "text": [
        "131026-03:25:48,510 interface INFO:\n",
        "\t stdout 2013-10-26T03:25:48.509886:TR=0.00, TE=0.00, TI=0.00, flip angle=0.00\n"
       ]
      },
      {
       "output_type": "stream",
       "stream": "stdout",
       "text": [
        "131026-03:25:48,510 interface INFO:\n",
        "\t stdout 2013-10-26T03:25:48.509886:i_ras = (0.0489207, -0.998801, 0.00192262)\n"
       ]
      },
      {
       "output_type": "stream",
       "stream": "stdout",
       "text": [
        "131026-03:25:48,511 interface INFO:\n",
        "\t stdout 2013-10-26T03:25:48.509886:j_ras = (-0.0234687, 0.000762939, 0.999724)\n"
       ]
      },
      {
       "output_type": "stream",
       "stream": "stdout",
       "text": [
        "131026-03:25:48,511 interface INFO:\n",
        "\t stdout 2013-10-26T03:25:48.509886:k_ras = (0.998527, 0.0489523, 0.0234032)\n"
       ]
      },
      {
       "output_type": "stream",
       "stream": "stdout",
       "text": [
        "131026-03:25:48,511 interface INFO:\n",
        "\t stdout 2013-10-26T03:25:48.509886:Reslicing using trilinear interpolation \n"
       ]
      },
      {
       "output_type": "stream",
       "stream": "stdout",
       "text": [
        "131026-03:25:48,511 interface INFO:\n",
        "\t stdout 2013-10-26T03:25:48.509886:writing to /media/mnemea/MINDt-Quantidopa/PySBR-PhantomImages/temp/Process_All/GeneratePhantom/_subject_id_S238/resample/mapflow/_resample1/dat_phantom_grad1_out.nii.gz...\n"
       ]
      },
      {
       "output_type": "stream",
       "stream": "stdout",
       "text": [
        "131026-03:25:48,528 workflow INFO:\n",
        "\t Executing node _resample2 in dir: /media/mnemea/MINDt-Quantidopa/PySBR-PhantomImages/temp/Process_All/GeneratePhantom/_subject_id_S238/resample/mapflow/_resample2\n"
       ]
      },
      {
       "output_type": "stream",
       "stream": "stdout",
       "text": [
        "131026-03:25:48,551 workflow INFO:\n",
        "\t Running: mri_convert --out_data_type float -voxsize 3.900000 3.900000 3.900000 --input_volume /media/mnemea/MINDt-Quantidopa/PySBR-PhantomImages/temp/Process_All/GeneratePhantom/_subject_id_S238/Gen/dat_phantom_grad2.nii.gz --output_volume /media/mnemea/MINDt-Quantidopa/PySBR-PhantomImages/temp/Process_All/GeneratePhantom/_subject_id_S238/resample/mapflow/_resample2/dat_phantom_grad2_out.nii.gz\n"
       ]
      },
      {
       "output_type": "stream",
       "stream": "stdout",
       "text": [
        "131026-03:25:48,580 interface INFO:\n",
        "\t stdout 2013-10-26T03:25:48.580227:mri_convert --out_data_type float -voxsize 3.900000 3.900000 3.900000 --input_volume /media/mnemea/MINDt-Quantidopa/PySBR-PhantomImages/temp/Process_All/GeneratePhantom/_subject_id_S238/Gen/dat_phantom_grad2.nii.gz --output_volume /media/mnemea/MINDt-Quantidopa/PySBR-PhantomImages/temp/Process_All/GeneratePhantom/_subject_id_S238/resample/mapflow/_resample2/dat_phantom_grad2_out.nii.gz \n"
       ]
      },
      {
       "output_type": "stream",
       "stream": "stdout",
       "text": [
        "131026-03:25:49,246 interface INFO:\n",
        "\t stdout 2013-10-26T03:25:49.246892:$Id: mri_convert.c,v 1.179.2.7 2012/09/05 21:55:16 mreuter Exp $\n"
       ]
      },
      {
       "output_type": "stream",
       "stream": "stdout",
       "text": [
        "131026-03:25:49,247 interface INFO:\n",
        "\t stdout 2013-10-26T03:25:49.246892:reading from /media/mnemea/MINDt-Quantidopa/PySBR-PhantomImages/temp/Process_All/GeneratePhantom/_subject_id_S238/Gen/dat_phantom_grad2.nii.gz...\n"
       ]
      },
      {
       "output_type": "stream",
       "stream": "stdout",
       "text": [
        "131026-03:25:49,247 interface INFO:\n",
        "\t stdout 2013-10-26T03:25:49.246892:TR=0.00, TE=0.00, TI=0.00, flip angle=0.00\n"
       ]
      },
      {
       "output_type": "stream",
       "stream": "stdout",
       "text": [
        "131026-03:25:49,247 interface INFO:\n",
        "\t stdout 2013-10-26T03:25:49.246892:i_ras = (0.0489207, -0.998801, 0.00192262)\n"
       ]
      },
      {
       "output_type": "stream",
       "stream": "stdout",
       "text": [
        "131026-03:25:49,248 interface INFO:\n",
        "\t stdout 2013-10-26T03:25:49.246892:j_ras = (-0.0234687, 0.000762939, 0.999724)\n"
       ]
      },
      {
       "output_type": "stream",
       "stream": "stdout",
       "text": [
        "131026-03:25:49,248 interface INFO:\n",
        "\t stdout 2013-10-26T03:25:49.246892:k_ras = (0.998527, 0.0489523, 0.0234032)\n"
       ]
      },
      {
       "output_type": "stream",
       "stream": "stdout",
       "text": [
        "131026-03:25:49,248 interface INFO:\n",
        "\t stdout 2013-10-26T03:25:49.246892:Reslicing using trilinear interpolation \n"
       ]
      },
      {
       "output_type": "stream",
       "stream": "stdout",
       "text": [
        "131026-03:25:49,248 interface INFO:\n",
        "\t stdout 2013-10-26T03:25:49.246892:writing to /media/mnemea/MINDt-Quantidopa/PySBR-PhantomImages/temp/Process_All/GeneratePhantom/_subject_id_S238/resample/mapflow/_resample2/dat_phantom_grad2_out.nii.gz...\n"
       ]
      },
      {
       "output_type": "stream",
       "stream": "stdout",
       "text": [
        "131026-03:25:49,265 workflow INFO:\n",
        "\t Executing node _resample3 in dir: /media/mnemea/MINDt-Quantidopa/PySBR-PhantomImages/temp/Process_All/GeneratePhantom/_subject_id_S238/resample/mapflow/_resample3\n"
       ]
      },
      {
       "output_type": "stream",
       "stream": "stdout",
       "text": [
        "131026-03:25:49,288 workflow INFO:\n",
        "\t Running: mri_convert --out_data_type float -voxsize 3.900000 3.900000 3.900000 --input_volume /media/mnemea/MINDt-Quantidopa/PySBR-PhantomImages/temp/Process_All/GeneratePhantom/_subject_id_S238/Gen/dat_phantom_grad3.nii.gz --output_volume /media/mnemea/MINDt-Quantidopa/PySBR-PhantomImages/temp/Process_All/GeneratePhantom/_subject_id_S238/resample/mapflow/_resample3/dat_phantom_grad3_out.nii.gz\n"
       ]
      },
      {
       "output_type": "stream",
       "stream": "stdout",
       "text": [
        "131026-03:25:49,317 interface INFO:\n",
        "\t stdout 2013-10-26T03:25:49.317750:mri_convert --out_data_type float -voxsize 3.900000 3.900000 3.900000 --input_volume /media/mnemea/MINDt-Quantidopa/PySBR-PhantomImages/temp/Process_All/GeneratePhantom/_subject_id_S238/Gen/dat_phantom_grad3.nii.gz --output_volume /media/mnemea/MINDt-Quantidopa/PySBR-PhantomImages/temp/Process_All/GeneratePhantom/_subject_id_S238/resample/mapflow/_resample3/dat_phantom_grad3_out.nii.gz \n"
       ]
      },
      {
       "output_type": "stream",
       "stream": "stdout",
       "text": [
        "131026-03:25:49,987 interface INFO:\n",
        "\t stdout 2013-10-26T03:25:49.987905:$Id: mri_convert.c,v 1.179.2.7 2012/09/05 21:55:16 mreuter Exp $\n"
       ]
      },
      {
       "output_type": "stream",
       "stream": "stdout",
       "text": [
        "131026-03:25:49,988 interface INFO:\n",
        "\t stdout 2013-10-26T03:25:49.987905:reading from /media/mnemea/MINDt-Quantidopa/PySBR-PhantomImages/temp/Process_All/GeneratePhantom/_subject_id_S238/Gen/dat_phantom_grad3.nii.gz...\n"
       ]
      },
      {
       "output_type": "stream",
       "stream": "stdout",
       "text": [
        "131026-03:25:49,989 interface INFO:\n",
        "\t stdout 2013-10-26T03:25:49.987905:TR=0.00, TE=0.00, TI=0.00, flip angle=0.00\n"
       ]
      },
      {
       "output_type": "stream",
       "stream": "stdout",
       "text": [
        "131026-03:25:49,989 interface INFO:\n",
        "\t stdout 2013-10-26T03:25:49.987905:i_ras = (0.0489207, -0.998801, 0.00192262)\n"
       ]
      },
      {
       "output_type": "stream",
       "stream": "stdout",
       "text": [
        "131026-03:25:49,989 interface INFO:\n",
        "\t stdout 2013-10-26T03:25:49.987905:j_ras = (-0.0234687, 0.000762939, 0.999724)\n"
       ]
      },
      {
       "output_type": "stream",
       "stream": "stdout",
       "text": [
        "131026-03:25:49,989 interface INFO:\n",
        "\t stdout 2013-10-26T03:25:49.987905:k_ras = (0.998527, 0.0489523, 0.0234032)\n"
       ]
      },
      {
       "output_type": "stream",
       "stream": "stdout",
       "text": [
        "131026-03:25:49,990 interface INFO:\n",
        "\t stdout 2013-10-26T03:25:49.987905:Reslicing using trilinear interpolation \n"
       ]
      },
      {
       "output_type": "stream",
       "stream": "stdout",
       "text": [
        "131026-03:25:49,990 interface INFO:\n",
        "\t stdout 2013-10-26T03:25:49.987905:writing to /media/mnemea/MINDt-Quantidopa/PySBR-PhantomImages/temp/Process_All/GeneratePhantom/_subject_id_S238/resample/mapflow/_resample3/dat_phantom_grad3_out.nii.gz...\n"
       ]
      },
      {
       "output_type": "stream",
       "stream": "stdout",
       "text": [
        "131026-03:25:50,27 workflow INFO:\n",
        "\t Executing node datasink2.a28 in dir: /media/mnemea/MINDt-Quantidopa/PySBR-PhantomImages/temp/Process_All/_subject_id_S238/datasink2\n"
       ]
      },
      {
       "output_type": "stream",
       "stream": "stdout",
       "text": [
        "131026-03:25:50,61 workflow INFO:\n",
        "\t Executing node _datasink20 in dir: /media/mnemea/MINDt-Quantidopa/PySBR-PhantomImages/temp/Process_All/_subject_id_S238/datasink2/mapflow/_datasink20\n"
       ]
      },
      {
       "output_type": "stream",
       "stream": "stdout",
       "text": [
        "131026-03:25:50,171 workflow INFO:\n",
        "\t Executing node _datasink21 in dir: /media/mnemea/MINDt-Quantidopa/PySBR-PhantomImages/temp/Process_All/_subject_id_S238/datasink2/mapflow/_datasink21\n"
       ]
      },
      {
       "output_type": "stream",
       "stream": "stdout",
       "text": [
        "131026-03:25:50,262 workflow INFO:\n",
        "\t Executing node _datasink22 in dir: /media/mnemea/MINDt-Quantidopa/PySBR-PhantomImages/temp/Process_All/_subject_id_S238/datasink2/mapflow/_datasink22\n"
       ]
      },
      {
       "output_type": "stream",
       "stream": "stdout",
       "text": [
        "131026-03:25:50,345 workflow INFO:\n",
        "\t Executing node _datasink23 in dir: /media/mnemea/MINDt-Quantidopa/PySBR-PhantomImages/temp/Process_All/_subject_id_S238/datasink2/mapflow/_datasink23\n"
       ]
      },
      {
       "output_type": "stream",
       "stream": "stdout",
       "text": [
        "131026-03:25:50,478 workflow INFO:\n",
        "\t Executing node datasink.a25 in dir: /media/mnemea/MINDt-Quantidopa/PySBR-PhantomImages/temp/Process_All/_subject_id_S268/datasink\n"
       ]
      },
      {
       "output_type": "stream",
       "stream": "stdout",
       "text": [
        "131026-03:25:50,504 workflow INFO:\n",
        "\t Executing node _datasink0 in dir: /media/mnemea/MINDt-Quantidopa/PySBR-PhantomImages/temp/Process_All/_subject_id_S268/datasink/mapflow/_datasink0\n"
       ]
      },
      {
       "output_type": "stream",
       "stream": "stdout",
       "text": [
        "131026-03:25:50,617 workflow INFO:\n",
        "\t Executing node _datasink1 in dir: /media/mnemea/MINDt-Quantidopa/PySBR-PhantomImages/temp/Process_All/_subject_id_S268/datasink/mapflow/_datasink1\n"
       ]
      },
      {
       "output_type": "stream",
       "stream": "stdout",
       "text": [
        "131026-03:25:50,713 workflow INFO:\n",
        "\t Executing node _datasink2 in dir: /media/mnemea/MINDt-Quantidopa/PySBR-PhantomImages/temp/Process_All/_subject_id_S268/datasink/mapflow/_datasink2\n"
       ]
      },
      {
       "output_type": "stream",
       "stream": "stdout",
       "text": [
        "131026-03:25:50,810 workflow INFO:\n",
        "\t Executing node _datasink3 in dir: /media/mnemea/MINDt-Quantidopa/PySBR-PhantomImages/temp/Process_All/_subject_id_S268/datasink/mapflow/_datasink3\n"
       ]
      },
      {
       "output_type": "stream",
       "stream": "stdout",
       "text": [
        "131026-03:25:50,921 workflow INFO:\n",
        "\t Executing node applyreg.a16 in dir: /media/mnemea/MINDt-Quantidopa/PySBR-PhantomImages/temp/Process_All/GeneratePhantom/seg_to_orig/_subject_id_S618/applyreg\n"
       ]
      },
      {
       "output_type": "stream",
       "stream": "stdout",
       "text": [
        "131026-03:25:50,925 workflow INFO:\n",
        "\t Collecting precomputed outputs\n"
       ]
      },
      {
       "output_type": "stream",
       "stream": "stdout",
       "text": [
        "131026-03:25:50,929 workflow INFO:\n",
        "\t Executing node dsource.a04 in dir: /media/mnemea/MINDt-Quantidopa/PySBR-PhantomImages/temp/Process_All/_subject_id_S109/dsource\n"
       ]
      },
      {
       "output_type": "stream",
       "stream": "stdout",
       "text": [
        "131026-03:25:51,50 workflow INFO:\n",
        "\t Executing node Gen.a09 in dir: /media/mnemea/MINDt-Quantidopa/PySBR-PhantomImages/temp/Process_All/GeneratePhantom/_subject_id_S519/Gen\n"
       ]
      },
      {
       "output_type": "stream",
       "stream": "stdout",
       "text": [
        "131026-03:27:06,200 workflow INFO:\n",
        "\t Executing node resample.a09 in dir: /media/mnemea/MINDt-Quantidopa/PySBR-PhantomImages/temp/Process_All/GeneratePhantom/_subject_id_S519/resample\n"
       ]
      },
      {
       "output_type": "stream",
       "stream": "stdout",
       "text": [
        "131026-03:27:06,223 workflow INFO:\n",
        "\t Executing node _resample0 in dir: /media/mnemea/MINDt-Quantidopa/PySBR-PhantomImages/temp/Process_All/GeneratePhantom/_subject_id_S519/resample/mapflow/_resample0\n"
       ]
      },
      {
       "output_type": "stream",
       "stream": "stdout",
       "text": [
        "131026-03:27:06,252 workflow INFO:\n",
        "\t Running: mri_convert --out_data_type float -voxsize 3.900000 3.900000 3.900000 --input_volume /media/mnemea/MINDt-Quantidopa/PySBR-PhantomImages/temp/Process_All/GeneratePhantom/_subject_id_S519/Gen/dat_phantom_grad0.nii.gz --output_volume /media/mnemea/MINDt-Quantidopa/PySBR-PhantomImages/temp/Process_All/GeneratePhantom/_subject_id_S519/resample/mapflow/_resample0/dat_phantom_grad0_out.nii.gz\n"
       ]
      },
      {
       "output_type": "stream",
       "stream": "stdout",
       "text": [
        "131026-03:27:06,335 interface INFO:\n",
        "\t stdout 2013-10-26T03:27:06.334902:mri_convert --out_data_type float -voxsize 3.900000 3.900000 3.900000 --input_volume /media/mnemea/MINDt-Quantidopa/PySBR-PhantomImages/temp/Process_All/GeneratePhantom/_subject_id_S519/Gen/dat_phantom_grad0.nii.gz --output_volume /media/mnemea/MINDt-Quantidopa/PySBR-PhantomImages/temp/Process_All/GeneratePhantom/_subject_id_S519/resample/mapflow/_resample0/dat_phantom_grad0_out.nii.gz \n"
       ]
      },
      {
       "output_type": "stream",
       "stream": "stdout",
       "text": [
        "131026-03:27:07,37 interface INFO:\n",
        "\t stdout 2013-10-26T03:27:07.037241:$Id: mri_convert.c,v 1.179.2.7 2012/09/05 21:55:16 mreuter Exp $\n"
       ]
      },
      {
       "output_type": "stream",
       "stream": "stdout",
       "text": [
        "131026-03:27:07,37 interface INFO:\n",
        "\t stdout 2013-10-26T03:27:07.037241:reading from /media/mnemea/MINDt-Quantidopa/PySBR-PhantomImages/temp/Process_All/GeneratePhantom/_subject_id_S519/Gen/dat_phantom_grad0.nii.gz...\n"
       ]
      },
      {
       "output_type": "stream",
       "stream": "stdout",
       "text": [
        "131026-03:27:07,37 interface INFO:\n",
        "\t stdout 2013-10-26T03:27:07.037241:TR=0.00, TE=0.00, TI=0.00, flip angle=0.00\n"
       ]
      },
      {
       "output_type": "stream",
       "stream": "stdout",
       "text": [
        "131026-03:27:07,38 interface INFO:\n",
        "\t stdout 2013-10-26T03:27:07.037241:i_ras = (0.0360445, -0.99895, 0.0282627)\n"
       ]
      },
      {
       "output_type": "stream",
       "stream": "stdout",
       "text": [
        "131026-03:27:07,38 interface INFO:\n",
        "\t stdout 2013-10-26T03:27:07.037241:j_ras = (0.0278025, 0.0292725, 0.999185)\n"
       ]
      },
      {
       "output_type": "stream",
       "stream": "stdout",
       "text": [
        "131026-03:27:07,38 interface INFO:\n",
        "\t stdout 2013-10-26T03:27:07.037241:k_ras = (0.998963, 0.0352294, -0.0288285)\n"
       ]
      },
      {
       "output_type": "stream",
       "stream": "stdout",
       "text": [
        "131026-03:27:07,38 interface INFO:\n",
        "\t stdout 2013-10-26T03:27:07.037241:Reslicing using trilinear interpolation \n"
       ]
      },
      {
       "output_type": "stream",
       "stream": "stdout",
       "text": [
        "131026-03:27:07,39 interface INFO:\n",
        "\t stdout 2013-10-26T03:27:07.037241:writing to /media/mnemea/MINDt-Quantidopa/PySBR-PhantomImages/temp/Process_All/GeneratePhantom/_subject_id_S519/resample/mapflow/_resample0/dat_phantom_grad0_out.nii.gz...\n"
       ]
      },
      {
       "output_type": "stream",
       "stream": "stdout",
       "text": [
        "131026-03:27:07,55 workflow INFO:\n",
        "\t Executing node _resample1 in dir: /media/mnemea/MINDt-Quantidopa/PySBR-PhantomImages/temp/Process_All/GeneratePhantom/_subject_id_S519/resample/mapflow/_resample1\n"
       ]
      },
      {
       "output_type": "stream",
       "stream": "stdout",
       "text": [
        "131026-03:27:07,79 workflow INFO:\n",
        "\t Running: mri_convert --out_data_type float -voxsize 3.900000 3.900000 3.900000 --input_volume /media/mnemea/MINDt-Quantidopa/PySBR-PhantomImages/temp/Process_All/GeneratePhantom/_subject_id_S519/Gen/dat_phantom_grad1.nii.gz --output_volume /media/mnemea/MINDt-Quantidopa/PySBR-PhantomImages/temp/Process_All/GeneratePhantom/_subject_id_S519/resample/mapflow/_resample1/dat_phantom_grad1_out.nii.gz\n"
       ]
      },
      {
       "output_type": "stream",
       "stream": "stdout",
       "text": [
        "131026-03:27:07,108 interface INFO:\n",
        "\t stdout 2013-10-26T03:27:07.108330:mri_convert --out_data_type float -voxsize 3.900000 3.900000 3.900000 --input_volume /media/mnemea/MINDt-Quantidopa/PySBR-PhantomImages/temp/Process_All/GeneratePhantom/_subject_id_S519/Gen/dat_phantom_grad1.nii.gz --output_volume /media/mnemea/MINDt-Quantidopa/PySBR-PhantomImages/temp/Process_All/GeneratePhantom/_subject_id_S519/resample/mapflow/_resample1/dat_phantom_grad1_out.nii.gz \n"
       ]
      },
      {
       "output_type": "stream",
       "stream": "stdout",
       "text": [
        "131026-03:27:07,803 interface INFO:\n",
        "\t stdout 2013-10-26T03:27:07.803012:$Id: mri_convert.c,v 1.179.2.7 2012/09/05 21:55:16 mreuter Exp $\n"
       ]
      },
      {
       "output_type": "stream",
       "stream": "stdout",
       "text": [
        "131026-03:27:07,803 interface INFO:\n",
        "\t stdout 2013-10-26T03:27:07.803012:reading from /media/mnemea/MINDt-Quantidopa/PySBR-PhantomImages/temp/Process_All/GeneratePhantom/_subject_id_S519/Gen/dat_phantom_grad1.nii.gz...\n"
       ]
      },
      {
       "output_type": "stream",
       "stream": "stdout",
       "text": [
        "131026-03:27:07,803 interface INFO:\n",
        "\t stdout 2013-10-26T03:27:07.803012:TR=0.00, TE=0.00, TI=0.00, flip angle=0.00\n"
       ]
      },
      {
       "output_type": "stream",
       "stream": "stdout",
       "text": [
        "131026-03:27:07,804 interface INFO:\n",
        "\t stdout 2013-10-26T03:27:07.803012:i_ras = (0.0360445, -0.99895, 0.0282627)\n"
       ]
      },
      {
       "output_type": "stream",
       "stream": "stdout",
       "text": [
        "131026-03:27:07,804 interface INFO:\n",
        "\t stdout 2013-10-26T03:27:07.803012:j_ras = (0.0278025, 0.0292725, 0.999185)\n"
       ]
      },
      {
       "output_type": "stream",
       "stream": "stdout",
       "text": [
        "131026-03:27:07,804 interface INFO:\n",
        "\t stdout 2013-10-26T03:27:07.803012:k_ras = (0.998963, 0.0352294, -0.0288285)\n"
       ]
      },
      {
       "output_type": "stream",
       "stream": "stdout",
       "text": [
        "131026-03:27:07,804 interface INFO:\n",
        "\t stdout 2013-10-26T03:27:07.803012:Reslicing using trilinear interpolation \n"
       ]
      },
      {
       "output_type": "stream",
       "stream": "stdout",
       "text": [
        "131026-03:27:07,805 interface INFO:\n",
        "\t stdout 2013-10-26T03:27:07.803012:writing to /media/mnemea/MINDt-Quantidopa/PySBR-PhantomImages/temp/Process_All/GeneratePhantom/_subject_id_S519/resample/mapflow/_resample1/dat_phantom_grad1_out.nii.gz...\n"
       ]
      },
      {
       "output_type": "stream",
       "stream": "stdout",
       "text": [
        "131026-03:27:07,822 workflow INFO:\n",
        "\t Executing node _resample2 in dir: /media/mnemea/MINDt-Quantidopa/PySBR-PhantomImages/temp/Process_All/GeneratePhantom/_subject_id_S519/resample/mapflow/_resample2\n"
       ]
      },
      {
       "output_type": "stream",
       "stream": "stdout",
       "text": [
        "131026-03:27:07,846 workflow INFO:\n",
        "\t Running: mri_convert --out_data_type float -voxsize 3.900000 3.900000 3.900000 --input_volume /media/mnemea/MINDt-Quantidopa/PySBR-PhantomImages/temp/Process_All/GeneratePhantom/_subject_id_S519/Gen/dat_phantom_grad2.nii.gz --output_volume /media/mnemea/MINDt-Quantidopa/PySBR-PhantomImages/temp/Process_All/GeneratePhantom/_subject_id_S519/resample/mapflow/_resample2/dat_phantom_grad2_out.nii.gz\n"
       ]
      },
      {
       "output_type": "stream",
       "stream": "stdout",
       "text": [
        "131026-03:27:07,874 interface INFO:\n",
        "\t stdout 2013-10-26T03:27:07.874222:mri_convert --out_data_type float -voxsize 3.900000 3.900000 3.900000 --input_volume /media/mnemea/MINDt-Quantidopa/PySBR-PhantomImages/temp/Process_All/GeneratePhantom/_subject_id_S519/Gen/dat_phantom_grad2.nii.gz --output_volume /media/mnemea/MINDt-Quantidopa/PySBR-PhantomImages/temp/Process_All/GeneratePhantom/_subject_id_S519/resample/mapflow/_resample2/dat_phantom_grad2_out.nii.gz \n"
       ]
      },
      {
       "output_type": "stream",
       "stream": "stdout",
       "text": [
        "131026-03:27:08,569 interface INFO:\n",
        "\t stdout 2013-10-26T03:27:08.569907:$Id: mri_convert.c,v 1.179.2.7 2012/09/05 21:55:16 mreuter Exp $\n"
       ]
      },
      {
       "output_type": "stream",
       "stream": "stdout",
       "text": [
        "131026-03:27:08,570 interface INFO:\n",
        "\t stdout 2013-10-26T03:27:08.569907:reading from /media/mnemea/MINDt-Quantidopa/PySBR-PhantomImages/temp/Process_All/GeneratePhantom/_subject_id_S519/Gen/dat_phantom_grad2.nii.gz...\n"
       ]
      },
      {
       "output_type": "stream",
       "stream": "stdout",
       "text": [
        "131026-03:27:08,570 interface INFO:\n",
        "\t stdout 2013-10-26T03:27:08.569907:TR=0.00, TE=0.00, TI=0.00, flip angle=0.00\n"
       ]
      },
      {
       "output_type": "stream",
       "stream": "stdout",
       "text": [
        "131026-03:27:08,570 interface INFO:\n",
        "\t stdout 2013-10-26T03:27:08.569907:i_ras = (0.0360445, -0.99895, 0.0282627)\n"
       ]
      },
      {
       "output_type": "stream",
       "stream": "stdout",
       "text": [
        "131026-03:27:08,571 interface INFO:\n",
        "\t stdout 2013-10-26T03:27:08.569907:j_ras = (0.0278025, 0.0292725, 0.999185)\n"
       ]
      },
      {
       "output_type": "stream",
       "stream": "stdout",
       "text": [
        "131026-03:27:08,571 interface INFO:\n",
        "\t stdout 2013-10-26T03:27:08.569907:k_ras = (0.998963, 0.0352294, -0.0288285)\n"
       ]
      },
      {
       "output_type": "stream",
       "stream": "stdout",
       "text": [
        "131026-03:27:08,571 interface INFO:\n",
        "\t stdout 2013-10-26T03:27:08.569907:Reslicing using trilinear interpolation \n"
       ]
      },
      {
       "output_type": "stream",
       "stream": "stdout",
       "text": [
        "131026-03:27:08,571 interface INFO:\n",
        "\t stdout 2013-10-26T03:27:08.569907:writing to /media/mnemea/MINDt-Quantidopa/PySBR-PhantomImages/temp/Process_All/GeneratePhantom/_subject_id_S519/resample/mapflow/_resample2/dat_phantom_grad2_out.nii.gz...\n"
       ]
      },
      {
       "output_type": "stream",
       "stream": "stdout",
       "text": [
        "131026-03:27:08,587 workflow INFO:\n",
        "\t Executing node _resample3 in dir: /media/mnemea/MINDt-Quantidopa/PySBR-PhantomImages/temp/Process_All/GeneratePhantom/_subject_id_S519/resample/mapflow/_resample3\n"
       ]
      },
      {
       "output_type": "stream",
       "stream": "stdout",
       "text": [
        "131026-03:27:08,611 workflow INFO:\n",
        "\t Running: mri_convert --out_data_type float -voxsize 3.900000 3.900000 3.900000 --input_volume /media/mnemea/MINDt-Quantidopa/PySBR-PhantomImages/temp/Process_All/GeneratePhantom/_subject_id_S519/Gen/dat_phantom_grad3.nii.gz --output_volume /media/mnemea/MINDt-Quantidopa/PySBR-PhantomImages/temp/Process_All/GeneratePhantom/_subject_id_S519/resample/mapflow/_resample3/dat_phantom_grad3_out.nii.gz\n"
       ]
      },
      {
       "output_type": "stream",
       "stream": "stdout",
       "text": [
        "131026-03:27:08,639 interface INFO:\n",
        "\t stdout 2013-10-26T03:27:08.639065:mri_convert --out_data_type float -voxsize 3.900000 3.900000 3.900000 --input_volume /media/mnemea/MINDt-Quantidopa/PySBR-PhantomImages/temp/Process_All/GeneratePhantom/_subject_id_S519/Gen/dat_phantom_grad3.nii.gz --output_volume /media/mnemea/MINDt-Quantidopa/PySBR-PhantomImages/temp/Process_All/GeneratePhantom/_subject_id_S519/resample/mapflow/_resample3/dat_phantom_grad3_out.nii.gz \n"
       ]
      },
      {
       "output_type": "stream",
       "stream": "stdout",
       "text": [
        "131026-03:27:09,330 interface INFO:\n",
        "\t stdout 2013-10-26T03:27:09.330536:$Id: mri_convert.c,v 1.179.2.7 2012/09/05 21:55:16 mreuter Exp $\n"
       ]
      },
      {
       "output_type": "stream",
       "stream": "stdout",
       "text": [
        "131026-03:27:09,331 interface INFO:\n",
        "\t stdout 2013-10-26T03:27:09.330536:reading from /media/mnemea/MINDt-Quantidopa/PySBR-PhantomImages/temp/Process_All/GeneratePhantom/_subject_id_S519/Gen/dat_phantom_grad3.nii.gz...\n"
       ]
      },
      {
       "output_type": "stream",
       "stream": "stdout",
       "text": [
        "131026-03:27:09,331 interface INFO:\n",
        "\t stdout 2013-10-26T03:27:09.330536:TR=0.00, TE=0.00, TI=0.00, flip angle=0.00\n"
       ]
      },
      {
       "output_type": "stream",
       "stream": "stdout",
       "text": [
        "131026-03:27:09,331 interface INFO:\n",
        "\t stdout 2013-10-26T03:27:09.330536:i_ras = (0.0360445, -0.99895, 0.0282627)\n"
       ]
      },
      {
       "output_type": "stream",
       "stream": "stdout",
       "text": [
        "131026-03:27:09,331 interface INFO:\n",
        "\t stdout 2013-10-26T03:27:09.330536:j_ras = (0.0278025, 0.0292725, 0.999185)\n"
       ]
      },
      {
       "output_type": "stream",
       "stream": "stdout",
       "text": [
        "131026-03:27:09,332 interface INFO:\n",
        "\t stdout 2013-10-26T03:27:09.330536:k_ras = (0.998963, 0.0352294, -0.0288285)\n"
       ]
      },
      {
       "output_type": "stream",
       "stream": "stdout",
       "text": [
        "131026-03:27:09,332 interface INFO:\n",
        "\t stdout 2013-10-26T03:27:09.330536:Reslicing using trilinear interpolation \n"
       ]
      },
      {
       "output_type": "stream",
       "stream": "stdout",
       "text": [
        "131026-03:27:09,332 interface INFO:\n",
        "\t stdout 2013-10-26T03:27:09.330536:writing to /media/mnemea/MINDt-Quantidopa/PySBR-PhantomImages/temp/Process_All/GeneratePhantom/_subject_id_S519/resample/mapflow/_resample3/dat_phantom_grad3_out.nii.gz...\n"
       ]
      },
      {
       "output_type": "stream",
       "stream": "stdout",
       "text": [
        "131026-03:27:09,361 workflow INFO:\n",
        "\t Executing node datasink.a09 in dir: /media/mnemea/MINDt-Quantidopa/PySBR-PhantomImages/temp/Process_All/_subject_id_S519/datasink\n"
       ]
      },
      {
       "output_type": "stream",
       "stream": "stdout",
       "text": [
        "131026-03:27:09,384 workflow INFO:\n",
        "\t Executing node _datasink0 in dir: /media/mnemea/MINDt-Quantidopa/PySBR-PhantomImages/temp/Process_All/_subject_id_S519/datasink/mapflow/_datasink0\n"
       ]
      },
      {
       "output_type": "stream",
       "stream": "stdout",
       "text": [
        "131026-03:27:09,501 workflow INFO:\n",
        "\t Executing node _datasink1 in dir: /media/mnemea/MINDt-Quantidopa/PySBR-PhantomImages/temp/Process_All/_subject_id_S519/datasink/mapflow/_datasink1\n"
       ]
      },
      {
       "output_type": "stream",
       "stream": "stdout",
       "text": [
        "131026-03:27:09,597 workflow INFO:\n",
        "\t Executing node _datasink2 in dir: /media/mnemea/MINDt-Quantidopa/PySBR-PhantomImages/temp/Process_All/_subject_id_S519/datasink/mapflow/_datasink2\n"
       ]
      },
      {
       "output_type": "stream",
       "stream": "stdout",
       "text": [
        "131026-03:27:09,693 workflow INFO:\n",
        "\t Executing node _datasink3 in dir: /media/mnemea/MINDt-Quantidopa/PySBR-PhantomImages/temp/Process_All/_subject_id_S519/datasink/mapflow/_datasink3\n"
       ]
      },
      {
       "output_type": "stream",
       "stream": "stdout",
       "text": [
        "131026-03:27:09,801 workflow INFO:\n",
        "\t Executing node datasink2.a09 in dir: /media/mnemea/MINDt-Quantidopa/PySBR-PhantomImages/temp/Process_All/_subject_id_S519/datasink2\n"
       ]
      },
      {
       "output_type": "stream",
       "stream": "stdout",
       "text": [
        "131026-03:27:09,839 workflow INFO:\n",
        "\t Executing node _datasink20 in dir: /media/mnemea/MINDt-Quantidopa/PySBR-PhantomImages/temp/Process_All/_subject_id_S519/datasink2/mapflow/_datasink20\n"
       ]
      },
      {
       "output_type": "stream",
       "stream": "stdout",
       "text": [
        "131026-03:27:09,977 workflow INFO:\n",
        "\t Executing node _datasink21 in dir: /media/mnemea/MINDt-Quantidopa/PySBR-PhantomImages/temp/Process_All/_subject_id_S519/datasink2/mapflow/_datasink21\n"
       ]
      },
      {
       "output_type": "stream",
       "stream": "stdout",
       "text": [
        "131026-03:27:10,45 workflow INFO:\n",
        "\t Executing node _datasink22 in dir: /media/mnemea/MINDt-Quantidopa/PySBR-PhantomImages/temp/Process_All/_subject_id_S519/datasink2/mapflow/_datasink22\n"
       ]
      },
      {
       "output_type": "stream",
       "stream": "stdout",
       "text": [
        "131026-03:27:10,115 workflow INFO:\n",
        "\t Executing node _datasink23 in dir: /media/mnemea/MINDt-Quantidopa/PySBR-PhantomImages/temp/Process_All/_subject_id_S519/datasink2/mapflow/_datasink23\n"
       ]
      },
      {
       "output_type": "stream",
       "stream": "stdout",
       "text": [
        "131026-03:27:10,230 workflow INFO:\n",
        "\t Executing node applyreg.a04 in dir: /media/mnemea/MINDt-Quantidopa/PySBR-PhantomImages/temp/Process_All/GeneratePhantom/seg_to_orig/_subject_id_S109/applyreg\n"
       ]
      },
      {
       "output_type": "stream",
       "stream": "stdout",
       "text": [
        "131026-03:27:10,234 workflow INFO:\n",
        "\t Collecting precomputed outputs\n"
       ]
      },
      {
       "output_type": "stream",
       "stream": "stdout",
       "text": [
        "131026-03:27:10,237 workflow INFO:\n",
        "\t Executing node dsource.a22 in dir: /media/mnemea/MINDt-Quantidopa/PySBR-PhantomImages/temp/Process_All/_subject_id_S401/dsource\n"
       ]
      },
      {
       "output_type": "stream",
       "stream": "stdout",
       "text": [
        "131026-03:27:10,317 workflow INFO:\n",
        "\t Executing node applyreg.a22 in dir: /media/mnemea/MINDt-Quantidopa/PySBR-PhantomImages/temp/Process_All/GeneratePhantom/seg_to_orig/_subject_id_S401/applyreg\n"
       ]
      },
      {
       "output_type": "stream",
       "stream": "stdout",
       "text": [
        "131026-03:27:10,321 workflow INFO:\n",
        "\t Collecting precomputed outputs\n"
       ]
      },
      {
       "output_type": "stream",
       "stream": "stdout",
       "text": [
        "131026-03:27:10,326 workflow INFO:\n",
        "\t Executing node convert.a22 in dir: /media/mnemea/MINDt-Quantidopa/PySBR-PhantomImages/temp/Process_All/GeneratePhantom/seg_to_orig/_subject_id_S401/convert\n"
       ]
      },
      {
       "output_type": "stream",
       "stream": "stdout",
       "text": [
        "131026-03:27:10,329 workflow INFO:\n",
        "\t Collecting precomputed outputs\n"
       ]
      },
      {
       "output_type": "stream",
       "stream": "stdout",
       "text": [
        "131026-03:27:10,333 workflow INFO:\n",
        "\t Executing node dsource.a20 in dir: /media/mnemea/MINDt-Quantidopa/PySBR-PhantomImages/temp/Process_All/_subject_id_S505/dsource\n"
       ]
      },
      {
       "output_type": "stream",
       "stream": "stdout",
       "text": [
        "131026-03:27:10,400 workflow INFO:\n",
        "\t Executing node applyreg.a20 in dir: /media/mnemea/MINDt-Quantidopa/PySBR-PhantomImages/temp/Process_All/GeneratePhantom/seg_to_orig/_subject_id_S505/applyreg\n"
       ]
      },
      {
       "output_type": "stream",
       "stream": "stdout",
       "text": [
        "131026-03:27:10,403 workflow INFO:\n",
        "\t Collecting precomputed outputs\n"
       ]
      },
      {
       "output_type": "stream",
       "stream": "stdout",
       "text": [
        "131026-03:27:10,409 workflow INFO:\n",
        "\t Executing node convert.a20 in dir: /media/mnemea/MINDt-Quantidopa/PySBR-PhantomImages/temp/Process_All/GeneratePhantom/seg_to_orig/_subject_id_S505/convert\n"
       ]
      },
      {
       "output_type": "stream",
       "stream": "stdout",
       "text": [
        "131026-03:27:10,412 workflow INFO:\n",
        "\t Collecting precomputed outputs\n"
       ]
      },
      {
       "output_type": "stream",
       "stream": "stdout",
       "text": [
        "131026-03:27:10,417 workflow INFO:\n",
        "\t Executing node Gen.a20 in dir: /media/mnemea/MINDt-Quantidopa/PySBR-PhantomImages/temp/Process_All/GeneratePhantom/_subject_id_S505/Gen\n"
       ]
      },
      {
       "output_type": "stream",
       "stream": "stdout",
       "text": [
        "131026-03:28:25,751 workflow INFO:\n",
        "\t Executing node resample.a20 in dir: /media/mnemea/MINDt-Quantidopa/PySBR-PhantomImages/temp/Process_All/GeneratePhantom/_subject_id_S505/resample\n"
       ]
      },
      {
       "output_type": "stream",
       "stream": "stdout",
       "text": [
        "131026-03:28:25,833 workflow INFO:\n",
        "\t Executing node _resample0 in dir: /media/mnemea/MINDt-Quantidopa/PySBR-PhantomImages/temp/Process_All/GeneratePhantom/_subject_id_S505/resample/mapflow/_resample0\n"
       ]
      },
      {
       "output_type": "stream",
       "stream": "stdout",
       "text": [
        "131026-03:28:25,862 workflow INFO:\n",
        "\t Running: mri_convert --out_data_type float -voxsize 3.900000 3.900000 3.900000 --input_volume /media/mnemea/MINDt-Quantidopa/PySBR-PhantomImages/temp/Process_All/GeneratePhantom/_subject_id_S505/Gen/dat_phantom_grad0.nii.gz --output_volume /media/mnemea/MINDt-Quantidopa/PySBR-PhantomImages/temp/Process_All/GeneratePhantom/_subject_id_S505/resample/mapflow/_resample0/dat_phantom_grad0_out.nii.gz\n"
       ]
      },
      {
       "output_type": "stream",
       "stream": "stdout",
       "text": [
        "131026-03:28:25,891 interface INFO:\n",
        "\t stdout 2013-10-26T03:28:25.890932:mri_convert --out_data_type float -voxsize 3.900000 3.900000 3.900000 --input_volume /media/mnemea/MINDt-Quantidopa/PySBR-PhantomImages/temp/Process_All/GeneratePhantom/_subject_id_S505/Gen/dat_phantom_grad0.nii.gz --output_volume /media/mnemea/MINDt-Quantidopa/PySBR-PhantomImages/temp/Process_All/GeneratePhantom/_subject_id_S505/resample/mapflow/_resample0/dat_phantom_grad0_out.nii.gz \n"
       ]
      },
      {
       "output_type": "stream",
       "stream": "stdout",
       "text": [
        "131026-03:28:26,591 interface INFO:\n",
        "\t stdout 2013-10-26T03:28:26.591579:$Id: mri_convert.c,v 1.179.2.7 2012/09/05 21:55:16 mreuter Exp $\n"
       ]
      },
      {
       "output_type": "stream",
       "stream": "stdout",
       "text": [
        "131026-03:28:26,592 interface INFO:\n",
        "\t stdout 2013-10-26T03:28:26.591579:reading from /media/mnemea/MINDt-Quantidopa/PySBR-PhantomImages/temp/Process_All/GeneratePhantom/_subject_id_S505/Gen/dat_phantom_grad0.nii.gz...\n"
       ]
      },
      {
       "output_type": "stream",
       "stream": "stdout",
       "text": [
        "131026-03:28:26,592 interface INFO:\n",
        "\t stdout 2013-10-26T03:28:26.591579:TR=0.00, TE=0.00, TI=0.00, flip angle=0.00\n"
       ]
      },
      {
       "output_type": "stream",
       "stream": "stdout",
       "text": [
        "131026-03:28:26,592 interface INFO:\n",
        "\t stdout 2013-10-26T03:28:26.591579:i_ras = (0.0593102, -0.998239, -0.00111657)\n"
       ]
      },
      {
       "output_type": "stream",
       "stream": "stdout",
       "text": [
        "131026-03:28:26,592 interface INFO:\n",
        "\t stdout 2013-10-26T03:28:26.591579:j_ras = (0.0338808, 0.000895122, 0.999425)\n"
       ]
      },
      {
       "output_type": "stream",
       "stream": "stdout",
       "text": [
        "131026-03:28:26,593 interface INFO:\n",
        "\t stdout 2013-10-26T03:28:26.591579:k_ras = (0.997664, 0.0593139, -0.0338743)\n"
       ]
      },
      {
       "output_type": "stream",
       "stream": "stdout",
       "text": [
        "131026-03:28:26,593 interface INFO:\n",
        "\t stdout 2013-10-26T03:28:26.591579:Reslicing using trilinear interpolation \n"
       ]
      },
      {
       "output_type": "stream",
       "stream": "stdout",
       "text": [
        "131026-03:28:26,593 interface INFO:\n",
        "\t stdout 2013-10-26T03:28:26.591579:writing to /media/mnemea/MINDt-Quantidopa/PySBR-PhantomImages/temp/Process_All/GeneratePhantom/_subject_id_S505/resample/mapflow/_resample0/dat_phantom_grad0_out.nii.gz...\n"
       ]
      },
      {
       "output_type": "stream",
       "stream": "stdout",
       "text": [
        "131026-03:28:26,609 workflow INFO:\n",
        "\t Executing node _resample1 in dir: /media/mnemea/MINDt-Quantidopa/PySBR-PhantomImages/temp/Process_All/GeneratePhantom/_subject_id_S505/resample/mapflow/_resample1\n"
       ]
      },
      {
       "output_type": "stream",
       "stream": "stdout",
       "text": [
        "131026-03:28:26,633 workflow INFO:\n",
        "\t Running: mri_convert --out_data_type float -voxsize 3.900000 3.900000 3.900000 --input_volume /media/mnemea/MINDt-Quantidopa/PySBR-PhantomImages/temp/Process_All/GeneratePhantom/_subject_id_S505/Gen/dat_phantom_grad1.nii.gz --output_volume /media/mnemea/MINDt-Quantidopa/PySBR-PhantomImages/temp/Process_All/GeneratePhantom/_subject_id_S505/resample/mapflow/_resample1/dat_phantom_grad1_out.nii.gz\n"
       ]
      },
      {
       "output_type": "stream",
       "stream": "stdout",
       "text": [
        "131026-03:28:26,661 interface INFO:\n",
        "\t stdout 2013-10-26T03:28:26.661263:mri_convert --out_data_type float -voxsize 3.900000 3.900000 3.900000 --input_volume /media/mnemea/MINDt-Quantidopa/PySBR-PhantomImages/temp/Process_All/GeneratePhantom/_subject_id_S505/Gen/dat_phantom_grad1.nii.gz --output_volume /media/mnemea/MINDt-Quantidopa/PySBR-PhantomImages/temp/Process_All/GeneratePhantom/_subject_id_S505/resample/mapflow/_resample1/dat_phantom_grad1_out.nii.gz \n"
       ]
      },
      {
       "output_type": "stream",
       "stream": "stdout",
       "text": [
        "131026-03:28:27,344 interface INFO:\n",
        "\t stdout 2013-10-26T03:28:27.344097:$Id: mri_convert.c,v 1.179.2.7 2012/09/05 21:55:16 mreuter Exp $\n"
       ]
      },
      {
       "output_type": "stream",
       "stream": "stdout",
       "text": [
        "131026-03:28:27,344 interface INFO:\n",
        "\t stdout 2013-10-26T03:28:27.344097:reading from /media/mnemea/MINDt-Quantidopa/PySBR-PhantomImages/temp/Process_All/GeneratePhantom/_subject_id_S505/Gen/dat_phantom_grad1.nii.gz...\n"
       ]
      },
      {
       "output_type": "stream",
       "stream": "stdout",
       "text": [
        "131026-03:28:27,344 interface INFO:\n",
        "\t stdout 2013-10-26T03:28:27.344097:TR=0.00, TE=0.00, TI=0.00, flip angle=0.00\n"
       ]
      },
      {
       "output_type": "stream",
       "stream": "stdout",
       "text": [
        "131026-03:28:27,345 interface INFO:\n",
        "\t stdout 2013-10-26T03:28:27.344097:i_ras = (0.0593102, -0.998239, -0.00111657)\n"
       ]
      },
      {
       "output_type": "stream",
       "stream": "stdout",
       "text": [
        "131026-03:28:27,345 interface INFO:\n",
        "\t stdout 2013-10-26T03:28:27.344097:j_ras = (0.0338808, 0.000895122, 0.999425)\n"
       ]
      },
      {
       "output_type": "stream",
       "stream": "stdout",
       "text": [
        "131026-03:28:27,345 interface INFO:\n",
        "\t stdout 2013-10-26T03:28:27.344097:k_ras = (0.997664, 0.0593139, -0.0338743)\n"
       ]
      },
      {
       "output_type": "stream",
       "stream": "stdout",
       "text": [
        "131026-03:28:27,345 interface INFO:\n",
        "\t stdout 2013-10-26T03:28:27.344097:Reslicing using trilinear interpolation \n"
       ]
      },
      {
       "output_type": "stream",
       "stream": "stdout",
       "text": [
        "131026-03:28:27,345 interface INFO:\n",
        "\t stdout 2013-10-26T03:28:27.344097:writing to /media/mnemea/MINDt-Quantidopa/PySBR-PhantomImages/temp/Process_All/GeneratePhantom/_subject_id_S505/resample/mapflow/_resample1/dat_phantom_grad1_out.nii.gz...\n"
       ]
      },
      {
       "output_type": "stream",
       "stream": "stdout",
       "text": [
        "131026-03:28:27,361 workflow INFO:\n",
        "\t Executing node _resample2 in dir: /media/mnemea/MINDt-Quantidopa/PySBR-PhantomImages/temp/Process_All/GeneratePhantom/_subject_id_S505/resample/mapflow/_resample2\n"
       ]
      },
      {
       "output_type": "stream",
       "stream": "stdout",
       "text": [
        "131026-03:28:27,384 workflow INFO:\n",
        "\t Running: mri_convert --out_data_type float -voxsize 3.900000 3.900000 3.900000 --input_volume /media/mnemea/MINDt-Quantidopa/PySBR-PhantomImages/temp/Process_All/GeneratePhantom/_subject_id_S505/Gen/dat_phantom_grad2.nii.gz --output_volume /media/mnemea/MINDt-Quantidopa/PySBR-PhantomImages/temp/Process_All/GeneratePhantom/_subject_id_S505/resample/mapflow/_resample2/dat_phantom_grad2_out.nii.gz\n"
       ]
      },
      {
       "output_type": "stream",
       "stream": "stdout",
       "text": [
        "131026-03:28:27,412 interface INFO:\n",
        "\t stdout 2013-10-26T03:28:27.412444:mri_convert --out_data_type float -voxsize 3.900000 3.900000 3.900000 --input_volume /media/mnemea/MINDt-Quantidopa/PySBR-PhantomImages/temp/Process_All/GeneratePhantom/_subject_id_S505/Gen/dat_phantom_grad2.nii.gz --output_volume /media/mnemea/MINDt-Quantidopa/PySBR-PhantomImages/temp/Process_All/GeneratePhantom/_subject_id_S505/resample/mapflow/_resample2/dat_phantom_grad2_out.nii.gz \n"
       ]
      },
      {
       "output_type": "stream",
       "stream": "stdout",
       "text": [
        "131026-03:28:28,425 interface INFO:\n",
        "\t stdout 2013-10-26T03:28:28.425036:$Id: mri_convert.c,v 1.179.2.7 2012/09/05 21:55:16 mreuter Exp $\n"
       ]
      },
      {
       "output_type": "stream",
       "stream": "stdout",
       "text": [
        "131026-03:28:28,425 interface INFO:\n",
        "\t stdout 2013-10-26T03:28:28.425036:reading from /media/mnemea/MINDt-Quantidopa/PySBR-PhantomImages/temp/Process_All/GeneratePhantom/_subject_id_S505/Gen/dat_phantom_grad2.nii.gz...\n"
       ]
      },
      {
       "output_type": "stream",
       "stream": "stdout",
       "text": [
        "131026-03:28:28,425 interface INFO:\n",
        "\t stdout 2013-10-26T03:28:28.425036:TR=0.00, TE=0.00, TI=0.00, flip angle=0.00\n"
       ]
      },
      {
       "output_type": "stream",
       "stream": "stdout",
       "text": [
        "131026-03:28:28,426 interface INFO:\n",
        "\t stdout 2013-10-26T03:28:28.425036:i_ras = (0.0593102, -0.998239, -0.00111657)\n"
       ]
      },
      {
       "output_type": "stream",
       "stream": "stdout",
       "text": [
        "131026-03:28:28,426 interface INFO:\n",
        "\t stdout 2013-10-26T03:28:28.425036:j_ras = (0.0338808, 0.000895122, 0.999425)\n"
       ]
      },
      {
       "output_type": "stream",
       "stream": "stdout",
       "text": [
        "131026-03:28:28,426 interface INFO:\n",
        "\t stdout 2013-10-26T03:28:28.425036:k_ras = (0.997664, 0.0593139, -0.0338743)\n"
       ]
      },
      {
       "output_type": "stream",
       "stream": "stdout",
       "text": [
        "131026-03:28:28,426 interface INFO:\n",
        "\t stdout 2013-10-26T03:28:28.425036:Reslicing using trilinear interpolation \n"
       ]
      },
      {
       "output_type": "stream",
       "stream": "stdout",
       "text": [
        "131026-03:28:28,427 interface INFO:\n",
        "\t stdout 2013-10-26T03:28:28.425036:writing to /media/mnemea/MINDt-Quantidopa/PySBR-PhantomImages/temp/Process_All/GeneratePhantom/_subject_id_S505/resample/mapflow/_resample2/dat_phantom_grad2_out.nii.gz...\n"
       ]
      },
      {
       "output_type": "stream",
       "stream": "stdout",
       "text": [
        "131026-03:28:30,227 workflow INFO:\n",
        "\t Executing node _resample3 in dir: /media/mnemea/MINDt-Quantidopa/PySBR-PhantomImages/temp/Process_All/GeneratePhantom/_subject_id_S505/resample/mapflow/_resample3\n"
       ]
      },
      {
       "output_type": "stream",
       "stream": "stdout",
       "text": [
        "131026-03:28:30,504 workflow INFO:\n",
        "\t Running: mri_convert --out_data_type float -voxsize 3.900000 3.900000 3.900000 --input_volume /media/mnemea/MINDt-Quantidopa/PySBR-PhantomImages/temp/Process_All/GeneratePhantom/_subject_id_S505/Gen/dat_phantom_grad3.nii.gz --output_volume /media/mnemea/MINDt-Quantidopa/PySBR-PhantomImages/temp/Process_All/GeneratePhantom/_subject_id_S505/resample/mapflow/_resample3/dat_phantom_grad3_out.nii.gz\n"
       ]
      },
      {
       "output_type": "stream",
       "stream": "stdout",
       "text": [
        "131026-03:28:30,532 interface INFO:\n",
        "\t stdout 2013-10-26T03:28:30.532735:mri_convert --out_data_type float -voxsize 3.900000 3.900000 3.900000 --input_volume /media/mnemea/MINDt-Quantidopa/PySBR-PhantomImages/temp/Process_All/GeneratePhantom/_subject_id_S505/Gen/dat_phantom_grad3.nii.gz --output_volume /media/mnemea/MINDt-Quantidopa/PySBR-PhantomImages/temp/Process_All/GeneratePhantom/_subject_id_S505/resample/mapflow/_resample3/dat_phantom_grad3_out.nii.gz \n"
       ]
      },
      {
       "output_type": "stream",
       "stream": "stdout",
       "text": [
        "131026-03:28:31,223 interface INFO:\n",
        "\t stdout 2013-10-26T03:28:31.223703:$Id: mri_convert.c,v 1.179.2.7 2012/09/05 21:55:16 mreuter Exp $\n"
       ]
      },
      {
       "output_type": "stream",
       "stream": "stdout",
       "text": [
        "131026-03:28:31,224 interface INFO:\n",
        "\t stdout 2013-10-26T03:28:31.223703:reading from /media/mnemea/MINDt-Quantidopa/PySBR-PhantomImages/temp/Process_All/GeneratePhantom/_subject_id_S505/Gen/dat_phantom_grad3.nii.gz...\n"
       ]
      },
      {
       "output_type": "stream",
       "stream": "stdout",
       "text": [
        "131026-03:28:31,224 interface INFO:\n",
        "\t stdout 2013-10-26T03:28:31.223703:TR=0.00, TE=0.00, TI=0.00, flip angle=0.00\n"
       ]
      },
      {
       "output_type": "stream",
       "stream": "stdout",
       "text": [
        "131026-03:28:31,224 interface INFO:\n",
        "\t stdout 2013-10-26T03:28:31.223703:i_ras = (0.0593102, -0.998239, -0.00111657)\n"
       ]
      },
      {
       "output_type": "stream",
       "stream": "stdout",
       "text": [
        "131026-03:28:31,224 interface INFO:\n",
        "\t stdout 2013-10-26T03:28:31.223703:j_ras = (0.0338808, 0.000895122, 0.999425)\n"
       ]
      },
      {
       "output_type": "stream",
       "stream": "stdout",
       "text": [
        "131026-03:28:31,225 interface INFO:\n",
        "\t stdout 2013-10-26T03:28:31.223703:k_ras = (0.997664, 0.0593139, -0.0338743)\n"
       ]
      },
      {
       "output_type": "stream",
       "stream": "stdout",
       "text": [
        "131026-03:28:31,225 interface INFO:\n",
        "\t stdout 2013-10-26T03:28:31.223703:Reslicing using trilinear interpolation \n"
       ]
      },
      {
       "output_type": "stream",
       "stream": "stdout",
       "text": [
        "131026-03:28:31,225 interface INFO:\n",
        "\t stdout 2013-10-26T03:28:31.223703:writing to /media/mnemea/MINDt-Quantidopa/PySBR-PhantomImages/temp/Process_All/GeneratePhantom/_subject_id_S505/resample/mapflow/_resample3/dat_phantom_grad3_out.nii.gz...\n"
       ]
      },
      {
       "output_type": "stream",
       "stream": "stdout",
       "text": [
        "131026-03:28:31,259 workflow INFO:\n",
        "\t Executing node applyreg.a18 in dir: /media/mnemea/MINDt-Quantidopa/PySBR-PhantomImages/temp/Process_All/GeneratePhantom/seg_to_orig/_subject_id_S528/applyreg\n"
       ]
      },
      {
       "output_type": "stream",
       "stream": "stdout",
       "text": [
        "131026-03:28:31,263 workflow INFO:\n",
        "\t Collecting precomputed outputs\n"
       ]
      },
      {
       "output_type": "stream",
       "stream": "stdout",
       "text": [
        "131026-03:28:31,270 workflow INFO:\n",
        "\t Executing node convert.a17 in dir: /media/mnemea/MINDt-Quantidopa/PySBR-PhantomImages/temp/Process_All/GeneratePhantom/seg_to_orig/_subject_id_S116/convert\n"
       ]
      },
      {
       "output_type": "stream",
       "stream": "stdout",
       "text": [
        "131026-03:28:31,273 workflow INFO:\n",
        "\t Collecting precomputed outputs\n"
       ]
      },
      {
       "output_type": "stream",
       "stream": "stdout",
       "text": [
        "131026-03:28:31,278 workflow INFO:\n",
        "\t Executing node Gen.a17 in dir: /media/mnemea/MINDt-Quantidopa/PySBR-PhantomImages/temp/Process_All/GeneratePhantom/_subject_id_S116/Gen\n"
       ]
      },
      {
       "output_type": "stream",
       "stream": "stdout",
       "text": [
        "131026-03:29:43,734 workflow INFO:\n",
        "\t Executing node resample.a17 in dir: /media/mnemea/MINDt-Quantidopa/PySBR-PhantomImages/temp/Process_All/GeneratePhantom/_subject_id_S116/resample\n"
       ]
      },
      {
       "output_type": "stream",
       "stream": "stdout",
       "text": [
        "131026-03:29:43,759 workflow INFO:\n",
        "\t Executing node _resample0 in dir: /media/mnemea/MINDt-Quantidopa/PySBR-PhantomImages/temp/Process_All/GeneratePhantom/_subject_id_S116/resample/mapflow/_resample0\n"
       ]
      },
      {
       "output_type": "stream",
       "stream": "stdout",
       "text": [
        "131026-03:29:43,789 workflow INFO:\n",
        "\t Running: mri_convert --out_data_type float -voxsize 3.900000 3.900000 3.900000 --input_volume /media/mnemea/MINDt-Quantidopa/PySBR-PhantomImages/temp/Process_All/GeneratePhantom/_subject_id_S116/Gen/dat_phantom_grad0.nii.gz --output_volume /media/mnemea/MINDt-Quantidopa/PySBR-PhantomImages/temp/Process_All/GeneratePhantom/_subject_id_S116/resample/mapflow/_resample0/dat_phantom_grad0_out.nii.gz\n"
       ]
      },
      {
       "output_type": "stream",
       "stream": "stdout",
       "text": [
        "131026-03:29:43,820 interface INFO:\n",
        "\t stdout 2013-10-26T03:29:43.820137:mri_convert --out_data_type float -voxsize 3.900000 3.900000 3.900000 --input_volume /media/mnemea/MINDt-Quantidopa/PySBR-PhantomImages/temp/Process_All/GeneratePhantom/_subject_id_S116/Gen/dat_phantom_grad0.nii.gz --output_volume /media/mnemea/MINDt-Quantidopa/PySBR-PhantomImages/temp/Process_All/GeneratePhantom/_subject_id_S116/resample/mapflow/_resample0/dat_phantom_grad0_out.nii.gz \n"
       ]
      },
      {
       "output_type": "stream",
       "stream": "stdout",
       "text": [
        "131026-03:29:44,538 interface INFO:\n",
        "\t stdout 2013-10-26T03:29:44.538422:$Id: mri_convert.c,v 1.179.2.7 2012/09/05 21:55:16 mreuter Exp $\n"
       ]
      },
      {
       "output_type": "stream",
       "stream": "stdout",
       "text": [
        "131026-03:29:44,538 interface INFO:\n",
        "\t stdout 2013-10-26T03:29:44.538422:reading from /media/mnemea/MINDt-Quantidopa/PySBR-PhantomImages/temp/Process_All/GeneratePhantom/_subject_id_S116/Gen/dat_phantom_grad0.nii.gz...\n"
       ]
      },
      {
       "output_type": "stream",
       "stream": "stdout",
       "text": [
        "131026-03:29:44,539 interface INFO:\n",
        "\t stdout 2013-10-26T03:29:44.538422:TR=0.00, TE=0.00, TI=0.00, flip angle=0.00\n"
       ]
      },
      {
       "output_type": "stream",
       "stream": "stdout",
       "text": [
        "131026-03:29:44,539 interface INFO:\n",
        "\t stdout 2013-10-26T03:29:44.538422:i_ras = (-0.0548574, -0.982563, -0.177651)\n"
       ]
      },
      {
       "output_type": "stream",
       "stream": "stdout",
       "text": [
        "131026-03:29:44,539 interface INFO:\n",
        "\t stdout 2013-10-26T03:29:44.538422:j_ras = (-0.000262118, -0.177905, 0.984048)\n"
       ]
      },
      {
       "output_type": "stream",
       "stream": "stdout",
       "text": [
        "131026-03:29:44,539 interface INFO:\n",
        "\t stdout 2013-10-26T03:29:44.538422:k_ras = (0.998494, -0.0540289, -0.00950186)\n"
       ]
      },
      {
       "output_type": "stream",
       "stream": "stdout",
       "text": [
        "131026-03:29:44,540 interface INFO:\n",
        "\t stdout 2013-10-26T03:29:44.538422:Reslicing using trilinear interpolation \n"
       ]
      },
      {
       "output_type": "stream",
       "stream": "stdout",
       "text": [
        "131026-03:29:44,540 interface INFO:\n",
        "\t stdout 2013-10-26T03:29:44.538422:writing to /media/mnemea/MINDt-Quantidopa/PySBR-PhantomImages/temp/Process_All/GeneratePhantom/_subject_id_S116/resample/mapflow/_resample0/dat_phantom_grad0_out.nii.gz...\n"
       ]
      },
      {
       "output_type": "stream",
       "stream": "stdout",
       "text": [
        "131026-03:29:44,556 workflow INFO:\n",
        "\t Executing node _resample1 in dir: /media/mnemea/MINDt-Quantidopa/PySBR-PhantomImages/temp/Process_All/GeneratePhantom/_subject_id_S116/resample/mapflow/_resample1\n"
       ]
      },
      {
       "output_type": "stream",
       "stream": "stdout",
       "text": [
        "131026-03:29:44,580 workflow INFO:\n",
        "\t Running: mri_convert --out_data_type float -voxsize 3.900000 3.900000 3.900000 --input_volume /media/mnemea/MINDt-Quantidopa/PySBR-PhantomImages/temp/Process_All/GeneratePhantom/_subject_id_S116/Gen/dat_phantom_grad1.nii.gz --output_volume /media/mnemea/MINDt-Quantidopa/PySBR-PhantomImages/temp/Process_All/GeneratePhantom/_subject_id_S116/resample/mapflow/_resample1/dat_phantom_grad1_out.nii.gz\n"
       ]
      },
      {
       "output_type": "stream",
       "stream": "stdout",
       "text": [
        "131026-03:29:44,608 interface INFO:\n",
        "\t stdout 2013-10-26T03:29:44.608429:mri_convert --out_data_type float -voxsize 3.900000 3.900000 3.900000 --input_volume /media/mnemea/MINDt-Quantidopa/PySBR-PhantomImages/temp/Process_All/GeneratePhantom/_subject_id_S116/Gen/dat_phantom_grad1.nii.gz --output_volume /media/mnemea/MINDt-Quantidopa/PySBR-PhantomImages/temp/Process_All/GeneratePhantom/_subject_id_S116/resample/mapflow/_resample1/dat_phantom_grad1_out.nii.gz \n"
       ]
      },
      {
       "output_type": "stream",
       "stream": "stdout",
       "text": [
        "131026-03:29:45,290 interface INFO:\n",
        "\t stdout 2013-10-26T03:29:45.290670:$Id: mri_convert.c,v 1.179.2.7 2012/09/05 21:55:16 mreuter Exp $\n"
       ]
      },
      {
       "output_type": "stream",
       "stream": "stdout",
       "text": [
        "131026-03:29:45,291 interface INFO:\n",
        "\t stdout 2013-10-26T03:29:45.290670:reading from /media/mnemea/MINDt-Quantidopa/PySBR-PhantomImages/temp/Process_All/GeneratePhantom/_subject_id_S116/Gen/dat_phantom_grad1.nii.gz...\n"
       ]
      },
      {
       "output_type": "stream",
       "stream": "stdout",
       "text": [
        "131026-03:29:45,291 interface INFO:\n",
        "\t stdout 2013-10-26T03:29:45.290670:TR=0.00, TE=0.00, TI=0.00, flip angle=0.00\n"
       ]
      },
      {
       "output_type": "stream",
       "stream": "stdout",
       "text": [
        "131026-03:29:45,291 interface INFO:\n",
        "\t stdout 2013-10-26T03:29:45.290670:i_ras = (-0.0548574, -0.982563, -0.177651)\n"
       ]
      },
      {
       "output_type": "stream",
       "stream": "stdout",
       "text": [
        "131026-03:29:45,291 interface INFO:\n",
        "\t stdout 2013-10-26T03:29:45.290670:j_ras = (-0.000262118, -0.177905, 0.984048)\n"
       ]
      },
      {
       "output_type": "stream",
       "stream": "stdout",
       "text": [
        "131026-03:29:45,292 interface INFO:\n",
        "\t stdout 2013-10-26T03:29:45.290670:k_ras = (0.998494, -0.0540289, -0.00950186)\n"
       ]
      },
      {
       "output_type": "stream",
       "stream": "stdout",
       "text": [
        "131026-03:29:45,292 interface INFO:\n",
        "\t stdout 2013-10-26T03:29:45.290670:Reslicing using trilinear interpolation \n"
       ]
      },
      {
       "output_type": "stream",
       "stream": "stdout",
       "text": [
        "131026-03:29:45,292 interface INFO:\n",
        "\t stdout 2013-10-26T03:29:45.290670:writing to /media/mnemea/MINDt-Quantidopa/PySBR-PhantomImages/temp/Process_All/GeneratePhantom/_subject_id_S116/resample/mapflow/_resample1/dat_phantom_grad1_out.nii.gz...\n"
       ]
      },
      {
       "output_type": "stream",
       "stream": "stdout",
       "text": [
        "131026-03:29:45,309 workflow INFO:\n",
        "\t Executing node _resample2 in dir: /media/mnemea/MINDt-Quantidopa/PySBR-PhantomImages/temp/Process_All/GeneratePhantom/_subject_id_S116/resample/mapflow/_resample2\n"
       ]
      },
      {
       "output_type": "stream",
       "stream": "stdout",
       "text": [
        "131026-03:29:45,333 workflow INFO:\n",
        "\t Running: mri_convert --out_data_type float -voxsize 3.900000 3.900000 3.900000 --input_volume /media/mnemea/MINDt-Quantidopa/PySBR-PhantomImages/temp/Process_All/GeneratePhantom/_subject_id_S116/Gen/dat_phantom_grad2.nii.gz --output_volume /media/mnemea/MINDt-Quantidopa/PySBR-PhantomImages/temp/Process_All/GeneratePhantom/_subject_id_S116/resample/mapflow/_resample2/dat_phantom_grad2_out.nii.gz\n"
       ]
      },
      {
       "output_type": "stream",
       "stream": "stdout",
       "text": [
        "131026-03:29:45,360 interface INFO:\n",
        "\t stdout 2013-10-26T03:29:45.360851:mri_convert --out_data_type float -voxsize 3.900000 3.900000 3.900000 --input_volume /media/mnemea/MINDt-Quantidopa/PySBR-PhantomImages/temp/Process_All/GeneratePhantom/_subject_id_S116/Gen/dat_phantom_grad2.nii.gz --output_volume /media/mnemea/MINDt-Quantidopa/PySBR-PhantomImages/temp/Process_All/GeneratePhantom/_subject_id_S116/resample/mapflow/_resample2/dat_phantom_grad2_out.nii.gz \n"
       ]
      },
      {
       "output_type": "stream",
       "stream": "stdout",
       "text": [
        "131026-03:29:46,41 interface INFO:\n",
        "\t stdout 2013-10-26T03:29:46.041655:$Id: mri_convert.c,v 1.179.2.7 2012/09/05 21:55:16 mreuter Exp $\n"
       ]
      },
      {
       "output_type": "stream",
       "stream": "stdout",
       "text": [
        "131026-03:29:46,42 interface INFO:\n",
        "\t stdout 2013-10-26T03:29:46.041655:reading from /media/mnemea/MINDt-Quantidopa/PySBR-PhantomImages/temp/Process_All/GeneratePhantom/_subject_id_S116/Gen/dat_phantom_grad2.nii.gz...\n"
       ]
      },
      {
       "output_type": "stream",
       "stream": "stdout",
       "text": [
        "131026-03:29:46,42 interface INFO:\n",
        "\t stdout 2013-10-26T03:29:46.041655:TR=0.00, TE=0.00, TI=0.00, flip angle=0.00\n"
       ]
      },
      {
       "output_type": "stream",
       "stream": "stdout",
       "text": [
        "131026-03:29:46,42 interface INFO:\n",
        "\t stdout 2013-10-26T03:29:46.041655:i_ras = (-0.0548574, -0.982563, -0.177651)\n"
       ]
      },
      {
       "output_type": "stream",
       "stream": "stdout",
       "text": [
        "131026-03:29:46,42 interface INFO:\n",
        "\t stdout 2013-10-26T03:29:46.041655:j_ras = (-0.000262118, -0.177905, 0.984048)\n"
       ]
      },
      {
       "output_type": "stream",
       "stream": "stdout",
       "text": [
        "131026-03:29:46,43 interface INFO:\n",
        "\t stdout 2013-10-26T03:29:46.041655:k_ras = (0.998494, -0.0540289, -0.00950186)\n"
       ]
      },
      {
       "output_type": "stream",
       "stream": "stdout",
       "text": [
        "131026-03:29:46,43 interface INFO:\n",
        "\t stdout 2013-10-26T03:29:46.041655:Reslicing using trilinear interpolation \n"
       ]
      },
      {
       "output_type": "stream",
       "stream": "stdout",
       "text": [
        "131026-03:29:46,43 interface INFO:\n",
        "\t stdout 2013-10-26T03:29:46.041655:writing to /media/mnemea/MINDt-Quantidopa/PySBR-PhantomImages/temp/Process_All/GeneratePhantom/_subject_id_S116/resample/mapflow/_resample2/dat_phantom_grad2_out.nii.gz...\n"
       ]
      },
      {
       "output_type": "stream",
       "stream": "stdout",
       "text": [
        "131026-03:29:46,59 workflow INFO:\n",
        "\t Executing node _resample3 in dir: /media/mnemea/MINDt-Quantidopa/PySBR-PhantomImages/temp/Process_All/GeneratePhantom/_subject_id_S116/resample/mapflow/_resample3\n"
       ]
      },
      {
       "output_type": "stream",
       "stream": "stdout",
       "text": [
        "131026-03:29:46,83 workflow INFO:\n",
        "\t Running: mri_convert --out_data_type float -voxsize 3.900000 3.900000 3.900000 --input_volume /media/mnemea/MINDt-Quantidopa/PySBR-PhantomImages/temp/Process_All/GeneratePhantom/_subject_id_S116/Gen/dat_phantom_grad3.nii.gz --output_volume /media/mnemea/MINDt-Quantidopa/PySBR-PhantomImages/temp/Process_All/GeneratePhantom/_subject_id_S116/resample/mapflow/_resample3/dat_phantom_grad3_out.nii.gz\n"
       ]
      },
      {
       "output_type": "stream",
       "stream": "stdout",
       "text": [
        "131026-03:29:46,203 interface INFO:\n",
        "\t stdout 2013-10-26T03:29:46.203436:mri_convert --out_data_type float -voxsize 3.900000 3.900000 3.900000 --input_volume /media/mnemea/MINDt-Quantidopa/PySBR-PhantomImages/temp/Process_All/GeneratePhantom/_subject_id_S116/Gen/dat_phantom_grad3.nii.gz --output_volume /media/mnemea/MINDt-Quantidopa/PySBR-PhantomImages/temp/Process_All/GeneratePhantom/_subject_id_S116/resample/mapflow/_resample3/dat_phantom_grad3_out.nii.gz \n"
       ]
      },
      {
       "output_type": "stream",
       "stream": "stdout",
       "text": [
        "131026-03:29:47,786 interface INFO:\n",
        "\t stdout 2013-10-26T03:29:47.786928:$Id: mri_convert.c,v 1.179.2.7 2012/09/05 21:55:16 mreuter Exp $\n"
       ]
      },
      {
       "output_type": "stream",
       "stream": "stdout",
       "text": [
        "131026-03:29:47,787 interface INFO:\n",
        "\t stdout 2013-10-26T03:29:47.786928:reading from /media/mnemea/MINDt-Quantidopa/PySBR-PhantomImages/temp/Process_All/GeneratePhantom/_subject_id_S116/Gen/dat_phantom_grad3.nii.gz...\n"
       ]
      },
      {
       "output_type": "stream",
       "stream": "stdout",
       "text": [
        "131026-03:29:47,787 interface INFO:\n",
        "\t stdout 2013-10-26T03:29:47.786928:TR=0.00, TE=0.00, TI=0.00, flip angle=0.00\n"
       ]
      },
      {
       "output_type": "stream",
       "stream": "stdout",
       "text": [
        "131026-03:29:47,788 interface INFO:\n",
        "\t stdout 2013-10-26T03:29:47.786928:i_ras = (-0.0548574, -0.982563, -0.177651)\n"
       ]
      },
      {
       "output_type": "stream",
       "stream": "stdout",
       "text": [
        "131026-03:29:47,789 interface INFO:\n",
        "\t stdout 2013-10-26T03:29:47.786928:j_ras = (-0.000262118, -0.177905, 0.984048)\n"
       ]
      },
      {
       "output_type": "stream",
       "stream": "stdout",
       "text": [
        "131026-03:29:47,789 interface INFO:\n",
        "\t stdout 2013-10-26T03:29:47.786928:k_ras = (0.998494, -0.0540289, -0.00950186)\n"
       ]
      },
      {
       "output_type": "stream",
       "stream": "stdout",
       "text": [
        "131026-03:29:47,790 interface INFO:\n",
        "\t stdout 2013-10-26T03:29:47.786928:Reslicing using trilinear interpolation \n"
       ]
      },
      {
       "output_type": "stream",
       "stream": "stdout",
       "text": [
        "131026-03:29:47,790 interface INFO:\n",
        "\t stdout 2013-10-26T03:29:47.786928:writing to /media/mnemea/MINDt-Quantidopa/PySBR-PhantomImages/temp/Process_All/GeneratePhantom/_subject_id_S116/resample/mapflow/_resample3/dat_phantom_grad3_out.nii.gz...\n"
       ]
      },
      {
       "output_type": "stream",
       "stream": "stdout",
       "text": [
        "131026-03:29:48,867 workflow INFO:\n",
        "\t Executing node datasink.a17 in dir: /media/mnemea/MINDt-Quantidopa/PySBR-PhantomImages/temp/Process_All/_subject_id_S116/datasink\n"
       ]
      },
      {
       "output_type": "stream",
       "stream": "stdout",
       "text": [
        "131026-03:29:48,891 workflow INFO:\n",
        "\t Executing node _datasink0 in dir: /media/mnemea/MINDt-Quantidopa/PySBR-PhantomImages/temp/Process_All/_subject_id_S116/datasink/mapflow/_datasink0\n"
       ]
      },
      {
       "output_type": "stream",
       "stream": "stdout",
       "text": [
        "131026-03:29:49,11 workflow INFO:\n",
        "\t Executing node _datasink1 in dir: /media/mnemea/MINDt-Quantidopa/PySBR-PhantomImages/temp/Process_All/_subject_id_S116/datasink/mapflow/_datasink1\n"
       ]
      },
      {
       "output_type": "stream",
       "stream": "stdout",
       "text": [
        "131026-03:29:49,109 workflow INFO:\n",
        "\t Executing node _datasink2 in dir: /media/mnemea/MINDt-Quantidopa/PySBR-PhantomImages/temp/Process_All/_subject_id_S116/datasink/mapflow/_datasink2\n"
       ]
      },
      {
       "output_type": "stream",
       "stream": "stdout",
       "text": [
        "131026-03:29:49,208 workflow INFO:\n",
        "\t Executing node _datasink3 in dir: /media/mnemea/MINDt-Quantidopa/PySBR-PhantomImages/temp/Process_All/_subject_id_S116/datasink/mapflow/_datasink3\n"
       ]
      },
      {
       "output_type": "stream",
       "stream": "stdout",
       "text": [
        "131026-03:29:49,318 workflow INFO:\n",
        "\t Executing node datasink2.a17 in dir: /media/mnemea/MINDt-Quantidopa/PySBR-PhantomImages/temp/Process_All/_subject_id_S116/datasink2\n"
       ]
      },
      {
       "output_type": "stream",
       "stream": "stdout",
       "text": [
        "131026-03:29:49,352 workflow INFO:\n",
        "\t Executing node _datasink20 in dir: /media/mnemea/MINDt-Quantidopa/PySBR-PhantomImages/temp/Process_All/_subject_id_S116/datasink2/mapflow/_datasink20\n"
       ]
      },
      {
       "output_type": "stream",
       "stream": "stdout",
       "text": [
        "131026-03:29:49,442 workflow INFO:\n",
        "\t Executing node _datasink21 in dir: /media/mnemea/MINDt-Quantidopa/PySBR-PhantomImages/temp/Process_All/_subject_id_S116/datasink2/mapflow/_datasink21\n"
       ]
      },
      {
       "output_type": "stream",
       "stream": "stdout",
       "text": [
        "131026-03:29:49,503 workflow INFO:\n",
        "\t Executing node _datasink22 in dir: /media/mnemea/MINDt-Quantidopa/PySBR-PhantomImages/temp/Process_All/_subject_id_S116/datasink2/mapflow/_datasink22\n"
       ]
      },
      {
       "output_type": "stream",
       "stream": "stdout",
       "text": [
        "131026-03:29:49,564 workflow INFO:\n",
        "\t Executing node _datasink23 in dir: /media/mnemea/MINDt-Quantidopa/PySBR-PhantomImages/temp/Process_All/_subject_id_S116/datasink2/mapflow/_datasink23\n"
       ]
      },
      {
       "output_type": "stream",
       "stream": "stdout",
       "text": [
        "131026-03:29:49,649 workflow INFO:\n",
        "\t Executing node Gen.a27 in dir: /media/mnemea/MINDt-Quantidopa/PySBR-PhantomImages/temp/Process_All/GeneratePhantom/_subject_id_S231/Gen\n"
       ]
      },
      {
       "output_type": "stream",
       "stream": "stdout",
       "text": [
        "131026-03:30:58,89 workflow INFO:\n",
        "\t Executing node datasink2.a27 in dir: /media/mnemea/MINDt-Quantidopa/PySBR-PhantomImages/temp/Process_All/_subject_id_S231/datasink2\n"
       ]
      },
      {
       "output_type": "stream",
       "stream": "stdout",
       "text": [
        "131026-03:30:58,115 workflow INFO:\n",
        "\t Executing node _datasink20 in dir: /media/mnemea/MINDt-Quantidopa/PySBR-PhantomImages/temp/Process_All/_subject_id_S231/datasink2/mapflow/_datasink20\n"
       ]
      },
      {
       "output_type": "stream",
       "stream": "stdout",
       "text": [
        "131026-03:30:58,211 workflow INFO:\n",
        "\t Executing node _datasink21 in dir: /media/mnemea/MINDt-Quantidopa/PySBR-PhantomImages/temp/Process_All/_subject_id_S231/datasink2/mapflow/_datasink21\n"
       ]
      },
      {
       "output_type": "stream",
       "stream": "stdout",
       "text": [
        "131026-03:30:58,303 workflow INFO:\n",
        "\t Executing node _datasink22 in dir: /media/mnemea/MINDt-Quantidopa/PySBR-PhantomImages/temp/Process_All/_subject_id_S231/datasink2/mapflow/_datasink22\n"
       ]
      },
      {
       "output_type": "stream",
       "stream": "stdout",
       "text": [
        "131026-03:30:58,381 workflow INFO:\n",
        "\t Executing node _datasink23 in dir: /media/mnemea/MINDt-Quantidopa/PySBR-PhantomImages/temp/Process_All/_subject_id_S231/datasink2/mapflow/_datasink23\n"
       ]
      },
      {
       "output_type": "stream",
       "stream": "stdout",
       "text": [
        "131026-03:30:58,462 workflow INFO:\n",
        "\t Executing node convert.a18 in dir: /media/mnemea/MINDt-Quantidopa/PySBR-PhantomImages/temp/Process_All/GeneratePhantom/seg_to_orig/_subject_id_S528/convert\n"
       ]
      },
      {
       "output_type": "stream",
       "stream": "stdout",
       "text": [
        "131026-03:30:58,465 workflow INFO:\n",
        "\t Collecting precomputed outputs\n"
       ]
      },
      {
       "output_type": "stream",
       "stream": "stdout",
       "text": [
        "131026-03:30:58,472 workflow INFO:\n",
        "\t Executing node convert.a05 in dir: /media/mnemea/MINDt-Quantidopa/PySBR-PhantomImages/temp/Process_All/GeneratePhantom/seg_to_orig/_subject_id_S063/convert\n"
       ]
      },
      {
       "output_type": "stream",
       "stream": "stdout",
       "text": [
        "131026-03:30:58,475 workflow INFO:\n",
        "\t Collecting precomputed outputs\n"
       ]
      },
      {
       "output_type": "stream",
       "stream": "stdout",
       "text": [
        "131026-03:30:58,480 workflow INFO:\n",
        "\t Executing node Gen.a05 in dir: /media/mnemea/MINDt-Quantidopa/PySBR-PhantomImages/temp/Process_All/GeneratePhantom/_subject_id_S063/Gen\n"
       ]
      }
     ],
     "prompt_number": "*"
    },
    {
     "cell_type": "code",
     "collapsed": false,
     "input": [
      "gen = pysbr.PhantomGenerate()\n",
      "gen.inputs.in_file = '/media/mnemea/MINDt-Quantidopa/PySBR-PhantomImages/Process_All/GeneratePhantom/seg_to_orig/_subject_id_S480/convert/aseg_warped_out.nii.gz'\n",
      "gen.inputs.grade = range(0,4)\n",
      "gen.inputs.out_prefix = work_dir + '/testgen'\n",
      "gen.run()"
     ],
     "language": "python",
     "metadata": {},
     "outputs": []
    }
   ],
   "metadata": {}
  }
 ]
}
{
 "metadata": {
  "name": "Untitled0"
 },
 "nbformat": 3,
 "nbformat_minor": 0,
 "worksheets": [
  {
   "cells": [
    {
     "cell_type": "code",
     "collapsed": false,
     "input": [
      "import nibabel as nib \n",
      "import numpy as np\n",
      "import sbr\n",
      "image = nib.load('../../thin-testinput.nii.gz')\n",
      "testresult = nib.load('../../thin-testresult.nii.gz')\n",
      "d1 = np.asarray(image.get_data(), dtype=\"bool\", order='F')\n",
      "\n",
      "sbr.thinning3d(d1)\n",
      "\n",
      "\n",
      "x = np.logical_xor(d1, testresult.get_data())\n",
      "print(not np.any(x))"
     ],
     "language": "python",
     "metadata": {},
     "outputs": [
      {
       "output_type": "stream",
       "stream": "stdout",
       "text": [
        "True\n"
       ]
      }
     ],
     "prompt_number": 6
    },
    {
     "cell_type": "code",
     "collapsed": false,
     "input": [
      "d2 = np.asarray(testresult.get_data(), dtype=\"bool\")\n",
      "sbr.thinning3d(d2)\n",
      "testd2 = np.asarray(testresult.get_data(), dtype=\"bool\")\n",
      "\n",
      "y = np.logical_xor(d2, testd2)\n",
      "print(not np.any(y))"
     ],
     "language": "python",
     "metadata": {},
     "outputs": [
      {
       "output_type": "stream",
       "stream": "stdout",
       "text": [
        "True\n"
       ]
      }
     ],
     "prompt_number": 7
    }
   ],
   "metadata": {}
  }
 ]
}